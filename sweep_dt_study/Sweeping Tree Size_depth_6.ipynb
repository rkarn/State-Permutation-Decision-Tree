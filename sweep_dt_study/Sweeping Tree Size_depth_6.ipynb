{
 "cells": [
  {
   "cell_type": "code",
   "execution_count": 1,
   "id": "7d152de8",
   "metadata": {},
   "outputs": [
    {
     "name": "stdout",
     "output_type": "stream",
     "text": [
      "(60000, 784) (60000,)\n",
      "(10000, 784) (10000,)\n"
     ]
    }
   ],
   "source": [
    "import idx2numpy\n",
    "import seaborn as sns\n",
    "X_train_3D = idx2numpy.convert_from_file('../MNIST_dataset/train-images-idx3-ubyte')\n",
    "X_train = X_train_3D.flatten().reshape(60000,784)\n",
    "\n",
    "y_train = idx2numpy.convert_from_file('../MNIST_dataset/train-labels-idx1-ubyte')\n",
    "print(X_train.shape, y_train.shape)\n",
    "X_test_3D = idx2numpy.convert_from_file('../MNIST_dataset/t10k-images-idx3-ubyte')\n",
    "X_test =  X_test_3D.flatten().reshape(10000,784)\n",
    "\n",
    "y_test = idx2numpy.convert_from_file('../MNIST_dataset/t10k-labels-idx1-ubyte')\n",
    "print(X_test.shape, y_test.shape)"
   ]
  },
  {
   "cell_type": "code",
   "execution_count": 2,
   "id": "4e0ce7da",
   "metadata": {},
   "outputs": [
    {
     "name": "stdout",
     "output_type": "stream",
     "text": [
      "DecisionTreeClassifier(max_depth=6)\n",
      "Number of nodes in the decision tree 127.\n",
      "Number of threshold in the decision tree 127.\n",
      "Number of leaves in the decision tree 64. It will be number of states in sequential FSM.\n",
      "0.74314 0.7471\n"
     ]
    }
   ],
   "source": [
    "import numpy as np\n",
    "from sklearn.utils import shuffle\n",
    "X_shuffle,y_shuffle = shuffle(X_train,y_train)\n",
    "X_train = X_shuffle[0:50000]\n",
    "y_train = y_shuffle[0:50000]\n",
    "\n",
    "from sklearn import tree\n",
    "from sklearn.model_selection import cross_val_predict\n",
    "dt_max_depth=6\n",
    "#dt_clf = tree.DecisionTreeClassifier(max_depth=20, max_leaf_nodes=300)\n",
    "dt_clf = tree.DecisionTreeClassifier(max_depth=dt_max_depth)\n",
    "\n",
    "y_train_pred = cross_val_predict(dt_clf, X_train, y_train, cv=2)\n",
    "print(dt_clf.fit(X_train, y_train))\n",
    "\n",
    "print('Number of nodes in the decision tree {}.'.format(dt_clf.tree_.node_count))\n",
    "print('Number of threshold in the decision tree {}.'.format(len(dt_clf.tree_.threshold)))\n",
    "print('Number of leaves in the decision tree {}. It will be number of states in sequential FSM.'.format(dt_clf.tree_.n_leaves))\n",
    "\n",
    "from sklearn.metrics import accuracy_score\n",
    "print(accuracy_score(y_train, dt_clf.predict(X_train)), accuracy_score(y_test, dt_clf.predict(X_test)))"
   ]
  },
  {
   "cell_type": "markdown",
   "id": "8bb46766",
   "metadata": {},
   "source": [
    "#### Run this cell twice."
   ]
  },
  {
   "cell_type": "code",
   "execution_count": 4,
   "id": "5cdc14bb",
   "metadata": {},
   "outputs": [],
   "source": [
    "%%capture cap --no-stderr\n",
    "from sklearn.tree import _tree\n",
    "\n",
    "def tree_to_code(tree, feature_names):\n",
    "    tree_ = tree.tree_\n",
    "    feature_name = [\n",
    "        feature_names[i] if i != _tree.TREE_UNDEFINED else \"undefined!\"\n",
    "        for i in tree_.feature\n",
    "    ]\n",
    "    \n",
    "    def recurse(node, depth):\n",
    "        indent = \"  \" * depth\n",
    "        if tree_.feature[node] != _tree.TREE_UNDEFINED:\n",
    "            name = feature_name[node]\n",
    "            threshold = tree_.threshold[node]\n",
    "            print (\"{}{}:if ({} <= {})\".format(indent, node, name, int(round(threshold,3)))) \n",
    "            recurse(tree_.children_left[node], depth + 1)\n",
    "            print (\"{}{}:else \".format(indent, node, name, int(round(threshold,3))))\n",
    "            recurse(tree_.children_right[node], depth + 1)\n",
    "        else:\n",
    "            print (\"{} Label<={};\".format(indent, np.argmax(tree_.value[node][0],axis=0)))\n",
    "\n",
    "    recurse(0, 1)\n",
    "\n",
    "cols = range(784)\n",
    "features = ['pixels[{}]'.format(str(i)) for i in cols]\n",
    "class_names = [str(i) for i in dt_clf.classes_]\n",
    "tree_to_code(dt_clf, features)\n",
    "\n",
    "with open('decision_rules_mnist.txt', 'w') as f:\n",
    "    f.write(cap.stdout)"
   ]
  },
  {
   "cell_type": "markdown",
   "id": "333190e3",
   "metadata": {},
   "source": [
    "#### Run this cell twice."
   ]
  },
  {
   "cell_type": "code",
   "execution_count": 6,
   "id": "1c6652cf",
   "metadata": {},
   "outputs": [],
   "source": [
    "%%capture cap --no-stderr\n",
    "\n",
    "import pdb\n",
    "def write_file(data_towrite):\n",
    "    with open('verilog_file.v', 'a', encoding='utf-8') as file:\n",
    "        file.writelines(data_towrite)\n",
    "        file.close()\n",
    "        \n",
    "def write_line_file(data_towrite, line_num):\n",
    "    with open('verilog_file.v', 'r', encoding='utf-8') as file:\n",
    "        file_content = file.readlines()\n",
    "        file.close()\n",
    "    file_content[line_num] = file_content[line_num].replace('\\n','') + ' ' + data_towrite + '\\n'  \n",
    "    with open('verilog_file.v', 'w', encoding='utf-8') as file:\n",
    "        file.writelines(file_content)\n",
    "        file.close()\n",
    "        \n",
    "def search_content_file(word):\n",
    "    with open('verilog_file.v', 'r') as file:\n",
    "        file_content = file.readlines()\n",
    "        for line_num,line in enumerate(file_content):\n",
    "            if word in line:\n",
    "                return(line_num)\n",
    "        return(\"content doesn't exists.\")\n",
    "    \n",
    "def update_stateformat_file():\n",
    "    with open('verilog_file.v', 'r', encoding='utf-8') as file:\n",
    "        file_content = file.readlines()\n",
    "        file.close()\n",
    "    for line_num,line in enumerate(file_content):\n",
    "        if 'if' in line:\n",
    "            file_content[line_num] = '    case ' + file_content[line_num].strip() + ' \\n'  \n",
    "    with open('verilog_file.v', 'w', encoding='utf-8') as file:\n",
    "        file.writelines(file_content)\n",
    "        file.close()\n",
    "        \n",
    "def clear_file():\n",
    "    with open('verilog_file.v', 'w', encoding='utf-8') as file:\n",
    "        pass\n",
    "        file.close()\n",
    "        \n",
    "def print_file_content():\n",
    "    with open('verilog_file.v', 'r', encoding='utf-8') as file:\n",
    "        file_content = file.read()\n",
    "        file.close()\n",
    "    print(file_content)\n",
    "\n",
    "\n",
    "import itertools\n",
    "with open('decision_rules_mnist.txt', 'r') as f:\n",
    "    tree_verilog = f.read()\n",
    "    f.close()\n",
    "\n",
    "clear_file()\n",
    "line_num = 0\n",
    "else_state = 0\n",
    "else_nextif_state = 0\n",
    "curr_line,next_line = itertools.tee(tree_verilog.split('\\n'))\n",
    "next(next_line, None)\n",
    "for i,j in list(zip(curr_line,next_line)):\n",
    "    if 'Label' in i:\n",
    "        pass\n",
    "        #write_file(f'  begin {i.strip()} state<=0;ml_inference_completed<=1; end \\n')\n",
    "    elif 'else' in i and 'Label' in j:\n",
    "        else_state = i.strip().split(':')[0]\n",
    "        line_num = search_content_file(' '+str(else_state)+':if' )\n",
    "        spaces = 12-len(str(line_num))\n",
    "        spaces = ' '*spaces\n",
    "        write_line_file(f'\\n{spaces}else:  {j.strip().replace(\"<\",\"\")} state=0;ml_inference_completed=1; clock_counter = clock_counter+1;', line_num)\n",
    "    elif 'else' in i and 'if' in j:\n",
    "        else_state = i.strip().split(':')[0]\n",
    "        else_nextif_state = j.strip().split(':')[0]\n",
    "        line_num = search_content_file(' '+str(else_state)+':if' )\n",
    "        spaces = 12-len(str(line_num))\n",
    "        spaces = ' '*spaces\n",
    "        write_line_file(f' \\n{spaces}else: state={else_nextif_state}; clock_counter = clock_counter+1;', line_num)\n",
    "    elif 'if' in i and 'Label' in j:\n",
    "        write_file(f' {i.strip()}:  {j.strip().replace(\"<\",\"\")} state=0;ml_inference_completed<=1; clock_counter = clock_counter+1; ')\n",
    "    elif 'if' in i and 'if' in j:\n",
    "        write_file(f' {i.strip()}: clock_counter = clock_counter+1; state={j.strip().split(\":\")[0]};  \\n ')  \n",
    "update_stateformat_file()\n",
    "print('def inference_rate(pixels):')\n",
    "print(' clock_counter=0; state=0; Label=10; ml_inference_completed=0; #assigning dummy default label to 10')\n",
    "print(' while(Label == 10):')\n",
    "print('  match state:')\n",
    "print_file_content()\n",
    "print(' return (Label,clock_counter)')\n",
    "\n",
    "with open('mnist_dt_case_fsm.py', 'w') as f:\n",
    "    f.write(cap.stdout)"
   ]
  },
  {
   "cell_type": "code",
   "execution_count": 7,
   "id": "33910eec",
   "metadata": {},
   "outputs": [],
   "source": [
    "# Aligning the spaces\n",
    "with open('mnist_dt_case_fsm.py', 'r') as f:\n",
    "    py_fsm = f.readlines()\n",
    "    f.close()\n",
    "    \n",
    "curr_line,next_line = itertools.tee(py_fsm)\n",
    "next(next_line, None)\n",
    "for i,j in list(zip(curr_line,next_line)):\n",
    "    if 'if' in i and 'else' in j:\n",
    "        if len(i.split('if')[0]) != len(j.split('else')[0]):\n",
    "            py_fsm[py_fsm.index(j)] = ' '* (len(i.split('if')[0]) - len(j.split('else')[0])) + py_fsm[py_fsm.index(j)]\n",
    "            \n",
    "\n",
    "for i in py_fsm:\n",
    "    if 'case' in i:\n",
    "        py_fsm[py_fsm.index(i)] = i.split(':if')[0]+':\\n'+ ' '*(len(i.split(':if')[0])+1) + 'if' + i.split(':if')[1]\n",
    "        \n",
    "with open('mnist_dt_case_fsm.py', 'w') as f:\n",
    "    f.writelines(py_fsm)\n",
    "    f.close()        "
   ]
  },
  {
   "cell_type": "code",
   "execution_count": 8,
   "id": "d3c4315c",
   "metadata": {},
   "outputs": [],
   "source": [
    "#Adding default state \n",
    "with open('mnist_dt_case_fsm.py', 'r') as f:\n",
    "    py_fsm = f.readlines()\n",
    "    f.close()\n",
    "py_fsm[-2] = ' '*4+'case _:\\n'+ ' '*len(' '*4+'case _:') + 'import random; Label=random.randint(0,9); state=0;ml_inference_completed=1; clock_counter = clock_counter+1;\\n'\n",
    "\n",
    "with open('mnist_dt_case_fsm.py', 'w') as f:\n",
    "    f.writelines(py_fsm)\n",
    "    f.close()        \n"
   ]
  },
  {
   "cell_type": "markdown",
   "id": "46bcac22",
   "metadata": {},
   "source": [
    "## FSM State Permutation Obfuscation"
   ]
  },
  {
   "cell_type": "markdown",
   "id": "974e0c03",
   "metadata": {},
   "source": [
    "#### Extracting the state labels and transition labels."
   ]
  },
  {
   "cell_type": "code",
   "execution_count": 9,
   "id": "4e59c558",
   "metadata": {},
   "outputs": [
    {
     "name": "stdout",
     "output_type": "stream",
     "text": [
      "True\n",
      "Number of state/transition labels = 63.\n",
      "[0, 1, 2, 3, 4, 5, 8, 11, 12, 15, 18, 19, 20, 23, 26, 27, 30, 33, 34, 35, 36, 39, 42, 43, 46, 49, 50, 51, 54, 57, 58, 61, 64, 65, 66, 67, 68, 71, 74, 75, 78, 81, 82, 83, 86, 89, 90, 93, 96, 97, 98, 99, 102, 105, 106, 109, 112, 113, 114, 117, 120, 121, 124]\n"
     ]
    }
   ],
   "source": [
    "with open('mnist_dt_case_fsm.py', 'r') as f:\n",
    "    py_fsm = f.readlines()\n",
    "    f.close()\n",
    "    \n",
    "state_labels = []\n",
    "transition_labels = []\n",
    "for i in py_fsm:\n",
    "    if 'case' in i and '_' not in i:\n",
    "        state_labels.append(int(i.split(':')[0].split(' ')[-1]))\n",
    "    if 'state=' in i:\n",
    "        transition_labels.append(int(i.split('state=')[-1].split(';')[0]))\n",
    "\n",
    "transition_labels = list(set(transition_labels))\n",
    "print(state_labels == transition_labels)\n",
    "\n",
    "print(f'Number of state/transition labels = {len(state_labels)}.')\n",
    "print(state_labels)"
   ]
  },
  {
   "cell_type": "markdown",
   "id": "3de7d1c2",
   "metadata": {},
   "source": [
    "#### Designing a correct key for state label."
   ]
  },
  {
   "cell_type": "code",
   "execution_count": 10,
   "id": "3c9fc823",
   "metadata": {},
   "outputs": [
    {
     "name": "stdout",
     "output_type": "stream",
     "text": [
      "Maximum vlaue of state label = 124. \n",
      "Minimum number of bits to represent it = 7.\n",
      "Length of bin_correct_secret_key before 8-bit word division = 441.\n",
      "Length of bin_correct_secret_key after 8-bit word division = 448.\n",
      "correct_secret_key in binary = 0000000000000100000100000011000010000001010001000000101100011000001111001001000100110010100001011100110100011011001111001000010100010010001101001000100111010101001010110101110011000101100100110011011011001110010111010011110110000001000001100001010000111000100100011110010101001011100111010100011010010101001110101101011001101101010111011100000110000111000101100011110011011010011101010110110111100001110001111001011101011111000111100111111000000000\n",
      "correct_secret_key in decimal = [0, 4, 16, 48, 129, 68, 11, 24, 60, 145, 50, 133, 205, 27, 60, 133, 18, 52, 137, 213, 43, 92, 197, 147, 54, 206, 93, 61, 129, 6, 20, 56, 145, 229, 75, 157, 70, 149, 58, 214, 109, 93, 193, 135, 22, 60, 218, 117, 109, 225, 199, 151, 95, 30, 126, 0]\n",
      "Length of correct_secret_key in decimal = 56. This matches |bin_correct_secret_key|/8 = 56.0.\n"
     ]
    }
   ],
   "source": [
    "import math\n",
    "max_val_statelabel = max(state_labels)\n",
    "number_of_bits = math.floor(math.log2(abs(max(state_labels)))) + 1\n",
    "print(f'Maximum vlaue of state label = {max_val_statelabel}. ')\n",
    "print(f'Minimum number of bits to represent it = {number_of_bits}.')\n",
    "\n",
    "def convert_to_binary_with_padding(numbers):\n",
    "    max_bits = len(bin(max(numbers))) - 2  # Determine the maximum number of bits needed\n",
    "    binary_numbers = []\n",
    "    for num in numbers:\n",
    "        binary = bin(num)[2:]  # Convert number to binary, remove '0b' prefix\n",
    "        padded_binary = binary.zfill(max_bits)  # Perform zero padding\n",
    "        binary_numbers.append(padded_binary)\n",
    "    return binary_numbers\n",
    "\n",
    "binary_state_labels = convert_to_binary_with_padding(state_labels)\n",
    "bin_correct_secret_key = ''.join(binary_state_labels)\n",
    "print(f'Length of bin_correct_secret_key before 8-bit word division = {len(bin_correct_secret_key)}.')\n",
    "last_chunk_size = len(bin_correct_secret_key) % 8    #Checking the last chunk whether it is 8-bit or not\n",
    "if last_chunk_size !=0:\n",
    "    bin_correct_secret_key = bin_correct_secret_key[0:-last_chunk_size] + bin_correct_secret_key[-last_chunk_size:].zfill(8)\n",
    "print(f'Length of bin_correct_secret_key after 8-bit word division = {len(bin_correct_secret_key)}.')\n",
    "print(f'correct_secret_key in binary = {bin_correct_secret_key}')\n",
    "\n",
    "def binary_stream_to_bytes(binary_stream):\n",
    "    # Split the binary stream into 8-bit chunks\n",
    "    chunks = [binary_stream[i:i+8] for i in range(0, len(binary_stream), 8)]\n",
    "    # Convert each chunk to a decimal integer\n",
    "    bytes_list = [int(chunk, 2) for chunk in chunks]\n",
    "    return bytes_list\n",
    "\n",
    "decimal_correct_secret_key = binary_stream_to_bytes(bin_correct_secret_key)\n",
    "print(f'correct_secret_key in decimal = {decimal_correct_secret_key}')\n",
    "print(f'Length of correct_secret_key in decimal = {len(decimal_correct_secret_key)}. This matches |bin_correct_secret_key|/8 = {len(bin_correct_secret_key)/8}.')"
   ]
  },
  {
   "cell_type": "markdown",
   "id": "3b658f1b",
   "metadata": {},
   "source": [
    "#### Creating the state_label and transition_label encoding for each case statement in the mnist_dt_case_fsm.py. Saving the script in locked_mnist_dt_case_fsm.py"
   ]
  },
  {
   "cell_type": "code",
   "execution_count": 11,
   "id": "fdc459b0",
   "metadata": {},
   "outputs": [
    {
     "name": "stdout",
     "output_type": "stream",
     "text": [
      "{0: 0, 1: 1, 2: 2, 3: 3, 4: 4, 5: 5, 6: 8, 7: 11, 8: 12, 9: 15, 10: 18, 11: 19, 12: 20, 13: 23, 14: 26, 15: 27, 16: 30, 17: 33, 18: 34, 19: 35, 20: 36, 21: 39, 22: 42, 23: 43, 24: 46, 25: 49, 26: 50, 27: 51, 28: 54, 29: 57, 30: 58, 31: 61, 32: 64, 33: 65, 34: 66, 35: 67, 36: 68, 37: 71, 38: 74, 39: 75, 40: 78, 41: 81, 42: 82, 43: 83, 44: 86, 45: 89, 46: 90, 47: 93, 48: 96, 49: 97, 50: 98, 51: 99, 52: 102, 53: 105, 54: 106, 55: 109, 56: 112, 57: 113, 58: 114, 59: 117, 60: 120, 61: 121, 62: 124} \n",
      "-----\n",
      " {0: 50, 1: 74, 2: 120, 3: 83, 4: 2, 5: 20, 6: 99, 7: 121, 8: 81, 9: 75, 10: 106, 11: 65, 12: 114, 13: 0, 14: 105, 15: 30, 16: 67, 17: 49, 18: 93, 19: 82, 20: 42, 21: 97, 22: 102, 23: 1, 24: 4, 25: 8, 26: 90, 27: 57, 28: 18, 29: 26, 30: 54, 31: 39, 32: 11, 33: 86, 34: 36, 35: 19, 36: 112, 37: 33, 38: 61, 39: 3, 40: 113, 41: 109, 42: 34, 43: 98, 44: 68, 45: 64, 46: 78, 47: 58, 48: 35, 49: 96, 50: 23, 51: 12, 52: 89, 53: 46, 54: 43, 55: 5, 56: 27, 57: 51, 58: 117, 59: 124, 60: 71, 61: 66, 62: 15}\n"
     ]
    }
   ],
   "source": [
    "import pdb\n",
    "with open('mnist_dt_case_fsm.py', 'r') as f:\n",
    "    py_fsm = f.readlines()\n",
    "    f.close()\n",
    "    \n",
    "#In Python >=3.10, the match statement doesn't support using variables or expressions as case labels directly. \n",
    "#However, you can achieve the desired functionality by using the case statement with conditions.\n",
    "\n",
    "encoder_counter = 0\n",
    "encoded_label_dict = {}  #read as : value = true case state label, key = encoded label sliced from the secret key\n",
    "for i in py_fsm:\n",
    "    if 'case' in i and '_' not in i:\n",
    "        py_fsm[py_fsm.index(i)] = i.replace(i.split(':')[0].split(' ')[-1], f'x if x == encoded_state_label[{encoder_counter}]')\n",
    "        encoded_label_dict[encoder_counter] = int(i.split(':')[0].split(' ')[-1])\n",
    "        encoder_counter = encoder_counter+1\n",
    "\n",
    "import random\n",
    "def shuffle_dict(dictionary):\n",
    "    keys = list(dictionary.keys())\n",
    "    values = list(dictionary.values())\n",
    "    random.shuffle(values)\n",
    "    shuffled_dict = dict(zip(keys, values))\n",
    "    return shuffled_dict\n",
    "\n",
    "def find_key(dictionary, value):\n",
    "    for key, val in dictionary.items():\n",
    "        if val == value:\n",
    "            return key\n",
    "    return None\n",
    "        \n",
    "transition_label_dict = shuffle_dict(encoded_label_dict) #read as : vaue = true transition state label, key = encoded state label sliced from the secret key\n",
    "\n",
    "\n",
    "#Need to apply regular expression because there are multiple integers in line \n",
    "for i in py_fsm:\n",
    "    if ('state=' in i) and ('if' in i or 'else' in i):\n",
    "        next_state = i.split('state=')[-1].split(';')[0]\n",
    "        true_trans_state = find_key(transition_label_dict, int(next_state) )\n",
    "        py_fsm[py_fsm.index(i)] = i.replace( 'state=' + next_state, f\"state=encoded_transition_label[{true_trans_state}]\")\n",
    "\n",
    "py_fsm[0] =  py_fsm[0].replace('pixels', 'pixels, encoded_state_label, encoded_transition_label')\n",
    "py_fsm[0] =  py_fsm[0].replace('inference', 'Lockedinference')\n",
    "\n",
    "with open('locked_mnist_dt_case_fsm.py', 'w') as f:\n",
    "    f.writelines(py_fsm)\n",
    "    f.close()        \n",
    "    \n",
    "\n",
    "print(encoded_label_dict, '\\n-----\\n', transition_label_dict)"
   ]
  },
  {
   "cell_type": "markdown",
   "id": "fb93660a",
   "metadata": {},
   "source": [
    "#### Designing a correct key for transition label."
   ]
  },
  {
   "cell_type": "code",
   "execution_count": 12,
   "id": "92859864",
   "metadata": {},
   "outputs": [
    {
     "name": "stdout",
     "output_type": "stream",
     "text": [
      "Length of transition_last_chunk_size before 8-bit word division = 441.\n",
      "Length of transition_bin_correct_secret_key after 8-bit word division = 448.\n",
      "transition_bin_correct_secret_key in binary = 0110010100101011110001010011000001000101001100011111100110100011001011110101010000011110010000000011010010011110100001101100011011101101001001010101100001110011000000010000100000100010110100111001001001000110100110110010011100010111010110010010000100111110000010000101111010000011111000111011010100010110001010001001000000100111001110100100011110000000101110001100101100101011100101011000010100110110110011111010111111001000111100001000011100000001\n",
      "transition_correct_secret_key in decimal = [101, 43, 197, 48, 69, 49, 249, 163, 47, 84, 30, 64, 52, 158, 134, 198, 237, 37, 88, 115, 1, 8, 34, 211, 146, 70, 155, 39, 23, 89, 33, 62, 8, 94, 131, 227, 181, 22, 40, 144, 39, 58, 71, 128, 184, 203, 43, 149, 133, 54, 207, 175, 200, 240, 135, 1]\n",
      "Length of transition_correct_secret_key in decimal = 56. This matches |transition_bin_correct_secret_key|/8 = 56.0.\n"
     ]
    }
   ],
   "source": [
    "binary_transition_labels = convert_to_binary_with_padding(transition_label_dict.values())\n",
    "transition_bin_correct_secret_key = ''.join(binary_transition_labels)\n",
    "print(f'Length of transition_last_chunk_size before 8-bit word division = {len(transition_bin_correct_secret_key)}.')\n",
    "transition_last_chunk_size = len(transition_bin_correct_secret_key) % 8    #Checking the last chunk whether it is 8-bit or not\n",
    "if transition_last_chunk_size !=0:\n",
    "    transition_bin_correct_secret_key = transition_bin_correct_secret_key[0:-transition_last_chunk_size] + transition_bin_correct_secret_key[-transition_last_chunk_size:].zfill(8)\n",
    "print(f'Length of transition_bin_correct_secret_key after 8-bit word division = {len(transition_bin_correct_secret_key)}.')\n",
    "print(f'transition_bin_correct_secret_key in binary = {transition_bin_correct_secret_key}')\n",
    "\n",
    "transition_decimal_correct_secret_key = binary_stream_to_bytes(transition_bin_correct_secret_key)\n",
    "print(f'transition_correct_secret_key in decimal = {transition_decimal_correct_secret_key}')\n",
    "print(f'Length of transition_correct_secret_key in decimal = {len(transition_decimal_correct_secret_key)}. This matches |transition_bin_correct_secret_key|/8 = {len(transition_bin_correct_secret_key)/8}.')"
   ]
  },
  {
   "cell_type": "markdown",
   "id": "2bd047c1",
   "metadata": {},
   "source": [
    "#### Testing the locked model with correct encoding_label and transition_label."
   ]
  },
  {
   "cell_type": "code",
   "execution_count": 13,
   "id": "5170a70f",
   "metadata": {},
   "outputs": [],
   "source": [
    "from locked_mnist_dt_case_fsm import Lockedinference_rate"
   ]
  },
  {
   "cell_type": "code",
   "execution_count": 14,
   "id": "73d487b0",
   "metadata": {},
   "outputs": [
    {
     "name": "stdout",
     "output_type": "stream",
     "text": [
      "(50000, 784) (50000,) (10000, 784) (10000,)\n"
     ]
    }
   ],
   "source": [
    "import pickle\n",
    "with open('../MNIST_dataset/MNIST_dataset.pkl', 'rb') as f:\n",
    "    X_train, y_train, X_test, y_test = pickle.load(f)\n",
    "print(X_train.shape, y_train.shape, X_test.shape, y_test.shape)"
   ]
  },
  {
   "cell_type": "code",
   "execution_count": 15,
   "id": "7bc55027",
   "metadata": {},
   "outputs": [],
   "source": [
    "clock_counter = 0\n",
    "Y_pred = []\n",
    "for i,sample in enumerate(X_test):\n",
    "    inf_label, clock = Lockedinference_rate(sample, encoded_label_dict, transition_label_dict)\n",
    "    Y_pred.append(inf_label)\n",
    "    clock_counter = clock_counter + clock"
   ]
  },
  {
   "cell_type": "code",
   "execution_count": 16,
   "id": "1cc55ee8",
   "metadata": {},
   "outputs": [
    {
     "name": "stdout",
     "output_type": "stream",
     "text": [
      "Total clock used for inferencing 10000 samples = 60000\n",
      "Accuracy using state machine = 0.7471\n"
     ]
    }
   ],
   "source": [
    "print(f'Total clock used for inferencing 10000 samples = {clock_counter}')\n",
    "#Verify that the accuracy measured after state-machine inference is same as given by sklearn model.\n",
    "from sklearn.metrics import accuracy_score\n",
    "print(f'Accuracy using state machine = {accuracy_score(y_test, Y_pred)}')"
   ]
  },
  {
   "cell_type": "markdown",
   "id": "e1dfb5c8",
   "metadata": {},
   "source": [
    "### Testing the model with correct key where encoding_labels and transition_labels are extracted from the key"
   ]
  },
  {
   "cell_type": "markdown",
   "id": "f74a53a5",
   "metadata": {},
   "source": [
    "#### Extracting the state_labels."
   ]
  },
  {
   "cell_type": "code",
   "execution_count": 17,
   "id": "0f19b0df",
   "metadata": {},
   "outputs": [
    {
     "name": "stdout",
     "output_type": "stream",
     "text": [
      "verification in binary=True\n",
      "verification in decimal for state labels=True.\n"
     ]
    }
   ],
   "source": [
    "def convert_to_fixed_bit_binary(numbers, num_bits):\n",
    "    binary_list = []\n",
    "    for num in numbers:\n",
    "        # Convert number to binary and remove the '0b' prefix\n",
    "        binary = bin(num)[2:]\n",
    "        # Pad zeros to the left to ensure fixed number of bits\n",
    "        padded_binary = binary.zfill(num_bits)\n",
    "        binary_list.append(padded_binary)\n",
    "    return binary_list\n",
    "\n",
    "Extracted_bin_correct_secret_key=''.join(convert_to_fixed_bit_binary(decimal_correct_secret_key, 8))\n",
    "print(f\"verification in binary={Extracted_bin_correct_secret_key == bin_correct_secret_key}\")\n",
    "\n",
    "#Removing the zero-padded if perfomed from the last 8-bit chunk\n",
    "if last_chunk_size != 0:\n",
    "    Extracted_bin_correct_secret_key= Extracted_bin_correct_secret_key[:-8] + Extracted_bin_correct_secret_key[-8:][-last_chunk_size:]\n",
    "\n",
    "def binary_stream_to_numbers(stream, n):\n",
    "    numbers = []\n",
    "    for i in range(0, len(stream), n):\n",
    "        word = stream[i:i+n]\n",
    "        numbers.append(int(word, 2))\n",
    "    return numbers\n",
    "\n",
    "max_number_of_bits = math.floor(math.log2(abs(max(state_labels)))) + 1\n",
    "Extracted_state_labels = binary_stream_to_numbers(''.join(Extracted_bin_correct_secret_key), max_number_of_bits)\n",
    "print(f\"verification in decimal for state labels={Extracted_state_labels == state_labels}.\")"
   ]
  },
  {
   "cell_type": "code",
   "execution_count": 18,
   "id": "6a46598d",
   "metadata": {},
   "outputs": [
    {
     "name": "stdout",
     "output_type": "stream",
     "text": [
      "Verification Extracted_encoded_label_dict = True.\n"
     ]
    }
   ],
   "source": [
    "Extracted_encoded_label_dict = {}\n",
    "for i,j in enumerate(Extracted_state_labels):\n",
    "    Extracted_encoded_label_dict[i] = j\n",
    "print(f'Verification Extracted_encoded_label_dict = {Extracted_encoded_label_dict == encoded_label_dict}.')"
   ]
  },
  {
   "cell_type": "markdown",
   "id": "c490b3c1",
   "metadata": {},
   "source": [
    "#### Extracting transition labels."
   ]
  },
  {
   "cell_type": "code",
   "execution_count": 19,
   "id": "0e2931d2",
   "metadata": {},
   "outputs": [
    {
     "name": "stdout",
     "output_type": "stream",
     "text": [
      "verification in binary=True\n",
      "verification in decimal for transition labels=True.\n"
     ]
    }
   ],
   "source": [
    "Extracted_transition_bin_correct_secret_key=''.join(convert_to_fixed_bit_binary(transition_decimal_correct_secret_key, 8))\n",
    "print(f\"verification in binary={Extracted_transition_bin_correct_secret_key == transition_bin_correct_secret_key}\")\n",
    "\n",
    "#Removing the zero-padded if perfomed from the last 8-bit chunk\n",
    "if transition_last_chunk_size != 0:\n",
    "    Extracted_transition_bin_correct_secret_key= Extracted_transition_bin_correct_secret_key[:-8] + Extracted_transition_bin_correct_secret_key[-8:][-transition_last_chunk_size:]\n",
    "\n",
    "max_number_of_bits = math.floor(math.log2(abs(max(transition_label_dict.values())))) + 1\n",
    "Extracted_transition_labels = binary_stream_to_numbers(''.join(Extracted_transition_bin_correct_secret_key), max_number_of_bits)\n",
    "print(f\"verification in decimal for transition labels={Extracted_transition_labels == list(transition_label_dict.values())}.\")"
   ]
  },
  {
   "cell_type": "code",
   "execution_count": 20,
   "id": "6fa654cd",
   "metadata": {},
   "outputs": [
    {
     "name": "stdout",
     "output_type": "stream",
     "text": [
      "Verification Extracted_transition_label_dict = True.\n"
     ]
    }
   ],
   "source": [
    "Extracted_transition_label_dict = {}\n",
    "for i,j in enumerate(Extracted_transition_labels):\n",
    "    Extracted_transition_label_dict[i] = j\n",
    "print(f'Verification Extracted_transition_label_dict = {Extracted_transition_label_dict == transition_label_dict}.')"
   ]
  },
  {
   "cell_type": "markdown",
   "id": "88140a9d",
   "metadata": {},
   "source": [
    "#### Testing"
   ]
  },
  {
   "cell_type": "code",
   "execution_count": 21,
   "id": "63d79724",
   "metadata": {},
   "outputs": [
    {
     "name": "stdout",
     "output_type": "stream",
     "text": [
      "(50000, 784) (50000,) (10000, 784) (10000,)\n",
      "Total clock used for inferencing 10000 samples = 60000\n",
      "Accuracy using state machine = 0.7471\n"
     ]
    }
   ],
   "source": [
    "from locked_mnist_dt_case_fsm import Lockedinference_rate\n",
    "import pickle\n",
    "with open('../MNIST_dataset/MNIST_dataset.pkl', 'rb') as f:\n",
    "    X_train, y_train, X_test, y_test = pickle.load(f)\n",
    "print(X_train.shape, y_train.shape, X_test.shape, y_test.shape)\n",
    "\n",
    "clock_counter = 0\n",
    "Y_pred = []\n",
    "for i,sample in enumerate(X_test):\n",
    "    inf_label, clock = Lockedinference_rate(sample, Extracted_encoded_label_dict, Extracted_transition_label_dict)\n",
    "    Y_pred.append(inf_label)\n",
    "    clock_counter = clock_counter + clock\n",
    "    \n",
    "print(f'Total clock used for inferencing 10000 samples = {clock_counter}')\n",
    "#Verify that the accuracy measured after state-machine inference is same as given by sklearn model.\n",
    "from sklearn.metrics import accuracy_score\n",
    "correct_KEY_accuracy = accuracy_score(y_test, Y_pred)\n",
    "correct_KEY_clock = clock_counter\n",
    "print(f'Accuracy using state machine = {correct_KEY_accuracy}')"
   ]
  },
  {
   "cell_type": "markdown",
   "id": "bb7969de",
   "metadata": {},
   "source": [
    "### Several Attacks."
   ]
  },
  {
   "cell_type": "markdown",
   "id": "0dffa681",
   "metadata": {},
   "source": [
    "#### Evaluating the locked model with wrong key."
   ]
  },
  {
   "cell_type": "code",
   "execution_count": 22,
   "id": "e1f47d89",
   "metadata": {
    "scrolled": true
   },
   "outputs": [],
   "source": [
    "def state_encoding_dict_generator(wrong_key_decimal):\n",
    "    decimal_correct_secret_key = wrong_key_decimal\n",
    "    Extracted_bin_correct_secret_key=''.join(convert_to_fixed_bit_binary(decimal_correct_secret_key, 8))\n",
    "    if last_chunk_size != 0:\n",
    "        Extracted_bin_correct_secret_key= Extracted_bin_correct_secret_key[:-8] + Extracted_bin_correct_secret_key[-8:][-last_chunk_size:]\n",
    "    max_number_of_bits = math.floor(math.log2(abs(max(state_labels)))) + 1\n",
    "    Extracted_state_labels = binary_stream_to_numbers(''.join(Extracted_bin_correct_secret_key), max_number_of_bits)\n",
    "    Extracted_encoded_label_dict = {}\n",
    "    for i,j in enumerate(Extracted_state_labels):\n",
    "        Extracted_encoded_label_dict[i] = j\n",
    "    return Extracted_encoded_label_dict\n",
    "\n",
    "def transition_encoding_dict_generator(wrong_key_decimal):\n",
    "    transition_decimal_correct_secret_key = wrong_key_decimal\n",
    "    Extracted_transition_bin_correct_secret_key=''.join(convert_to_fixed_bit_binary(transition_decimal_correct_secret_key, 8))\n",
    "    if transition_last_chunk_size != 0:\n",
    "        Extracted_transition_bin_correct_secret_key= Extracted_transition_bin_correct_secret_key[:-8] + Extracted_transition_bin_correct_secret_key[-8:][-transition_last_chunk_size:]\n",
    "    max_number_of_bits = math.floor(math.log2(abs(max(transition_label_dict.values())))) + 1\n",
    "    Extracted_transition_labels = binary_stream_to_numbers(''.join(Extracted_transition_bin_correct_secret_key), max_number_of_bits)\n",
    "    Extracted_transition_label_dict = {}\n",
    "    for i,j in enumerate(Extracted_transition_labels):\n",
    "        Extracted_transition_label_dict[i] = j\n",
    "    return Extracted_transition_label_dict\n",
    "\n",
    "\n",
    "import numpy as np\n",
    "import random\n",
    "iterations = 100\n",
    "len_key8bit_state = len(decimal_correct_secret_key)\n",
    "len_key8bit_transition = len(transition_decimal_correct_secret_key)"
   ]
  },
  {
   "cell_type": "markdown",
   "id": "b6a9d73c",
   "metadata": {},
   "source": [
    "#### Mix of right and wrong key."
   ]
  },
  {
   "cell_type": "code",
   "execution_count": 23,
   "id": "145d3af3",
   "metadata": {},
   "outputs": [],
   "source": [
    "#Adding extra checks to get out of dead trap.\n",
    "#The maximum number of states visited during inference is equal to the max_depth of the tree.\n",
    "with open('locked_mnist_dt_case_fsm.py', 'r') as f:\n",
    "    py_fsm = f.readlines()\n",
    "    f.close()\n",
    "py_fsm[2] = py_fsm[2].replace('Label == 10', f'clock_counter < {dt_max_depth}')\n",
    "\n",
    "with open('Extremelocked_mnist_dt_case_fsm.py', 'w') as f:\n",
    "    f.writelines(py_fsm)\n",
    "    f.close()        \n",
    "from Extremelocked_mnist_dt_case_fsm import Lockedinference_rate"
   ]
  },
  {
   "cell_type": "code",
   "execution_count": 24,
   "id": "6432f6e6",
   "metadata": {
    "scrolled": true
   },
   "outputs": [
    {
     "name": "stdout",
     "output_type": "stream",
     "text": [
      "Processed for the correct key = 10.0%.\n",
      "Processed for the correct key = 20.0%.\n",
      "Processed for the correct key = 30.0%.\n",
      "Processed for the correct key = 40.0%.\n",
      "Processed for the correct key = 50.0%.\n",
      "Processed for the correct key = 60.0%.\n",
      "Processed for the correct key = 70.0%.\n",
      "Processed for the correct key = 80.0%.\n",
      "Processed for the correct key = 90.0%.\n"
     ]
    }
   ],
   "source": [
    "Accuracy_history = {}\n",
    "Num_clock_history = {}\n",
    "correct_key_percentage = [0.10, 0.20, 0.30, 0.40, 0.50, 0.60, 0.70, 0.80, 0.90]\n",
    "\n",
    "for mix_percentage in correct_key_percentage:\n",
    "    Accuracy_history[f'{mix_percentage}'] = []\n",
    "    Num_clock_history[f'{mix_percentage}'] = []\n",
    "    for itr in range(iterations):\n",
    "        wrongkey_state_label = [random.randint(0, 255) for _ in range(len_key8bit_state)]\n",
    "        wrongkey_transition_label = [random.randint(0, 255) for _ in range(len_key8bit_transition)] \n",
    "        \n",
    "        wrongkey_state_label[:int(mix_percentage*len(wrongkey_state_label))] = decimal_correct_secret_key[:int(mix_percentage*len(wrongkey_state_label))]\n",
    "        wrongkey_transition_label[:int(mix_percentage*len(wrongkey_transition_label))] = transition_decimal_correct_secret_key[:int(mix_percentage*len(wrongkey_transition_label))]\n",
    "        \n",
    "        Extracted_encoded_label_dict = state_encoding_dict_generator(wrongkey_state_label)\n",
    "        Extracted_transition_label_dict = transition_encoding_dict_generator(wrongkey_transition_label)\n",
    "        clock_counter = 0\n",
    "        Y_pred = []\n",
    "        for i,sample in enumerate(X_test):\n",
    "            inf_label, clock =  Lockedinference_rate(sample, Extracted_encoded_label_dict, Extracted_transition_label_dict)           \n",
    "            Y_pred.append(inf_label)\n",
    "            clock_counter = clock_counter + clock\n",
    "        Num_clock_history[f'{mix_percentage}'].append(clock_counter)\n",
    "        inferential_acc = accuracy_score(y_test, Y_pred)\n",
    "        Accuracy_history[f'{mix_percentage}'].append(inferential_acc)\n",
    "    print(f'Processed for the correct key = {mix_percentage*100}%.')"
   ]
  },
  {
   "cell_type": "markdown",
   "id": "20691ccd",
   "metadata": {},
   "source": [
    "#### Finite tuning the percentage range and re-runing."
   ]
  },
  {
   "cell_type": "code",
   "execution_count": 25,
   "id": "b180cea5",
   "metadata": {},
   "outputs": [
    {
     "name": "stdout",
     "output_type": "stream",
     "text": [
      "Processed for the correct key = 91.0%.\n",
      "Processed for the correct key = 92.0%.\n",
      "Processed for the correct key = 93.0%.\n",
      "Processed for the correct key = 94.0%.\n",
      "Processed for the correct key = 95.0%.\n",
      "Processed for the correct key = 96.0%.\n",
      "Processed for the correct key = 97.0%.\n",
      "Processed for the correct key = 98.0%.\n",
      "Processed for the correct key = 99.0%.\n",
      "Processed for the correct key = 100.0%.\n"
     ]
    }
   ],
   "source": [
    "correct_key_percentage = [0.91, 0.92, 0.93, 0.94, 0.95, 0.96, 0.97, 0.98, 0.99, 1.0 ]\n",
    "for mix_percentage in correct_key_percentage:\n",
    "    Accuracy_history[f'{mix_percentage}'] = []\n",
    "    Num_clock_history[f'{mix_percentage}'] = []\n",
    "    for itr in range(iterations):\n",
    "        wrongkey_state_label = [random.randint(0, 255) for _ in range(len_key8bit_state)]\n",
    "        wrongkey_transition_label = [random.randint(0, 255) for _ in range(len_key8bit_transition)] \n",
    "        \n",
    "        wrongkey_state_label[:int(mix_percentage*len(wrongkey_state_label))] = decimal_correct_secret_key[:int(mix_percentage*len(wrongkey_state_label))]\n",
    "        wrongkey_transition_label[:int(mix_percentage*len(wrongkey_transition_label))] = transition_decimal_correct_secret_key[:int(mix_percentage*len(wrongkey_transition_label))]\n",
    "        \n",
    "        Extracted_encoded_label_dict = state_encoding_dict_generator(wrongkey_state_label)\n",
    "        Extracted_transition_label_dict = transition_encoding_dict_generator(wrongkey_transition_label)\n",
    "        clock_counter = 0\n",
    "        Y_pred = []\n",
    "        for i,sample in enumerate(X_test):\n",
    "            inf_label, clock =  Lockedinference_rate(sample, Extracted_encoded_label_dict, Extracted_transition_label_dict)           \n",
    "            Y_pred.append(inf_label)\n",
    "            clock_counter = clock_counter + clock\n",
    "        Num_clock_history[f'{mix_percentage}'].append(clock_counter)\n",
    "        inferential_acc = accuracy_score(y_test, Y_pred)\n",
    "        Accuracy_history[f'{mix_percentage}'].append(inferential_acc)\n",
    "    print(f'Processed for the correct key = {mix_percentage*100}%.')"
   ]
  },
  {
   "cell_type": "code",
   "execution_count": 26,
   "id": "2250a66e",
   "metadata": {},
   "outputs": [
    {
     "name": "stdout",
     "output_type": "stream",
     "text": [
      "{'0.1': 0.10217000000000001, '0.2': 0.10297100000000002, '0.3': 0.11283900000000001, '0.4': 0.10222399999999997, '0.5': 0.121041, '0.6': 0.187104, '0.7': 0.19568199999999994, '0.8': 0.314305, '0.9': 0.588201, '0.91': 0.589002, '0.92': 0.635712, '0.93': 0.640632, '0.94': 0.64056, '0.95': 0.6453610000000001, '0.96': 0.6484300000000001, '0.97': 0.6735599999999997, '0.98': 0.6754169999999999, '0.99': 0.7348650000000001, '1.0': 0.7471}\n"
     ]
    },
    {
     "data": {
      "image/png": "[encoded data removed]",
      "text/plain": [
       "<Figure size 500x250 with 1 Axes>"
      ]
     },
     "metadata": {},
     "output_type": "display_data"
    }
   ],
   "source": [
    "import matplotlib.pyplot as plt\n",
    "c=['r','g','b','c','m', 'y', 'k']\n",
    "m=['s','o','v','^','.']\n",
    "fig, ax = plt.subplots(1,1,figsize=(5,2.5))\n",
    "Average_acc = {}\n",
    "for mix_percentage in Accuracy_history.keys():\n",
    "    Average_acc[mix_percentage] = np.mean(Accuracy_history[mix_percentage])\n",
    "\n",
    "print(Average_acc)\n",
    "\n",
    "x, y = Average_acc.keys(), Average_acc.values()\n",
    "\n",
    "ax.plot(np.arange(1,len(x)+1), [i*100 for i in y], linestyle=':', marker = '8' , color = c[1], fillstyle='none', label='Partial correct key')\n",
    "ax.plot(np.arange(1,len(Accuracy_history)+1), [correct_KEY_accuracy * 100] * len(Accuracy_history), linestyle=':', marker = '.' , color = c[0], fillstyle='none', label='Full correct key')\n",
    "ax.grid(color='y', linestyle=':', linewidth=1)\n",
    "ax.set_title(f'DT Average accuracy.', fontsize=10)\n",
    "ax.set_yticks([0, 10, 20, 30, 40, 50, 60, 70, 80])\n",
    "ax.set_ylabel('Accuracy (%)') \n",
    "ax.set_xlabel('Percentage of correct key', fontsize=10)\n",
    "ax.set_xticks(np.arange(1,len(x)+1,1))\n",
    "ax.set_xticklabels(x, rotation=40)\n",
    "ax.legend(loc='right', framealpha=0.6, fontsize = 10)\n",
    "fig.tight_layout(pad=0.2)\n",
    "plt.savefig('MNIST_Accuracy_Allmix_depth6.pdf')"
   ]
  },
  {
   "cell_type": "code",
   "execution_count": null,
   "id": "f9b4d2a4",
   "metadata": {},
   "outputs": [],
   "source": []
  }
 ],
 "metadata": {
  "kernelspec": {
   "display_name": "Python 3 (ipykernel)",
   "language": "python",
   "name": "python3"
  },
  "language_info": {
   "codemirror_mode": {
    "name": "ipython",
    "version": 3
   },
   "file_extension": ".py",
   "mimetype": "text/x-python",
   "name": "python",
   "nbconvert_exporter": "python",
   "pygments_lexer": "ipython3",
   "version": "3.11.2"
  }
 },
 "nbformat": 4,
 "nbformat_minor": 5
}
