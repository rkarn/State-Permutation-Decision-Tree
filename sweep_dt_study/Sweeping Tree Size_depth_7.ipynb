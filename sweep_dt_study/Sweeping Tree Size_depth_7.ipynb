{
 "cells": [
  {
   "cell_type": "code",
   "execution_count": 1,
   "id": "7d152de8",
   "metadata": {},
   "outputs": [
    {
     "name": "stdout",
     "output_type": "stream",
     "text": [
      "(60000, 784) (60000,)\n",
      "(10000, 784) (10000,)\n"
     ]
    }
   ],
   "source": [
    "import idx2numpy\n",
    "import seaborn as sns\n",
    "X_train_3D = idx2numpy.convert_from_file('../MNIST_dataset/train-images-idx3-ubyte')\n",
    "X_train = X_train_3D.flatten().reshape(60000,784)\n",
    "\n",
    "y_train = idx2numpy.convert_from_file('../MNIST_dataset/train-labels-idx1-ubyte')\n",
    "print(X_train.shape, y_train.shape)\n",
    "X_test_3D = idx2numpy.convert_from_file('../MNIST_dataset/t10k-images-idx3-ubyte')\n",
    "X_test =  X_test_3D.flatten().reshape(10000,784)\n",
    "\n",
    "y_test = idx2numpy.convert_from_file('../MNIST_dataset/t10k-labels-idx1-ubyte')\n",
    "print(X_test.shape, y_test.shape)"
   ]
  },
  {
   "cell_type": "code",
   "execution_count": 2,
   "id": "4e0ce7da",
   "metadata": {},
   "outputs": [
    {
     "name": "stdout",
     "output_type": "stream",
     "text": [
      "DecisionTreeClassifier(max_depth=7)\n",
      "Number of nodes in the decision tree 255.\n",
      "Number of threshold in the decision tree 255.\n",
      "Number of leaves in the decision tree 128. It will be number of states in sequential FSM.\n",
      "0.79014 0.7883\n"
     ]
    }
   ],
   "source": [
    "import numpy as np\n",
    "from sklearn.utils import shuffle\n",
    "X_shuffle,y_shuffle = shuffle(X_train,y_train)\n",
    "X_train = X_shuffle[0:50000]\n",
    "y_train = y_shuffle[0:50000]\n",
    "\n",
    "from sklearn import tree\n",
    "from sklearn.model_selection import cross_val_predict\n",
    "dt_max_depth=7\n",
    "#dt_clf = tree.DecisionTreeClassifier(max_depth=20, max_leaf_nodes=300)\n",
    "dt_clf = tree.DecisionTreeClassifier(max_depth=dt_max_depth)\n",
    "\n",
    "y_train_pred = cross_val_predict(dt_clf, X_train, y_train, cv=2)\n",
    "print(dt_clf.fit(X_train, y_train))\n",
    "\n",
    "print('Number of nodes in the decision tree {}.'.format(dt_clf.tree_.node_count))\n",
    "print('Number of threshold in the decision tree {}.'.format(len(dt_clf.tree_.threshold)))\n",
    "print('Number of leaves in the decision tree {}. It will be number of states in sequential FSM.'.format(dt_clf.tree_.n_leaves))\n",
    "\n",
    "from sklearn.metrics import accuracy_score\n",
    "print(accuracy_score(y_train, dt_clf.predict(X_train)), accuracy_score(y_test, dt_clf.predict(X_test)))"
   ]
  },
  {
   "cell_type": "markdown",
   "id": "8bb46766",
   "metadata": {},
   "source": [
    "#### Run this cell twice."
   ]
  },
  {
   "cell_type": "code",
   "execution_count": 4,
   "id": "5cdc14bb",
   "metadata": {},
   "outputs": [],
   "source": [
    "%%capture cap --no-stderr\n",
    "from sklearn.tree import _tree\n",
    "\n",
    "def tree_to_code(tree, feature_names):\n",
    "    tree_ = tree.tree_\n",
    "    feature_name = [\n",
    "        feature_names[i] if i != _tree.TREE_UNDEFINED else \"undefined!\"\n",
    "        for i in tree_.feature\n",
    "    ]\n",
    "    \n",
    "    def recurse(node, depth):\n",
    "        indent = \"  \" * depth\n",
    "        if tree_.feature[node] != _tree.TREE_UNDEFINED:\n",
    "            name = feature_name[node]\n",
    "            threshold = tree_.threshold[node]\n",
    "            print (\"{}{}:if ({} <= {})\".format(indent, node, name, int(round(threshold,3)))) \n",
    "            recurse(tree_.children_left[node], depth + 1)\n",
    "            print (\"{}{}:else \".format(indent, node, name, int(round(threshold,3))))\n",
    "            recurse(tree_.children_right[node], depth + 1)\n",
    "        else:\n",
    "            print (\"{} Label<={};\".format(indent, np.argmax(tree_.value[node][0],axis=0)))\n",
    "\n",
    "    recurse(0, 1)\n",
    "\n",
    "cols = range(784)\n",
    "features = ['pixels[{}]'.format(str(i)) for i in cols]\n",
    "class_names = [str(i) for i in dt_clf.classes_]\n",
    "tree_to_code(dt_clf, features)\n",
    "\n",
    "with open('decision_rules_mnist.txt', 'w') as f:\n",
    "    f.write(cap.stdout)"
   ]
  },
  {
   "cell_type": "markdown",
   "id": "333190e3",
   "metadata": {},
   "source": [
    "#### Run this cell twice."
   ]
  },
  {
   "cell_type": "code",
   "execution_count": 6,
   "id": "1c6652cf",
   "metadata": {},
   "outputs": [],
   "source": [
    "%%capture cap --no-stderr\n",
    "\n",
    "import pdb\n",
    "def write_file(data_towrite):\n",
    "    with open('verilog_file.v', 'a', encoding='utf-8') as file:\n",
    "        file.writelines(data_towrite)\n",
    "        file.close()\n",
    "        \n",
    "def write_line_file(data_towrite, line_num):\n",
    "    with open('verilog_file.v', 'r', encoding='utf-8') as file:\n",
    "        file_content = file.readlines()\n",
    "        file.close()\n",
    "    file_content[line_num] = file_content[line_num].replace('\\n','') + ' ' + data_towrite + '\\n'  \n",
    "    with open('verilog_file.v', 'w', encoding='utf-8') as file:\n",
    "        file.writelines(file_content)\n",
    "        file.close()\n",
    "        \n",
    "def search_content_file(word):\n",
    "    with open('verilog_file.v', 'r') as file:\n",
    "        file_content = file.readlines()\n",
    "        for line_num,line in enumerate(file_content):\n",
    "            if word in line:\n",
    "                return(line_num)\n",
    "        return(\"content doesn't exists.\")\n",
    "    \n",
    "def update_stateformat_file():\n",
    "    with open('verilog_file.v', 'r', encoding='utf-8') as file:\n",
    "        file_content = file.readlines()\n",
    "        file.close()\n",
    "    for line_num,line in enumerate(file_content):\n",
    "        if 'if' in line:\n",
    "            file_content[line_num] = '    case ' + file_content[line_num].strip() + ' \\n'  \n",
    "    with open('verilog_file.v', 'w', encoding='utf-8') as file:\n",
    "        file.writelines(file_content)\n",
    "        file.close()\n",
    "        \n",
    "def clear_file():\n",
    "    with open('verilog_file.v', 'w', encoding='utf-8') as file:\n",
    "        pass\n",
    "        file.close()\n",
    "        \n",
    "def print_file_content():\n",
    "    with open('verilog_file.v', 'r', encoding='utf-8') as file:\n",
    "        file_content = file.read()\n",
    "        file.close()\n",
    "    print(file_content)\n",
    "\n",
    "\n",
    "import itertools\n",
    "with open('decision_rules_mnist.txt', 'r') as f:\n",
    "    tree_verilog = f.read()\n",
    "    f.close()\n",
    "\n",
    "clear_file()\n",
    "line_num = 0\n",
    "else_state = 0\n",
    "else_nextif_state = 0\n",
    "curr_line,next_line = itertools.tee(tree_verilog.split('\\n'))\n",
    "next(next_line, None)\n",
    "for i,j in list(zip(curr_line,next_line)):\n",
    "    if 'Label' in i:\n",
    "        pass\n",
    "        #write_file(f'  begin {i.strip()} state<=0;ml_inference_completed<=1; end \\n')\n",
    "    elif 'else' in i and 'Label' in j:\n",
    "        else_state = i.strip().split(':')[0]\n",
    "        line_num = search_content_file(' '+str(else_state)+':if' )\n",
    "        spaces = 12-len(str(line_num))\n",
    "        spaces = ' '*spaces\n",
    "        write_line_file(f'\\n{spaces}else:  {j.strip().replace(\"<\",\"\")} state=0;ml_inference_completed=1; clock_counter = clock_counter+1;', line_num)\n",
    "    elif 'else' in i and 'if' in j:\n",
    "        else_state = i.strip().split(':')[0]\n",
    "        else_nextif_state = j.strip().split(':')[0]\n",
    "        line_num = search_content_file(' '+str(else_state)+':if' )\n",
    "        spaces = 12-len(str(line_num))\n",
    "        spaces = ' '*spaces\n",
    "        write_line_file(f' \\n{spaces}else: state={else_nextif_state}; clock_counter = clock_counter+1;', line_num)\n",
    "    elif 'if' in i and 'Label' in j:\n",
    "        write_file(f' {i.strip()}:  {j.strip().replace(\"<\",\"\")} state=0;ml_inference_completed<=1; clock_counter = clock_counter+1; ')\n",
    "    elif 'if' in i and 'if' in j:\n",
    "        write_file(f' {i.strip()}: clock_counter = clock_counter+1; state={j.strip().split(\":\")[0]};  \\n ')  \n",
    "update_stateformat_file()\n",
    "print('def inference_rate(pixels):')\n",
    "print(' clock_counter=0; state=0; Label=10; ml_inference_completed=0; #assigning dummy default label to 10')\n",
    "print(' while(Label == 10):')\n",
    "print('  match state:')\n",
    "print_file_content()\n",
    "print(' return (Label,clock_counter)')\n",
    "\n",
    "with open('mnist_dt_case_fsm.py', 'w') as f:\n",
    "    f.write(cap.stdout)"
   ]
  },
  {
   "cell_type": "code",
   "execution_count": 7,
   "id": "33910eec",
   "metadata": {},
   "outputs": [],
   "source": [
    "# Aligning the spaces\n",
    "with open('mnist_dt_case_fsm.py', 'r') as f:\n",
    "    py_fsm = f.readlines()\n",
    "    f.close()\n",
    "    \n",
    "curr_line,next_line = itertools.tee(py_fsm)\n",
    "next(next_line, None)\n",
    "for i,j in list(zip(curr_line,next_line)):\n",
    "    if 'if' in i and 'else' in j:\n",
    "        if len(i.split('if')[0]) != len(j.split('else')[0]):\n",
    "            py_fsm[py_fsm.index(j)] = ' '* (len(i.split('if')[0]) - len(j.split('else')[0])) + py_fsm[py_fsm.index(j)]\n",
    "            \n",
    "\n",
    "for i in py_fsm:\n",
    "    if 'case' in i:\n",
    "        py_fsm[py_fsm.index(i)] = i.split(':if')[0]+':\\n'+ ' '*(len(i.split(':if')[0])+1) + 'if' + i.split(':if')[1]\n",
    "        \n",
    "with open('mnist_dt_case_fsm.py', 'w') as f:\n",
    "    f.writelines(py_fsm)\n",
    "    f.close()        "
   ]
  },
  {
   "cell_type": "code",
   "execution_count": 8,
   "id": "d3c4315c",
   "metadata": {},
   "outputs": [],
   "source": [
    "#Adding default state \n",
    "with open('mnist_dt_case_fsm.py', 'r') as f:\n",
    "    py_fsm = f.readlines()\n",
    "    f.close()\n",
    "py_fsm[-2] = ' '*4+'case _:\\n'+ ' '*len(' '*4+'case _:') + 'import random; Label=random.randint(0,9); state=0;ml_inference_completed=1; clock_counter = clock_counter+1;\\n'\n",
    "\n",
    "with open('mnist_dt_case_fsm.py', 'w') as f:\n",
    "    f.writelines(py_fsm)\n",
    "    f.close()        \n"
   ]
  },
  {
   "cell_type": "markdown",
   "id": "46bcac22",
   "metadata": {},
   "source": [
    "## FSM State Permutation Obfuscation"
   ]
  },
  {
   "cell_type": "markdown",
   "id": "974e0c03",
   "metadata": {},
   "source": [
    "#### Extracting the state labels and transition labels."
   ]
  },
  {
   "cell_type": "code",
   "execution_count": 9,
   "id": "4e59c558",
   "metadata": {},
   "outputs": [
    {
     "name": "stdout",
     "output_type": "stream",
     "text": [
      "True\n",
      "Number of state/transition labels = 127.\n",
      "[0, 1, 2, 3, 4, 5, 6, 9, 12, 13, 16, 19, 20, 21, 24, 27, 28, 31, 34, 35, 36, 37, 40, 43, 44, 47, 50, 51, 52, 55, 58, 59, 62, 65, 66, 67, 68, 69, 72, 75, 76, 79, 82, 83, 84, 87, 90, 91, 94, 97, 98, 99, 100, 103, 106, 107, 110, 113, 114, 115, 118, 121, 122, 125, 128, 129, 130, 131, 132, 133, 136, 139, 140, 143, 146, 147, 148, 151, 154, 155, 158, 161, 162, 163, 164, 167, 170, 171, 174, 177, 178, 179, 182, 185, 186, 189, 192, 193, 194, 195, 196, 199, 202, 203, 206, 209, 210, 211, 214, 217, 218, 221, 224, 225, 226, 227, 230, 233, 234, 237, 240, 241, 242, 245, 248, 249, 252]\n"
     ]
    }
   ],
   "source": [
    "with open('mnist_dt_case_fsm.py', 'r') as f:\n",
    "    py_fsm = f.readlines()\n",
    "    f.close()\n",
    "    \n",
    "state_labels = []\n",
    "transition_labels = []\n",
    "for i in py_fsm:\n",
    "    if 'case' in i and '_' not in i:\n",
    "        state_labels.append(int(i.split(':')[0].split(' ')[-1]))\n",
    "    if 'state=' in i:\n",
    "        transition_labels.append(int(i.split('state=')[-1].split(';')[0]))\n",
    "\n",
    "transition_labels = list(set(transition_labels))\n",
    "print(state_labels == transition_labels)\n",
    "\n",
    "print(f'Number of state/transition labels = {len(state_labels)}.')\n",
    "print(state_labels)"
   ]
  },
  {
   "cell_type": "markdown",
   "id": "3de7d1c2",
   "metadata": {},
   "source": [
    "#### Designing a correct key for state label."
   ]
  },
  {
   "cell_type": "code",
   "execution_count": 10,
   "id": "3c9fc823",
   "metadata": {},
   "outputs": [
    {
     "name": "stdout",
     "output_type": "stream",
     "text": [
      "Maximum vlaue of state label = 252. \n",
      "Minimum number of bits to represent it = 8.\n",
      "Length of bin_correct_secret_key before 8-bit word division = 1016.\n",
      "Length of bin_correct_secret_key after 8-bit word division = 1016.\n",
      "correct_secret_key in binary = 00000000000000010000001000000011000001000000010100000110000010010000110000001101000100000001001100010100000101010001100000011011000111000001111100100010001000110010010000100101001010000010101100101100001011110011001000110011001101000011011100111010001110110011111001000001010000100100001101000100010001010100100001001011010011000100111101010010010100110101010001010111010110100101101101011110011000010110001001100011011001000110011101101010011010110110111001110001011100100111001101110110011110010111101001111101100000001000000110000010100000111000010010000101100010001000101110001100100011111001001010010011100101001001011110011010100110111001111010100001101000101010001110100100101001111010101010101011101011101011000110110010101100111011011010111001101110101011110111000000110000011100001011000011110001001100011111001010110010111100111011010001110100101101001111010110110110011101101011011101111000001110000111100010111000111110011011101001111010101110110111110000111100011111001011110101111110001111100111111100\n",
      "correct_secret_key in decimal = [0, 1, 2, 3, 4, 5, 6, 9, 12, 13, 16, 19, 20, 21, 24, 27, 28, 31, 34, 35, 36, 37, 40, 43, 44, 47, 50, 51, 52, 55, 58, 59, 62, 65, 66, 67, 68, 69, 72, 75, 76, 79, 82, 83, 84, 87, 90, 91, 94, 97, 98, 99, 100, 103, 106, 107, 110, 113, 114, 115, 118, 121, 122, 125, 128, 129, 130, 131, 132, 133, 136, 139, 140, 143, 146, 147, 148, 151, 154, 155, 158, 161, 162, 163, 164, 167, 170, 171, 174, 177, 178, 179, 182, 185, 186, 189, 192, 193, 194, 195, 196, 199, 202, 203, 206, 209, 210, 211, 214, 217, 218, 221, 224, 225, 226, 227, 230, 233, 234, 237, 240, 241, 242, 245, 248, 249, 252]\n",
      "Length of correct_secret_key in decimal = 127. This matches |bin_correct_secret_key|/8 = 127.0.\n"
     ]
    }
   ],
   "source": [
    "import math\n",
    "max_val_statelabel = max(state_labels)\n",
    "number_of_bits = math.floor(math.log2(abs(max(state_labels)))) + 1\n",
    "print(f'Maximum vlaue of state label = {max_val_statelabel}. ')\n",
    "print(f'Minimum number of bits to represent it = {number_of_bits}.')\n",
    "\n",
    "def convert_to_binary_with_padding(numbers):\n",
    "    max_bits = len(bin(max(numbers))) - 2  # Determine the maximum number of bits needed\n",
    "    binary_numbers = []\n",
    "    for num in numbers:\n",
    "        binary = bin(num)[2:]  # Convert number to binary, remove '0b' prefix\n",
    "        padded_binary = binary.zfill(max_bits)  # Perform zero padding\n",
    "        binary_numbers.append(padded_binary)\n",
    "    return binary_numbers\n",
    "\n",
    "binary_state_labels = convert_to_binary_with_padding(state_labels)\n",
    "bin_correct_secret_key = ''.join(binary_state_labels)\n",
    "print(f'Length of bin_correct_secret_key before 8-bit word division = {len(bin_correct_secret_key)}.')\n",
    "last_chunk_size = len(bin_correct_secret_key) % 8    #Checking the last chunk whether it is 8-bit or not\n",
    "if last_chunk_size !=0:\n",
    "    bin_correct_secret_key = bin_correct_secret_key[0:-last_chunk_size] + bin_correct_secret_key[-last_chunk_size:].zfill(8)\n",
    "print(f'Length of bin_correct_secret_key after 8-bit word division = {len(bin_correct_secret_key)}.')\n",
    "print(f'correct_secret_key in binary = {bin_correct_secret_key}')\n",
    "\n",
    "def binary_stream_to_bytes(binary_stream):\n",
    "    # Split the binary stream into 8-bit chunks\n",
    "    chunks = [binary_stream[i:i+8] for i in range(0, len(binary_stream), 8)]\n",
    "    # Convert each chunk to a decimal integer\n",
    "    bytes_list = [int(chunk, 2) for chunk in chunks]\n",
    "    return bytes_list\n",
    "\n",
    "decimal_correct_secret_key = binary_stream_to_bytes(bin_correct_secret_key)\n",
    "print(f'correct_secret_key in decimal = {decimal_correct_secret_key}')\n",
    "print(f'Length of correct_secret_key in decimal = {len(decimal_correct_secret_key)}. This matches |bin_correct_secret_key|/8 = {len(bin_correct_secret_key)/8}.')"
   ]
  },
  {
   "cell_type": "markdown",
   "id": "3b658f1b",
   "metadata": {},
   "source": [
    "#### Creating the state_label and transition_label encoding for each case statement in the mnist_dt_case_fsm.py. Saving the script in locked_mnist_dt_case_fsm.py"
   ]
  },
  {
   "cell_type": "code",
   "execution_count": 11,
   "id": "fdc459b0",
   "metadata": {},
   "outputs": [
    {
     "name": "stdout",
     "output_type": "stream",
     "text": [
      "{0: 0, 1: 1, 2: 2, 3: 3, 4: 4, 5: 5, 6: 6, 7: 9, 8: 12, 9: 13, 10: 16, 11: 19, 12: 20, 13: 21, 14: 24, 15: 27, 16: 28, 17: 31, 18: 34, 19: 35, 20: 36, 21: 37, 22: 40, 23: 43, 24: 44, 25: 47, 26: 50, 27: 51, 28: 52, 29: 55, 30: 58, 31: 59, 32: 62, 33: 65, 34: 66, 35: 67, 36: 68, 37: 69, 38: 72, 39: 75, 40: 76, 41: 79, 42: 82, 43: 83, 44: 84, 45: 87, 46: 90, 47: 91, 48: 94, 49: 97, 50: 98, 51: 99, 52: 100, 53: 103, 54: 106, 55: 107, 56: 110, 57: 113, 58: 114, 59: 115, 60: 118, 61: 121, 62: 122, 63: 125, 64: 128, 65: 129, 66: 130, 67: 131, 68: 132, 69: 133, 70: 136, 71: 139, 72: 140, 73: 143, 74: 146, 75: 147, 76: 148, 77: 151, 78: 154, 79: 155, 80: 158, 81: 161, 82: 162, 83: 163, 84: 164, 85: 167, 86: 170, 87: 171, 88: 174, 89: 177, 90: 178, 91: 179, 92: 182, 93: 185, 94: 186, 95: 189, 96: 192, 97: 193, 98: 194, 99: 195, 100: 196, 101: 199, 102: 202, 103: 203, 104: 206, 105: 209, 106: 210, 107: 211, 108: 214, 109: 217, 110: 218, 111: 221, 112: 224, 113: 225, 114: 226, 115: 227, 116: 230, 117: 233, 118: 234, 119: 237, 120: 240, 121: 241, 122: 242, 123: 245, 124: 248, 125: 249, 126: 252} \n",
      "-----\n",
      " {0: 62, 1: 221, 2: 90, 3: 195, 4: 44, 5: 67, 6: 230, 7: 245, 8: 69, 9: 179, 10: 0, 11: 6, 12: 76, 13: 79, 14: 43, 15: 36, 16: 178, 17: 242, 18: 249, 19: 83, 20: 28, 21: 125, 22: 164, 23: 5, 24: 20, 25: 194, 26: 4, 27: 136, 28: 211, 29: 158, 30: 192, 31: 140, 32: 129, 33: 52, 34: 147, 35: 82, 36: 177, 37: 248, 38: 58, 39: 139, 40: 2, 41: 113, 42: 193, 43: 199, 44: 87, 45: 189, 46: 13, 47: 1, 48: 66, 49: 186, 50: 252, 51: 84, 52: 203, 53: 132, 54: 21, 55: 99, 56: 115, 57: 154, 58: 226, 59: 202, 60: 107, 61: 155, 62: 122, 63: 233, 64: 218, 65: 34, 66: 19, 67: 225, 68: 182, 69: 214, 70: 162, 71: 128, 72: 148, 73: 59, 74: 170, 75: 27, 76: 163, 77: 237, 78: 167, 79: 35, 80: 118, 81: 100, 82: 171, 83: 143, 84: 146, 85: 51, 86: 106, 87: 209, 88: 151, 89: 75, 90: 121, 91: 65, 92: 24, 93: 103, 94: 241, 95: 3, 96: 50, 97: 31, 98: 130, 99: 240, 100: 161, 101: 40, 102: 196, 103: 185, 104: 47, 105: 110, 106: 16, 107: 94, 108: 133, 109: 217, 110: 224, 111: 9, 112: 206, 113: 227, 114: 131, 115: 55, 116: 12, 117: 98, 118: 234, 119: 174, 120: 114, 121: 37, 122: 210, 123: 68, 124: 97, 125: 91, 126: 72}\n"
     ]
    }
   ],
   "source": [
    "import pdb\n",
    "with open('mnist_dt_case_fsm.py', 'r') as f:\n",
    "    py_fsm = f.readlines()\n",
    "    f.close()\n",
    "    \n",
    "#In Python >=3.10, the match statement doesn't support using variables or expressions as case labels directly. \n",
    "#However, you can achieve the desired functionality by using the case statement with conditions.\n",
    "\n",
    "encoder_counter = 0\n",
    "encoded_label_dict = {}  #read as : value = true case state label, key = encoded label sliced from the secret key\n",
    "for i in py_fsm:\n",
    "    if 'case' in i and '_' not in i:\n",
    "        py_fsm[py_fsm.index(i)] = i.replace(i.split(':')[0].split(' ')[-1], f'x if x == encoded_state_label[{encoder_counter}]')\n",
    "        encoded_label_dict[encoder_counter] = int(i.split(':')[0].split(' ')[-1])\n",
    "        encoder_counter = encoder_counter+1\n",
    "\n",
    "import random\n",
    "def shuffle_dict(dictionary):\n",
    "    keys = list(dictionary.keys())\n",
    "    values = list(dictionary.values())\n",
    "    random.shuffle(values)\n",
    "    shuffled_dict = dict(zip(keys, values))\n",
    "    return shuffled_dict\n",
    "\n",
    "def find_key(dictionary, value):\n",
    "    for key, val in dictionary.items():\n",
    "        if val == value:\n",
    "            return key\n",
    "    return None\n",
    "        \n",
    "transition_label_dict = shuffle_dict(encoded_label_dict) #read as : vaue = true transition state label, key = encoded state label sliced from the secret key\n",
    "\n",
    "\n",
    "#Need to apply regular expression because there are multiple integers in line \n",
    "for i in py_fsm:\n",
    "    if ('state=' in i) and ('if' in i or 'else' in i):\n",
    "        next_state = i.split('state=')[-1].split(';')[0]\n",
    "        true_trans_state = find_key(transition_label_dict, int(next_state) )\n",
    "        py_fsm[py_fsm.index(i)] = i.replace( 'state=' + next_state, f\"state=encoded_transition_label[{true_trans_state}]\")\n",
    "\n",
    "py_fsm[0] =  py_fsm[0].replace('pixels', 'pixels, encoded_state_label, encoded_transition_label')\n",
    "py_fsm[0] =  py_fsm[0].replace('inference', 'Lockedinference')\n",
    "\n",
    "with open('locked_mnist_dt_case_fsm.py', 'w') as f:\n",
    "    f.writelines(py_fsm)\n",
    "    f.close()        \n",
    "    \n",
    "\n",
    "print(encoded_label_dict, '\\n-----\\n', transition_label_dict)"
   ]
  },
  {
   "cell_type": "markdown",
   "id": "fb93660a",
   "metadata": {},
   "source": [
    "#### Designing a correct key for transition label."
   ]
  },
  {
   "cell_type": "code",
   "execution_count": 12,
   "id": "92859864",
   "metadata": {},
   "outputs": [
    {
     "name": "stdout",
     "output_type": "stream",
     "text": [
      "Length of transition_last_chunk_size before 8-bit word division = 1016.\n",
      "Length of transition_bin_correct_secret_key after 8-bit word division = 1016.\n",
      "transition_bin_correct_secret_key in binary = 00111110110111010101101011000011001011000100001111100110111101010100010110110011000000000000011001001100010011110010101100100100101100101111001011111001010100110001110001111101101001000000010100010100110000100000010010001000110100111001111011000000100011001000000100110100100100110101001010110001111110000011101010001011000000100111000111000001110001110101011110111101000011010000000101000010101110101111110001010100110010111000010000010101011000110111001110011010111000101100101001101011100110110111101011101001110110100010001000010011111000011011011011010110101000101000000010010100001110111010101000011011101000111110110110100111001000110111011001100100101010111000111110010010001100110110101011010001100101110100101101111001010000010001100001100111111100010000001100110010000111111000001011110000101000010010100011000100101110010010111101101110000100000101111010000101110110011110000000001001110011101110001110000011001101110000110001100010111010101010111001110010001001011101001001000100011000010101101101001000\n",
      "transition_correct_secret_key in decimal = [62, 221, 90, 195, 44, 67, 230, 245, 69, 179, 0, 6, 76, 79, 43, 36, 178, 242, 249, 83, 28, 125, 164, 5, 20, 194, 4, 136, 211, 158, 192, 140, 129, 52, 147, 82, 177, 248, 58, 139, 2, 113, 193, 199, 87, 189, 13, 1, 66, 186, 252, 84, 203, 132, 21, 99, 115, 154, 226, 202, 107, 155, 122, 233, 218, 34, 19, 225, 182, 214, 162, 128, 148, 59, 170, 27, 163, 237, 167, 35, 118, 100, 171, 143, 146, 51, 106, 209, 151, 75, 121, 65, 24, 103, 241, 3, 50, 31, 130, 240, 161, 40, 196, 185, 47, 110, 16, 94, 133, 217, 224, 9, 206, 227, 131, 55, 12, 98, 234, 174, 114, 37, 210, 68, 97, 91, 72]\n",
      "Length of transition_correct_secret_key in decimal = 127. This matches |transition_bin_correct_secret_key|/8 = 127.0.\n"
     ]
    }
   ],
   "source": [
    "binary_transition_labels = convert_to_binary_with_padding(transition_label_dict.values())\n",
    "transition_bin_correct_secret_key = ''.join(binary_transition_labels)\n",
    "print(f'Length of transition_last_chunk_size before 8-bit word division = {len(transition_bin_correct_secret_key)}.')\n",
    "transition_last_chunk_size = len(transition_bin_correct_secret_key) % 8    #Checking the last chunk whether it is 8-bit or not\n",
    "if transition_last_chunk_size !=0:\n",
    "    transition_bin_correct_secret_key = transition_bin_correct_secret_key[0:-transition_last_chunk_size] + transition_bin_correct_secret_key[-transition_last_chunk_size:].zfill(8)\n",
    "print(f'Length of transition_bin_correct_secret_key after 8-bit word division = {len(transition_bin_correct_secret_key)}.')\n",
    "print(f'transition_bin_correct_secret_key in binary = {transition_bin_correct_secret_key}')\n",
    "\n",
    "transition_decimal_correct_secret_key = binary_stream_to_bytes(transition_bin_correct_secret_key)\n",
    "print(f'transition_correct_secret_key in decimal = {transition_decimal_correct_secret_key}')\n",
    "print(f'Length of transition_correct_secret_key in decimal = {len(transition_decimal_correct_secret_key)}. This matches |transition_bin_correct_secret_key|/8 = {len(transition_bin_correct_secret_key)/8}.')"
   ]
  },
  {
   "cell_type": "markdown",
   "id": "2bd047c1",
   "metadata": {},
   "source": [
    "#### Testing the locked model with correct encoding_label and transition_label."
   ]
  },
  {
   "cell_type": "code",
   "execution_count": 13,
   "id": "5170a70f",
   "metadata": {},
   "outputs": [],
   "source": [
    "from locked_mnist_dt_case_fsm import Lockedinference_rate"
   ]
  },
  {
   "cell_type": "code",
   "execution_count": 14,
   "id": "73d487b0",
   "metadata": {},
   "outputs": [
    {
     "name": "stdout",
     "output_type": "stream",
     "text": [
      "(50000, 784) (50000,) (10000, 784) (10000,)\n"
     ]
    }
   ],
   "source": [
    "import pickle\n",
    "with open('../MNIST_dataset/MNIST_dataset.pkl', 'rb') as f:\n",
    "    X_train, y_train, X_test, y_test = pickle.load(f)\n",
    "print(X_train.shape, y_train.shape, X_test.shape, y_test.shape)"
   ]
  },
  {
   "cell_type": "code",
   "execution_count": 15,
   "id": "7bc55027",
   "metadata": {},
   "outputs": [],
   "source": [
    "clock_counter = 0\n",
    "Y_pred = []\n",
    "for i,sample in enumerate(X_test):\n",
    "    inf_label, clock = Lockedinference_rate(sample, encoded_label_dict, transition_label_dict)\n",
    "    Y_pred.append(inf_label)\n",
    "    clock_counter = clock_counter + clock"
   ]
  },
  {
   "cell_type": "code",
   "execution_count": 16,
   "id": "1cc55ee8",
   "metadata": {},
   "outputs": [
    {
     "name": "stdout",
     "output_type": "stream",
     "text": [
      "Total clock used for inferencing 10000 samples = 70000\n",
      "Accuracy using state machine = 0.7883\n"
     ]
    }
   ],
   "source": [
    "print(f'Total clock used for inferencing 10000 samples = {clock_counter}')\n",
    "#Verify that the accuracy measured after state-machine inference is same as given by sklearn model.\n",
    "from sklearn.metrics import accuracy_score\n",
    "print(f'Accuracy using state machine = {accuracy_score(y_test, Y_pred)}')"
   ]
  },
  {
   "cell_type": "markdown",
   "id": "e1dfb5c8",
   "metadata": {},
   "source": [
    "### Testing the model with correct key where encoding_labels and transition_labels are extracted from the key"
   ]
  },
  {
   "cell_type": "markdown",
   "id": "f74a53a5",
   "metadata": {},
   "source": [
    "#### Extracting the state_labels."
   ]
  },
  {
   "cell_type": "code",
   "execution_count": 17,
   "id": "0f19b0df",
   "metadata": {},
   "outputs": [
    {
     "name": "stdout",
     "output_type": "stream",
     "text": [
      "verification in binary=True\n",
      "verification in decimal for state labels=True.\n"
     ]
    }
   ],
   "source": [
    "def convert_to_fixed_bit_binary(numbers, num_bits):\n",
    "    binary_list = []\n",
    "    for num in numbers:\n",
    "        # Convert number to binary and remove the '0b' prefix\n",
    "        binary = bin(num)[2:]\n",
    "        # Pad zeros to the left to ensure fixed number of bits\n",
    "        padded_binary = binary.zfill(num_bits)\n",
    "        binary_list.append(padded_binary)\n",
    "    return binary_list\n",
    "\n",
    "Extracted_bin_correct_secret_key=''.join(convert_to_fixed_bit_binary(decimal_correct_secret_key, 8))\n",
    "print(f\"verification in binary={Extracted_bin_correct_secret_key == bin_correct_secret_key}\")\n",
    "\n",
    "#Removing the zero-padded if perfomed from the last 8-bit chunk\n",
    "if last_chunk_size != 0:\n",
    "    Extracted_bin_correct_secret_key= Extracted_bin_correct_secret_key[:-8] + Extracted_bin_correct_secret_key[-8:][-last_chunk_size:]\n",
    "\n",
    "def binary_stream_to_numbers(stream, n):\n",
    "    numbers = []\n",
    "    for i in range(0, len(stream), n):\n",
    "        word = stream[i:i+n]\n",
    "        numbers.append(int(word, 2))\n",
    "    return numbers\n",
    "\n",
    "max_number_of_bits = math.floor(math.log2(abs(max(state_labels)))) + 1\n",
    "Extracted_state_labels = binary_stream_to_numbers(''.join(Extracted_bin_correct_secret_key), max_number_of_bits)\n",
    "print(f\"verification in decimal for state labels={Extracted_state_labels == state_labels}.\")"
   ]
  },
  {
   "cell_type": "code",
   "execution_count": 18,
   "id": "6a46598d",
   "metadata": {},
   "outputs": [
    {
     "name": "stdout",
     "output_type": "stream",
     "text": [
      "Verification Extracted_encoded_label_dict = True.\n"
     ]
    }
   ],
   "source": [
    "Extracted_encoded_label_dict = {}\n",
    "for i,j in enumerate(Extracted_state_labels):\n",
    "    Extracted_encoded_label_dict[i] = j\n",
    "print(f'Verification Extracted_encoded_label_dict = {Extracted_encoded_label_dict == encoded_label_dict}.')"
   ]
  },
  {
   "cell_type": "markdown",
   "id": "c490b3c1",
   "metadata": {},
   "source": [
    "#### Extracting transition labels."
   ]
  },
  {
   "cell_type": "code",
   "execution_count": 19,
   "id": "0e2931d2",
   "metadata": {},
   "outputs": [
    {
     "name": "stdout",
     "output_type": "stream",
     "text": [
      "verification in binary=True\n",
      "verification in decimal for transition labels=True.\n"
     ]
    }
   ],
   "source": [
    "Extracted_transition_bin_correct_secret_key=''.join(convert_to_fixed_bit_binary(transition_decimal_correct_secret_key, 8))\n",
    "print(f\"verification in binary={Extracted_transition_bin_correct_secret_key == transition_bin_correct_secret_key}\")\n",
    "\n",
    "#Removing the zero-padded if perfomed from the last 8-bit chunk\n",
    "if transition_last_chunk_size != 0:\n",
    "    Extracted_transition_bin_correct_secret_key= Extracted_transition_bin_correct_secret_key[:-8] + Extracted_transition_bin_correct_secret_key[-8:][-transition_last_chunk_size:]\n",
    "\n",
    "max_number_of_bits = math.floor(math.log2(abs(max(transition_label_dict.values())))) + 1\n",
    "Extracted_transition_labels = binary_stream_to_numbers(''.join(Extracted_transition_bin_correct_secret_key), max_number_of_bits)\n",
    "print(f\"verification in decimal for transition labels={Extracted_transition_labels == list(transition_label_dict.values())}.\")"
   ]
  },
  {
   "cell_type": "code",
   "execution_count": 20,
   "id": "6fa654cd",
   "metadata": {},
   "outputs": [
    {
     "name": "stdout",
     "output_type": "stream",
     "text": [
      "Verification Extracted_transition_label_dict = True.\n"
     ]
    }
   ],
   "source": [
    "Extracted_transition_label_dict = {}\n",
    "for i,j in enumerate(Extracted_transition_labels):\n",
    "    Extracted_transition_label_dict[i] = j\n",
    "print(f'Verification Extracted_transition_label_dict = {Extracted_transition_label_dict == transition_label_dict}.')"
   ]
  },
  {
   "cell_type": "markdown",
   "id": "88140a9d",
   "metadata": {},
   "source": [
    "#### Testing"
   ]
  },
  {
   "cell_type": "code",
   "execution_count": 21,
   "id": "63d79724",
   "metadata": {},
   "outputs": [
    {
     "name": "stdout",
     "output_type": "stream",
     "text": [
      "(50000, 784) (50000,) (10000, 784) (10000,)\n",
      "Total clock used for inferencing 10000 samples = 70000\n",
      "Accuracy using state machine = 0.7883\n"
     ]
    }
   ],
   "source": [
    "from locked_mnist_dt_case_fsm import Lockedinference_rate\n",
    "import pickle\n",
    "with open('../MNIST_dataset/MNIST_dataset.pkl', 'rb') as f:\n",
    "    X_train, y_train, X_test, y_test = pickle.load(f)\n",
    "print(X_train.shape, y_train.shape, X_test.shape, y_test.shape)\n",
    "\n",
    "clock_counter = 0\n",
    "Y_pred = []\n",
    "for i,sample in enumerate(X_test):\n",
    "    inf_label, clock = Lockedinference_rate(sample, Extracted_encoded_label_dict, Extracted_transition_label_dict)\n",
    "    Y_pred.append(inf_label)\n",
    "    clock_counter = clock_counter + clock\n",
    "    \n",
    "print(f'Total clock used for inferencing 10000 samples = {clock_counter}')\n",
    "#Verify that the accuracy measured after state-machine inference is same as given by sklearn model.\n",
    "from sklearn.metrics import accuracy_score\n",
    "correct_KEY_accuracy = accuracy_score(y_test, Y_pred)\n",
    "correct_KEY_clock = clock_counter\n",
    "print(f'Accuracy using state machine = {correct_KEY_accuracy}')"
   ]
  },
  {
   "cell_type": "markdown",
   "id": "bb7969de",
   "metadata": {},
   "source": [
    "### Several Attacks."
   ]
  },
  {
   "cell_type": "markdown",
   "id": "0dffa681",
   "metadata": {},
   "source": [
    "#### Evaluating the locked model with wrong key."
   ]
  },
  {
   "cell_type": "code",
   "execution_count": 22,
   "id": "e1f47d89",
   "metadata": {
    "scrolled": true
   },
   "outputs": [],
   "source": [
    "def state_encoding_dict_generator(wrong_key_decimal):\n",
    "    decimal_correct_secret_key = wrong_key_decimal\n",
    "    Extracted_bin_correct_secret_key=''.join(convert_to_fixed_bit_binary(decimal_correct_secret_key, 8))\n",
    "    if last_chunk_size != 0:\n",
    "        Extracted_bin_correct_secret_key= Extracted_bin_correct_secret_key[:-8] + Extracted_bin_correct_secret_key[-8:][-last_chunk_size:]\n",
    "    max_number_of_bits = math.floor(math.log2(abs(max(state_labels)))) + 1\n",
    "    Extracted_state_labels = binary_stream_to_numbers(''.join(Extracted_bin_correct_secret_key), max_number_of_bits)\n",
    "    Extracted_encoded_label_dict = {}\n",
    "    for i,j in enumerate(Extracted_state_labels):\n",
    "        Extracted_encoded_label_dict[i] = j\n",
    "    return Extracted_encoded_label_dict\n",
    "\n",
    "def transition_encoding_dict_generator(wrong_key_decimal):\n",
    "    transition_decimal_correct_secret_key = wrong_key_decimal\n",
    "    Extracted_transition_bin_correct_secret_key=''.join(convert_to_fixed_bit_binary(transition_decimal_correct_secret_key, 8))\n",
    "    if transition_last_chunk_size != 0:\n",
    "        Extracted_transition_bin_correct_secret_key= Extracted_transition_bin_correct_secret_key[:-8] + Extracted_transition_bin_correct_secret_key[-8:][-transition_last_chunk_size:]\n",
    "    max_number_of_bits = math.floor(math.log2(abs(max(transition_label_dict.values())))) + 1\n",
    "    Extracted_transition_labels = binary_stream_to_numbers(''.join(Extracted_transition_bin_correct_secret_key), max_number_of_bits)\n",
    "    Extracted_transition_label_dict = {}\n",
    "    for i,j in enumerate(Extracted_transition_labels):\n",
    "        Extracted_transition_label_dict[i] = j\n",
    "    return Extracted_transition_label_dict\n",
    "\n",
    "\n",
    "import numpy as np\n",
    "import random\n",
    "iterations = 100\n",
    "len_key8bit_state = len(decimal_correct_secret_key)\n",
    "len_key8bit_transition = len(transition_decimal_correct_secret_key)"
   ]
  },
  {
   "cell_type": "markdown",
   "id": "b6a9d73c",
   "metadata": {},
   "source": [
    "#### Mix of right and wrong key."
   ]
  },
  {
   "cell_type": "code",
   "execution_count": 23,
   "id": "145d3af3",
   "metadata": {},
   "outputs": [],
   "source": [
    "#Adding extra checks to get out of dead trap.\n",
    "#The maximum number of states visited during inference is equal to the max_depth of the tree.\n",
    "with open('locked_mnist_dt_case_fsm.py', 'r') as f:\n",
    "    py_fsm = f.readlines()\n",
    "    f.close()\n",
    "py_fsm[2] = py_fsm[2].replace('Label == 10', f'clock_counter < {dt_max_depth}')\n",
    "\n",
    "with open('Extremelocked_mnist_dt_case_fsm.py', 'w') as f:\n",
    "    f.writelines(py_fsm)\n",
    "    f.close()        \n",
    "from Extremelocked_mnist_dt_case_fsm import Lockedinference_rate"
   ]
  },
  {
   "cell_type": "code",
   "execution_count": 24,
   "id": "6432f6e6",
   "metadata": {
    "scrolled": true
   },
   "outputs": [
    {
     "name": "stdout",
     "output_type": "stream",
     "text": [
      "Processed for the correct key = 10.0%.\n",
      "Processed for the correct key = 20.0%.\n",
      "Processed for the correct key = 30.0%.\n",
      "Processed for the correct key = 40.0%.\n",
      "Processed for the correct key = 50.0%.\n",
      "Processed for the correct key = 60.0%.\n",
      "Processed for the correct key = 70.0%.\n",
      "Processed for the correct key = 80.0%.\n",
      "Processed for the correct key = 90.0%.\n"
     ]
    }
   ],
   "source": [
    "Accuracy_history = {}\n",
    "Num_clock_history = {}\n",
    "correct_key_percentage = [0.10, 0.20, 0.30, 0.40, 0.50, 0.60, 0.70, 0.80, 0.90]\n",
    "\n",
    "for mix_percentage in correct_key_percentage:\n",
    "    Accuracy_history[f'{mix_percentage}'] = []\n",
    "    Num_clock_history[f'{mix_percentage}'] = []\n",
    "    for itr in range(iterations):\n",
    "        wrongkey_state_label = [random.randint(0, 255) for _ in range(len_key8bit_state)]\n",
    "        wrongkey_transition_label = [random.randint(0, 255) for _ in range(len_key8bit_transition)] \n",
    "        \n",
    "        wrongkey_state_label[:int(mix_percentage*len(wrongkey_state_label))] = decimal_correct_secret_key[:int(mix_percentage*len(wrongkey_state_label))]\n",
    "        wrongkey_transition_label[:int(mix_percentage*len(wrongkey_transition_label))] = transition_decimal_correct_secret_key[:int(mix_percentage*len(wrongkey_transition_label))]\n",
    "        \n",
    "        Extracted_encoded_label_dict = state_encoding_dict_generator(wrongkey_state_label)\n",
    "        Extracted_transition_label_dict = transition_encoding_dict_generator(wrongkey_transition_label)\n",
    "        clock_counter = 0\n",
    "        Y_pred = []\n",
    "        for i,sample in enumerate(X_test):\n",
    "            inf_label, clock =  Lockedinference_rate(sample, Extracted_encoded_label_dict, Extracted_transition_label_dict)           \n",
    "            Y_pred.append(inf_label)\n",
    "            clock_counter = clock_counter + clock\n",
    "        Num_clock_history[f'{mix_percentage}'].append(clock_counter)\n",
    "        inferential_acc = accuracy_score(y_test, Y_pred)\n",
    "        Accuracy_history[f'{mix_percentage}'].append(inferential_acc)\n",
    "    print(f'Processed for the correct key = {mix_percentage*100}%.')"
   ]
  },
  {
   "cell_type": "markdown",
   "id": "20691ccd",
   "metadata": {},
   "source": [
    "#### Finite tuning the percentage range and re-runing."
   ]
  },
  {
   "cell_type": "code",
   "execution_count": 25,
   "id": "b180cea5",
   "metadata": {},
   "outputs": [
    {
     "name": "stdout",
     "output_type": "stream",
     "text": [
      "Processed for the correct key = 91.0%.\n",
      "Processed for the correct key = 92.0%.\n",
      "Processed for the correct key = 93.0%.\n",
      "Processed for the correct key = 94.0%.\n",
      "Processed for the correct key = 95.0%.\n",
      "Processed for the correct key = 96.0%.\n",
      "Processed for the correct key = 97.0%.\n",
      "Processed for the correct key = 98.0%.\n",
      "Processed for the correct key = 99.0%.\n",
      "Processed for the correct key = 100.0%.\n"
     ]
    }
   ],
   "source": [
    "correct_key_percentage = [0.91, 0.92, 0.93, 0.94, 0.95, 0.96, 0.97, 0.98, 0.99, 1.0 ]\n",
    "for mix_percentage in correct_key_percentage:\n",
    "    Accuracy_history[f'{mix_percentage}'] = []\n",
    "    Num_clock_history[f'{mix_percentage}'] = []\n",
    "    for itr in range(iterations):\n",
    "        wrongkey_state_label = [random.randint(0, 255) for _ in range(len_key8bit_state)]\n",
    "        wrongkey_transition_label = [random.randint(0, 255) for _ in range(len_key8bit_transition)] \n",
    "        \n",
    "        wrongkey_state_label[:int(mix_percentage*len(wrongkey_state_label))] = decimal_correct_secret_key[:int(mix_percentage*len(wrongkey_state_label))]\n",
    "        wrongkey_transition_label[:int(mix_percentage*len(wrongkey_transition_label))] = transition_decimal_correct_secret_key[:int(mix_percentage*len(wrongkey_transition_label))]\n",
    "        \n",
    "        Extracted_encoded_label_dict = state_encoding_dict_generator(wrongkey_state_label)\n",
    "        Extracted_transition_label_dict = transition_encoding_dict_generator(wrongkey_transition_label)\n",
    "        clock_counter = 0\n",
    "        Y_pred = []\n",
    "        for i,sample in enumerate(X_test):\n",
    "            inf_label, clock =  Lockedinference_rate(sample, Extracted_encoded_label_dict, Extracted_transition_label_dict)           \n",
    "            Y_pred.append(inf_label)\n",
    "            clock_counter = clock_counter + clock\n",
    "        Num_clock_history[f'{mix_percentage}'].append(clock_counter)\n",
    "        inferential_acc = accuracy_score(y_test, Y_pred)\n",
    "        Accuracy_history[f'{mix_percentage}'].append(inferential_acc)\n",
    "    print(f'Processed for the correct key = {mix_percentage*100}%.')"
   ]
  },
  {
   "cell_type": "code",
   "execution_count": 26,
   "id": "2250a66e",
   "metadata": {},
   "outputs": [
    {
     "name": "stdout",
     "output_type": "stream",
     "text": [
      "{'0.1': 0.106398, '0.2': 0.107273, '0.3': 0.109277, '0.4': 0.109535, '0.5': 0.11198099999999998, '0.6': 0.10950199999999999, '0.7': 0.12127399999999999, '0.8': 0.288997, '0.9': 0.40556500000000006, '0.91': 0.465149, '0.92': 0.515516, '0.93': 0.5387359999999999, '0.94': 0.5394340000000001, '0.95': 0.54012, '0.96': 0.5427919999999999, '0.97': 0.6110810000000001, '0.98': 0.678026, '0.99': 0.768609, '1.0': 0.7883000000000001}\n"
     ]
    },
    {
     "data": {
      "image/png": "[encoded data removed]",
      "text/plain": [
       "<Figure size 500x250 with 1 Axes>"
      ]
     },
     "metadata": {},
     "output_type": "display_data"
    }
   ],
   "source": [
    "import matplotlib.pyplot as plt\n",
    "c=['r','g','b','c','m', 'y', 'k']\n",
    "m=['s','o','v','^','.']\n",
    "fig, ax = plt.subplots(1,1,figsize=(5,2.5))\n",
    "Average_acc = {}\n",
    "for mix_percentage in Accuracy_history.keys():\n",
    "    Average_acc[mix_percentage] = np.mean(Accuracy_history[mix_percentage])\n",
    "\n",
    "print(Average_acc)\n",
    "\n",
    "x, y = Average_acc.keys(), Average_acc.values()\n",
    "\n",
    "ax.plot(np.arange(1,len(x)+1), [i*100 for i in y], linestyle=':', marker = '8' , color = c[1], fillstyle='none', label='Partial correct key')\n",
    "ax.plot(np.arange(1,len(Accuracy_history)+1), [correct_KEY_accuracy * 100] * len(Accuracy_history), linestyle=':', marker = '.' , color = c[0], fillstyle='none', label='Full correct key')\n",
    "ax.grid(color='y', linestyle=':', linewidth=1)\n",
    "ax.set_title(f'DT Average accuracy.', fontsize=10)\n",
    "ax.set_yticks([0, 10, 20, 30, 40, 50, 60, 70, 80])\n",
    "ax.set_ylabel('Accuracy (%)') \n",
    "ax.set_xlabel('Percentage of correct key', fontsize=10)\n",
    "ax.set_xticks(np.arange(1,len(x)+1,1))\n",
    "ax.set_xticklabels(x, rotation=40)\n",
    "ax.legend(loc='right', framealpha=0.6, fontsize = 10)\n",
    "fig.tight_layout(pad=0.2)\n",
    "plt.savefig('MNIST_Accuracy_Allmix_depth7.pdf')"
   ]
  },
  {
   "cell_type": "code",
   "execution_count": null,
   "id": "f9b4d2a4",
   "metadata": {},
   "outputs": [],
   "source": []
  }
 ],
 "metadata": {
  "kernelspec": {
   "display_name": "Python 3 (ipykernel)",
   "language": "python",
   "name": "python3"
  },
  "language_info": {
   "codemirror_mode": {
    "name": "ipython",
    "version": 3
   },
   "file_extension": ".py",
   "mimetype": "text/x-python",
   "name": "python",
   "nbconvert_exporter": "python",
   "pygments_lexer": "ipython3",
   "version": "3.11.2"
  }
 },
 "nbformat": 4,
 "nbformat_minor": 5
}
