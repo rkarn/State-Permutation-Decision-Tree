{
 "cells": [
  {
   "cell_type": "code",
   "execution_count": 1,
   "id": "7d152de8",
   "metadata": {},
   "outputs": [
    {
     "name": "stdout",
     "output_type": "stream",
     "text": [
      "(60000, 784) (60000,)\n",
      "(10000, 784) (10000,)\n"
     ]
    }
   ],
   "source": [
    "import idx2numpy\n",
    "import seaborn as sns\n",
    "X_train_3D = idx2numpy.convert_from_file('MNIST_dataset/train-images-idx3-ubyte')\n",
    "X_train = X_train_3D.flatten().reshape(60000,784)\n",
    "\n",
    "y_train = idx2numpy.convert_from_file('MNIST_dataset/train-labels-idx1-ubyte')\n",
    "print(X_train.shape, y_train.shape)\n",
    "X_test_3D = idx2numpy.convert_from_file('MNIST_dataset/t10k-images-idx3-ubyte')\n",
    "X_test =  X_test_3D.flatten().reshape(10000,784)\n",
    "\n",
    "y_test = idx2numpy.convert_from_file('MNIST_dataset/t10k-labels-idx1-ubyte')\n",
    "print(X_test.shape, y_test.shape)"
   ]
  },
  {
   "cell_type": "code",
   "execution_count": 2,
   "id": "4e0ce7da",
   "metadata": {},
   "outputs": [
    {
     "name": "stdout",
     "output_type": "stream",
     "text": [
      "DecisionTreeClassifier(max_depth=8)\n",
      "Number of nodes in the decision tree 501.\n",
      "Number of threshold in the decision tree 501.\n",
      "Number of leaves in the decision tree 251. It will be number of states in sequential FSM.\n",
      "0.8367 0.8239\n"
     ]
    }
   ],
   "source": [
    "import numpy as np\n",
    "from sklearn.utils import shuffle\n",
    "X_shuffle,y_shuffle = shuffle(X_train,y_train)\n",
    "X_train = X_shuffle[0:50000]\n",
    "y_train = y_shuffle[0:50000]\n",
    "\n",
    "from sklearn import tree\n",
    "from sklearn.model_selection import cross_val_predict\n",
    "\n",
    "#dt_clf = tree.DecisionTreeClassifier(max_depth=20, max_leaf_nodes=300)\n",
    "dt_clf = tree.DecisionTreeClassifier(max_depth=8)\n",
    "\n",
    "y_train_pred = cross_val_predict(dt_clf, X_train, y_train, cv=2)\n",
    "print(dt_clf.fit(X_train, y_train))\n",
    "\n",
    "print('Number of nodes in the decision tree {}.'.format(dt_clf.tree_.node_count))\n",
    "print('Number of threshold in the decision tree {}.'.format(len(dt_clf.tree_.threshold)))\n",
    "print('Number of leaves in the decision tree {}. It will be number of states in sequential FSM.'.format(dt_clf.tree_.n_leaves))\n",
    "\n",
    "from sklearn.metrics import accuracy_score\n",
    "print(accuracy_score(y_train, dt_clf.predict(X_train)), accuracy_score(y_test, dt_clf.predict(X_test)))"
   ]
  },
  {
   "cell_type": "code",
   "execution_count": 3,
   "id": "5bb0557d",
   "metadata": {},
   "outputs": [],
   "source": [
    "import pickle\n",
    "with open('MNIST_dataset/MNIST_dataset.pkl', 'wb') as f:\n",
    "    pickle.dump([X_train, y_train, X_test, y_test], f)"
   ]
  },
  {
   "cell_type": "markdown",
   "id": "8bb46766",
   "metadata": {},
   "source": [
    "#### Run this cell twice."
   ]
  },
  {
   "cell_type": "code",
   "execution_count": 5,
   "id": "5cdc14bb",
   "metadata": {},
   "outputs": [],
   "source": [
    "%%capture cap --no-stderr\n",
    "from sklearn.tree import _tree\n",
    "\n",
    "def tree_to_code(tree, feature_names):\n",
    "    tree_ = tree.tree_\n",
    "    feature_name = [\n",
    "        feature_names[i] if i != _tree.TREE_UNDEFINED else \"undefined!\"\n",
    "        for i in tree_.feature\n",
    "    ]\n",
    "    \n",
    "    def recurse(node, depth):\n",
    "        indent = \"  \" * depth\n",
    "        if tree_.feature[node] != _tree.TREE_UNDEFINED:\n",
    "            name = feature_name[node]\n",
    "            threshold = tree_.threshold[node]\n",
    "            print (\"{}{}:if ({} <= {})\".format(indent, node, name, int(round(threshold,3)))) \n",
    "            recurse(tree_.children_left[node], depth + 1)\n",
    "            print (\"{}{}:else \".format(indent, node, name, int(round(threshold,3))))\n",
    "            recurse(tree_.children_right[node], depth + 1)\n",
    "        else:\n",
    "            print (\"{} Label<={};\".format(indent, np.argmax(tree_.value[node][0],axis=0)))\n",
    "\n",
    "    recurse(0, 1)\n",
    "\n",
    "cols = range(784)\n",
    "features = ['pixels[{}]'.format(str(i)) for i in cols]\n",
    "class_names = [str(i) for i in dt_clf.classes_]\n",
    "tree_to_code(dt_clf, features)\n",
    "\n",
    "with open('decision_rules_mnist.txt', 'w') as f:\n",
    "    f.write(cap.stdout)"
   ]
  },
  {
   "cell_type": "markdown",
   "id": "333190e3",
   "metadata": {},
   "source": [
    "#### Run this cell twice."
   ]
  },
  {
   "cell_type": "code",
   "execution_count": 7,
   "id": "1c6652cf",
   "metadata": {},
   "outputs": [],
   "source": [
    "%%capture cap --no-stderr\n",
    "\n",
    "import pdb\n",
    "def write_file(data_towrite):\n",
    "    with open('verilog_file.v', 'a', encoding='utf-8') as file:\n",
    "        file.writelines(data_towrite)\n",
    "        file.close()\n",
    "        \n",
    "def write_line_file(data_towrite, line_num):\n",
    "    with open('verilog_file.v', 'r', encoding='utf-8') as file:\n",
    "        file_content = file.readlines()\n",
    "        file.close()\n",
    "    file_content[line_num] = file_content[line_num].replace('\\n','') + ' ' + data_towrite + '\\n'  \n",
    "    with open('verilog_file.v', 'w', encoding='utf-8') as file:\n",
    "        file.writelines(file_content)\n",
    "        file.close()\n",
    "        \n",
    "def search_content_file(word):\n",
    "    with open('verilog_file.v', 'r') as file:\n",
    "        file_content = file.readlines()\n",
    "        for line_num,line in enumerate(file_content):\n",
    "            if word in line:\n",
    "                return(line_num)\n",
    "        return(\"content doesn't exists.\")\n",
    "    \n",
    "def update_stateformat_file():\n",
    "    with open('verilog_file.v', 'r', encoding='utf-8') as file:\n",
    "        file_content = file.readlines()\n",
    "        file.close()\n",
    "    for line_num,line in enumerate(file_content):\n",
    "        if 'if' in line:\n",
    "            file_content[line_num] = '    case ' + file_content[line_num].strip() + ' \\n'  \n",
    "    with open('verilog_file.v', 'w', encoding='utf-8') as file:\n",
    "        file.writelines(file_content)\n",
    "        file.close()\n",
    "        \n",
    "def clear_file():\n",
    "    with open('verilog_file.v', 'w', encoding='utf-8') as file:\n",
    "        pass\n",
    "        file.close()\n",
    "        \n",
    "def print_file_content():\n",
    "    with open('verilog_file.v', 'r', encoding='utf-8') as file:\n",
    "        file_content = file.read()\n",
    "        file.close()\n",
    "    print(file_content)\n",
    "\n",
    "\n",
    "import itertools\n",
    "with open('decision_rules_mnist.txt', 'r') as f:\n",
    "    tree_verilog = f.read()\n",
    "    f.close()\n",
    "\n",
    "clear_file()\n",
    "line_num = 0\n",
    "else_state = 0\n",
    "else_nextif_state = 0\n",
    "curr_line,next_line = itertools.tee(tree_verilog.split('\\n'))\n",
    "next(next_line, None)\n",
    "for i,j in list(zip(curr_line,next_line)):\n",
    "    if 'Label' in i:\n",
    "        pass\n",
    "        #write_file(f'  begin {i.strip()} state<=0;ml_inference_completed<=1; end \\n')\n",
    "    elif 'else' in i and 'Label' in j:\n",
    "        else_state = i.strip().split(':')[0]\n",
    "        line_num = search_content_file(' '+str(else_state)+':if' )\n",
    "        spaces = 12-len(str(line_num))\n",
    "        spaces = ' '*spaces\n",
    "        write_line_file(f'\\n{spaces}else:  {j.strip().replace(\"<\",\"\")} state=0;ml_inference_completed=1; clock_counter = clock_counter+1;', line_num)\n",
    "    elif 'else' in i and 'if' in j:\n",
    "        else_state = i.strip().split(':')[0]\n",
    "        else_nextif_state = j.strip().split(':')[0]\n",
    "        line_num = search_content_file(' '+str(else_state)+':if' )\n",
    "        spaces = 12-len(str(line_num))\n",
    "        spaces = ' '*spaces\n",
    "        write_line_file(f' \\n{spaces}else: state={else_nextif_state}; clock_counter = clock_counter+1;', line_num)\n",
    "    elif 'if' in i and 'Label' in j:\n",
    "        write_file(f' {i.strip()}:  {j.strip().replace(\"<\",\"\")} state=0;ml_inference_completed<=1; clock_counter = clock_counter+1; ')\n",
    "    elif 'if' in i and 'if' in j:\n",
    "        write_file(f' {i.strip()}: clock_counter = clock_counter+1; state={j.strip().split(\":\")[0]};  \\n ')  \n",
    "update_stateformat_file()\n",
    "print('def inference_rate(pixels):')\n",
    "print(' clock_counter=0; state=0; Label=10; ml_inference_completed=0; #assigning dummy default label to 10')\n",
    "print(' while(Label == 10):')\n",
    "print('  match state:')\n",
    "print_file_content()\n",
    "print(' return (Label,clock_counter)')\n",
    "\n",
    "with open('mnist_dt_case_fsm.py', 'w') as f:\n",
    "    f.write(cap.stdout)"
   ]
  },
  {
   "cell_type": "code",
   "execution_count": 8,
   "id": "33910eec",
   "metadata": {},
   "outputs": [],
   "source": [
    "# Aligning the spaces\n",
    "with open('mnist_dt_case_fsm.py', 'r') as f:\n",
    "    py_fsm = f.readlines()\n",
    "    f.close()\n",
    "    \n",
    "curr_line,next_line = itertools.tee(py_fsm)\n",
    "next(next_line, None)\n",
    "for i,j in list(zip(curr_line,next_line)):\n",
    "    if 'if' in i and 'else' in j:\n",
    "        if len(i.split('if')[0]) != len(j.split('else')[0]):\n",
    "            py_fsm[py_fsm.index(j)] = ' '* (len(i.split('if')[0]) - len(j.split('else')[0])) + py_fsm[py_fsm.index(j)]\n",
    "            \n",
    "\n",
    "for i in py_fsm:\n",
    "    if 'case' in i:\n",
    "        py_fsm[py_fsm.index(i)] = i.split(':if')[0]+':\\n'+ ' '*(len(i.split(':if')[0])+1) + 'if' + i.split(':if')[1]\n",
    "        \n",
    "with open('mnist_dt_case_fsm.py', 'w') as f:\n",
    "    f.writelines(py_fsm)\n",
    "    f.close()        "
   ]
  },
  {
   "cell_type": "code",
   "execution_count": 9,
   "id": "d3c4315c",
   "metadata": {},
   "outputs": [],
   "source": [
    "#Adding default state \n",
    "with open('mnist_dt_case_fsm.py', 'r') as f:\n",
    "    py_fsm = f.readlines()\n",
    "    f.close()\n",
    "py_fsm[-2] = ' '*4+'case _:\\n'+ ' '*len(' '*4+'case _:') + 'import random; Label=random.randint(0,9); state=0;ml_inference_completed=1; clock_counter = clock_counter+1;\\n'\n",
    "\n",
    "with open('mnist_dt_case_fsm.py', 'w') as f:\n",
    "    f.writelines(py_fsm)\n",
    "    f.close()        \n"
   ]
  },
  {
   "cell_type": "markdown",
   "id": "46bcac22",
   "metadata": {},
   "source": [
    "## FSM State Permutation Obfuscation"
   ]
  },
  {
   "cell_type": "markdown",
   "id": "974e0c03",
   "metadata": {},
   "source": [
    "#### Extracting the state labels and transition labels."
   ]
  },
  {
   "cell_type": "code",
   "execution_count": 10,
   "id": "4e59c558",
   "metadata": {},
   "outputs": [
    {
     "name": "stdout",
     "output_type": "stream",
     "text": [
      "True\n",
      "Number of state/transition labels = 250.\n",
      "[0, 1, 2, 3, 4, 5, 6, 7, 10, 13, 14, 17, 20, 21, 22, 25, 28, 29, 32, 35, 36, 37, 38, 41, 44, 45, 48, 51, 52, 53, 56, 59, 60, 63, 66, 67, 68, 69, 70, 73, 76, 77, 80, 83, 84, 85, 88, 91, 94, 95, 96, 97, 100, 103, 104, 107, 110, 111, 112, 115, 118, 119, 122, 125, 126, 127, 128, 129, 130, 134, 135, 138, 141, 142, 143, 146, 149, 150, 153, 156, 157, 158, 159, 162, 165, 166, 169, 172, 173, 174, 177, 180, 181, 184, 187, 188, 189, 190, 191, 194, 197, 198, 201, 204, 205, 206, 209, 212, 213, 216, 219, 220, 221, 222, 225, 228, 229, 232, 235, 236, 237, 240, 243, 244, 247, 250, 251, 252, 253, 254, 255, 256, 259, 262, 263, 266, 269, 270, 271, 274, 277, 278, 281, 284, 285, 286, 287, 290, 293, 294, 297, 300, 301, 302, 305, 308, 309, 312, 315, 316, 317, 318, 319, 322, 325, 326, 329, 332, 333, 334, 337, 340, 341, 344, 347, 348, 349, 350, 353, 356, 357, 360, 363, 364, 365, 368, 371, 372, 375, 378, 379, 380, 381, 382, 383, 386, 389, 390, 393, 396, 397, 398, 401, 404, 405, 408, 411, 412, 413, 414, 418, 419, 422, 425, 426, 427, 430, 433, 434, 437, 440, 441, 442, 443, 444, 447, 450, 451, 454, 457, 458, 459, 462, 465, 467, 470, 471, 472, 473, 476, 479, 480, 483, 486, 487, 488, 491, 494, 495, 498]\n"
     ]
    }
   ],
   "source": [
    "with open('mnist_dt_case_fsm.py', 'r') as f:\n",
    "    py_fsm = f.readlines()\n",
    "    f.close()\n",
    "    \n",
    "state_labels = []\n",
    "transition_labels = []\n",
    "for i in py_fsm:\n",
    "    if 'case' in i and '_' not in i:\n",
    "        state_labels.append(int(i.split(':')[0].split(' ')[-1]))\n",
    "    if 'state=' in i:\n",
    "        transition_labels.append(int(i.split('state=')[-1].split(';')[0]))\n",
    "\n",
    "transition_labels = list(set(transition_labels))\n",
    "print(state_labels == transition_labels)\n",
    "\n",
    "print(f'Number of state/transition labels = {len(state_labels)}.')\n",
    "print(state_labels)"
   ]
  },
  {
   "cell_type": "markdown",
   "id": "3de7d1c2",
   "metadata": {},
   "source": [
    "#### Designing a correct key for state label."
   ]
  },
  {
   "cell_type": "code",
   "execution_count": 11,
   "id": "3c9fc823",
   "metadata": {},
   "outputs": [
    {
     "name": "stdout",
     "output_type": "stream",
     "text": [
      "Maximum vlaue of state label = 498. \n",
      "Minimum number of bits to represent it = 9.\n",
      "Length of bin_correct_secret_key before 8-bit word division = 2250.\n",
      "Length of bin_correct_secret_key after 8-bit word division = 2256.\n",
      "correct_secret_key in binary = 000000000000000001000000010000000011000000100000000101000000110000000111000001010000001101000001110000010001000010100000010101000010110000011001000011100000011101000100000000100011000100100000100101000100110000101001000101100000101101000110000000110011000110100000110101000111000000111011000111100000111111001000010001000011001000100001000101001000110001001001001001100001001101001010000001010011001010100001010101001011000001011011001011110001011111001100000001100001001100100001100111001101000001101011001101110001101111001110000001110011001110110001110111001111010001111101001111110001111111010000000010000001010000010010000110010000111010001010010001101010001110010001111010010010010010101010010110010011001010011100010011101010011110010011111010100010010100101010100110010101001010101100010101101010101110010110001010110100010110101010111000010111011010111100010111101010111110010111111011000010011000101011000110011001001011001100011001101011001110011010001011010100011010101011011000011011011011011100011011101011011110011100001011100100011100101011101000011101011011101100011101101011110000011110011011110100011110111011111010011111011011111100011111101011111110011111111100000000100000011100000110100000111100001010100001101100001110100001111100010010100010101100010110100011001100011100100011101100011110100011111100100010100100101100100110100101001100101100100101101100101110100110001100110100100110101100111000100111011100111100100111101100111110100111111101000010101000101101000110101001001101001100101001101101001110101010001101010100101010101101011000101011011101011100101011101101011110101100001101100100101100101101101000101101011101101100101101101101110000101110011101110100101110111101111010101111011101111100101111101101111110101111111110000010110000101110000110110001001110001100110001101110001110110010001110010100110010101110011000110011011110011100110011101110011110110100010110100011110100110110101001110101010110101011110101110110110001110110010110110101110111000110111001110111010110111011110111100110111111111000010111000011111000110111001001111001010111001011111001110111010001111010011111010110111010111111011000111011001111011100111011111111100000111100011111100110111100111111101000111101011111101110111101111111110000000010\n",
      "correct_secret_key in decimal = [0, 0, 64, 64, 48, 32, 20, 12, 7, 5, 3, 65, 193, 16, 160, 84, 44, 25, 14, 7, 68, 2, 49, 32, 148, 76, 41, 22, 11, 70, 3, 49, 160, 212, 112, 59, 30, 15, 200, 68, 50, 33, 20, 140, 73, 38, 19, 74, 5, 50, 161, 84, 176, 91, 47, 23, 204, 6, 19, 33, 156, 208, 107, 55, 27, 206, 7, 51, 177, 220, 244, 125, 63, 31, 208, 8, 20, 18, 25, 14, 138, 70, 163, 145, 233, 36, 170, 89, 50, 156, 78, 167, 147, 234, 37, 42, 153, 82, 172, 86, 171, 150, 43, 69, 170, 225, 118, 188, 94, 175, 151, 236, 38, 43, 25, 146, 204, 102, 179, 154, 45, 70, 171, 97, 182, 220, 110, 183, 156, 46, 71, 43, 161, 214, 236, 118, 188, 30, 111, 71, 187, 233, 246, 252, 126, 191, 159, 240, 8, 28, 26, 15, 10, 134, 195, 161, 241, 40, 172, 90, 51, 28, 142, 199, 163, 242, 41, 44, 154, 83, 44, 150, 203, 166, 51, 73, 172, 226, 119, 60, 158, 207, 167, 244, 42, 45, 26, 147, 76, 166, 211, 170, 53, 74, 173, 98, 183, 92, 174, 215, 172, 54, 75, 45, 162, 215, 108, 182, 220, 46, 119, 75, 189, 234, 247, 124, 190, 223, 175, 248, 44, 46, 27, 19, 140, 198, 227, 178, 57, 76, 174, 99, 55, 156, 206, 231, 180, 90, 61, 54, 167, 85, 171, 215, 108, 118, 91, 93, 198, 231, 117, 187, 222, 111, 248, 92, 62, 55, 39, 149, 203, 231, 116, 122, 125, 110, 191, 99, 179, 220, 239, 248, 60, 126, 111, 63, 163, 215, 238, 247, 252, 2]\n",
      "Length of correct_secret_key in decimal = 282. This matches |bin_correct_secret_key|/8 = 282.0.\n"
     ]
    }
   ],
   "source": [
    "import math\n",
    "max_val_statelabel = max(state_labels)\n",
    "number_of_bits = math.floor(math.log2(abs(max(state_labels)))) + 1\n",
    "print(f'Maximum vlaue of state label = {max_val_statelabel}. ')\n",
    "print(f'Minimum number of bits to represent it = {number_of_bits}.')\n",
    "\n",
    "def convert_to_binary_with_padding(numbers):\n",
    "    max_bits = len(bin(max(numbers))) - 2  # Determine the maximum number of bits needed\n",
    "    binary_numbers = []\n",
    "    for num in numbers:\n",
    "        binary = bin(num)[2:]  # Convert number to binary, remove '0b' prefix\n",
    "        padded_binary = binary.zfill(max_bits)  # Perform zero padding\n",
    "        binary_numbers.append(padded_binary)\n",
    "    return binary_numbers\n",
    "\n",
    "binary_state_labels = convert_to_binary_with_padding(state_labels)\n",
    "bin_correct_secret_key = ''.join(binary_state_labels)\n",
    "print(f'Length of bin_correct_secret_key before 8-bit word division = {len(bin_correct_secret_key)}.')\n",
    "last_chunk_size = len(bin_correct_secret_key) % 8    #Checking the last chunk whether it is 8-bit or not\n",
    "if last_chunk_size !=0:\n",
    "    bin_correct_secret_key = bin_correct_secret_key[0:-last_chunk_size] + bin_correct_secret_key[-last_chunk_size:].zfill(8)\n",
    "print(f'Length of bin_correct_secret_key after 8-bit word division = {len(bin_correct_secret_key)}.')\n",
    "print(f'correct_secret_key in binary = {bin_correct_secret_key}')\n",
    "\n",
    "def binary_stream_to_bytes(binary_stream):\n",
    "    # Split the binary stream into 8-bit chunks\n",
    "    chunks = [binary_stream[i:i+8] for i in range(0, len(binary_stream), 8)]\n",
    "    # Convert each chunk to a decimal integer\n",
    "    bytes_list = [int(chunk, 2) for chunk in chunks]\n",
    "    return bytes_list\n",
    "\n",
    "decimal_correct_secret_key = binary_stream_to_bytes(bin_correct_secret_key)\n",
    "print(f'correct_secret_key in decimal = {decimal_correct_secret_key}')\n",
    "print(f'Length of correct_secret_key in decimal = {len(decimal_correct_secret_key)}. This matches |bin_correct_secret_key|/8 = {len(bin_correct_secret_key)/8}.')"
   ]
  },
  {
   "cell_type": "markdown",
   "id": "3b658f1b",
   "metadata": {},
   "source": [
    "#### Creating the state_label and transition_label encoding for each case statement in the mnist_dt_case_fsm.py. Saving the script in locked_mnist_dt_case_fsm.py"
   ]
  },
  {
   "cell_type": "code",
   "execution_count": 12,
   "id": "fdc459b0",
   "metadata": {},
   "outputs": [
    {
     "name": "stdout",
     "output_type": "stream",
     "text": [
      "{0: 0, 1: 1, 2: 2, 3: 3, 4: 4, 5: 5, 6: 6, 7: 7, 8: 10, 9: 13, 10: 14, 11: 17, 12: 20, 13: 21, 14: 22, 15: 25, 16: 28, 17: 29, 18: 32, 19: 35, 20: 36, 21: 37, 22: 38, 23: 41, 24: 44, 25: 45, 26: 48, 27: 51, 28: 52, 29: 53, 30: 56, 31: 59, 32: 60, 33: 63, 34: 66, 35: 67, 36: 68, 37: 69, 38: 70, 39: 73, 40: 76, 41: 77, 42: 80, 43: 83, 44: 84, 45: 85, 46: 88, 47: 91, 48: 94, 49: 95, 50: 96, 51: 97, 52: 100, 53: 103, 54: 104, 55: 107, 56: 110, 57: 111, 58: 112, 59: 115, 60: 118, 61: 119, 62: 122, 63: 125, 64: 126, 65: 127, 66: 128, 67: 129, 68: 130, 69: 134, 70: 135, 71: 138, 72: 141, 73: 142, 74: 143, 75: 146, 76: 149, 77: 150, 78: 153, 79: 156, 80: 157, 81: 158, 82: 159, 83: 162, 84: 165, 85: 166, 86: 169, 87: 172, 88: 173, 89: 174, 90: 177, 91: 180, 92: 181, 93: 184, 94: 187, 95: 188, 96: 189, 97: 190, 98: 191, 99: 194, 100: 197, 101: 198, 102: 201, 103: 204, 104: 205, 105: 206, 106: 209, 107: 212, 108: 213, 109: 216, 110: 219, 111: 220, 112: 221, 113: 222, 114: 225, 115: 228, 116: 229, 117: 232, 118: 235, 119: 236, 120: 237, 121: 240, 122: 243, 123: 244, 124: 247, 125: 250, 126: 251, 127: 252, 128: 253, 129: 254, 130: 255, 131: 256, 132: 259, 133: 262, 134: 263, 135: 266, 136: 269, 137: 270, 138: 271, 139: 274, 140: 277, 141: 278, 142: 281, 143: 284, 144: 285, 145: 286, 146: 287, 147: 290, 148: 293, 149: 294, 150: 297, 151: 300, 152: 301, 153: 302, 154: 305, 155: 308, 156: 309, 157: 312, 158: 315, 159: 316, 160: 317, 161: 318, 162: 319, 163: 322, 164: 325, 165: 326, 166: 329, 167: 332, 168: 333, 169: 334, 170: 337, 171: 340, 172: 341, 173: 344, 174: 347, 175: 348, 176: 349, 177: 350, 178: 353, 179: 356, 180: 357, 181: 360, 182: 363, 183: 364, 184: 365, 185: 368, 186: 371, 187: 372, 188: 375, 189: 378, 190: 379, 191: 380, 192: 381, 193: 382, 194: 383, 195: 386, 196: 389, 197: 390, 198: 393, 199: 396, 200: 397, 201: 398, 202: 401, 203: 404, 204: 405, 205: 408, 206: 411, 207: 412, 208: 413, 209: 414, 210: 418, 211: 419, 212: 422, 213: 425, 214: 426, 215: 427, 216: 430, 217: 433, 218: 434, 219: 437, 220: 440, 221: 441, 222: 442, 223: 443, 224: 444, 225: 447, 226: 450, 227: 451, 228: 454, 229: 457, 230: 458, 231: 459, 232: 462, 233: 465, 234: 467, 235: 470, 236: 471, 237: 472, 238: 473, 239: 476, 240: 479, 241: 480, 242: 483, 243: 486, 244: 487, 245: 488, 246: 491, 247: 494, 248: 495, 249: 498} \n",
      "-----\n",
      " {0: 35, 1: 115, 2: 169, 3: 259, 4: 53, 5: 95, 6: 150, 7: 389, 8: 141, 9: 457, 10: 244, 11: 491, 12: 269, 13: 271, 14: 494, 15: 45, 16: 229, 17: 119, 18: 430, 19: 383, 20: 297, 21: 7, 22: 401, 23: 252, 24: 325, 25: 189, 26: 434, 27: 375, 28: 159, 29: 205, 30: 77, 31: 278, 32: 228, 33: 254, 34: 104, 35: 165, 36: 440, 37: 462, 38: 17, 39: 134, 40: 209, 41: 48, 42: 162, 43: 125, 44: 427, 45: 357, 46: 138, 47: 414, 48: 333, 49: 334, 50: 220, 51: 32, 52: 396, 53: 305, 54: 173, 55: 103, 56: 38, 57: 340, 58: 465, 59: 425, 60: 130, 61: 319, 62: 0, 63: 76, 64: 381, 65: 126, 66: 127, 67: 251, 68: 372, 69: 300, 70: 459, 71: 471, 72: 187, 73: 356, 74: 458, 75: 107, 76: 312, 77: 146, 78: 441, 79: 326, 80: 44, 81: 329, 82: 426, 83: 398, 84: 197, 85: 100, 86: 20, 87: 290, 88: 285, 89: 495, 90: 344, 91: 69, 92: 96, 93: 255, 94: 52, 95: 1, 96: 177, 97: 51, 98: 68, 99: 91, 100: 240, 101: 13, 102: 37, 103: 450, 104: 157, 105: 237, 106: 277, 107: 294, 108: 2, 109: 467, 110: 128, 111: 413, 112: 386, 113: 412, 114: 21, 115: 190, 116: 332, 117: 191, 118: 70, 119: 153, 120: 213, 121: 219, 122: 256, 123: 286, 124: 418, 125: 198, 126: 225, 127: 84, 128: 14, 129: 10, 130: 382, 131: 442, 132: 270, 133: 480, 134: 94, 135: 293, 136: 56, 137: 25, 138: 451, 139: 166, 140: 22, 141: 29, 142: 206, 143: 181, 144: 419, 145: 5, 146: 236, 147: 274, 148: 309, 149: 302, 150: 41, 151: 232, 152: 3, 153: 4, 154: 476, 155: 112, 156: 473, 157: 188, 158: 172, 159: 483, 160: 422, 161: 243, 162: 73, 163: 129, 164: 212, 165: 80, 166: 308, 167: 318, 168: 135, 169: 142, 170: 437, 171: 315, 172: 67, 173: 405, 174: 347, 175: 397, 176: 149, 177: 28, 178: 143, 179: 36, 180: 350, 181: 63, 182: 60, 183: 348, 184: 353, 185: 204, 186: 284, 187: 194, 188: 378, 189: 404, 190: 110, 191: 360, 192: 470, 193: 247, 194: 498, 195: 316, 196: 85, 197: 433, 198: 174, 199: 88, 200: 408, 201: 180, 202: 184, 203: 488, 204: 487, 205: 486, 206: 341, 207: 364, 208: 118, 209: 322, 210: 235, 211: 281, 212: 380, 213: 371, 214: 444, 215: 472, 216: 250, 217: 156, 218: 337, 219: 368, 220: 379, 221: 97, 222: 287, 223: 363, 224: 201, 225: 479, 226: 158, 227: 365, 228: 301, 229: 59, 230: 349, 231: 253, 232: 222, 233: 66, 234: 262, 235: 263, 236: 447, 237: 454, 238: 122, 239: 216, 240: 390, 241: 411, 242: 221, 243: 266, 244: 317, 245: 393, 246: 443, 247: 111, 248: 83, 249: 6}\n"
     ]
    }
   ],
   "source": [
    "import pdb\n",
    "with open('mnist_dt_case_fsm.py', 'r') as f:\n",
    "    py_fsm = f.readlines()\n",
    "    f.close()\n",
    "    \n",
    "#In Python >=3.10, the match statement doesn't support using variables or expressions as case labels directly. \n",
    "#However, you can achieve the desired functionality by using the case statement with conditions.\n",
    "\n",
    "encoder_counter = 0\n",
    "encoded_label_dict = {}  #read as : value = true case state label, key = encoded label sliced from the secret key\n",
    "for i in py_fsm:\n",
    "    if 'case' in i and '_' not in i:\n",
    "        py_fsm[py_fsm.index(i)] = i.replace(i.split(':')[0].split(' ')[-1], f'x if x == encoded_state_label[{encoder_counter}]')\n",
    "        encoded_label_dict[encoder_counter] = int(i.split(':')[0].split(' ')[-1])\n",
    "        encoder_counter = encoder_counter+1\n",
    "\n",
    "import random\n",
    "def shuffle_dict(dictionary):\n",
    "    keys = list(dictionary.keys())\n",
    "    values = list(dictionary.values())\n",
    "    random.shuffle(values)\n",
    "    shuffled_dict = dict(zip(keys, values))\n",
    "    return shuffled_dict\n",
    "\n",
    "def find_key(dictionary, value):\n",
    "    for key, val in dictionary.items():\n",
    "        if val == value:\n",
    "            return key\n",
    "    return None\n",
    "        \n",
    "transition_label_dict = shuffle_dict(encoded_label_dict) #read as : vaue = true transition state label, key = encoded state label sliced from the secret key\n",
    "\n",
    "\n",
    "#Need to apply regular expression because there are multiple integers in line \n",
    "for i in py_fsm:\n",
    "    if ('state=' in i) and ('if' in i or 'else' in i):\n",
    "        next_state = i.split('state=')[-1].split(';')[0]\n",
    "        true_trans_state = find_key(transition_label_dict, int(next_state) )\n",
    "        py_fsm[py_fsm.index(i)] = i.replace( 'state=' + next_state, f\"state=encoded_transition_label[{true_trans_state}]\")\n",
    "\n",
    "py_fsm[0] =  py_fsm[0].replace('pixels', 'pixels, encoded_state_label, encoded_transition_label')\n",
    "py_fsm[0] =  py_fsm[0].replace('inference', 'Lockedinference')\n",
    "\n",
    "with open('locked_mnist_dt_case_fsm.py', 'w') as f:\n",
    "    f.writelines(py_fsm)\n",
    "    f.close()        \n",
    "    \n",
    "\n",
    "print(encoded_label_dict, '\\n-----\\n', transition_label_dict)"
   ]
  },
  {
   "cell_type": "markdown",
   "id": "8e8b95f5",
   "metadata": {},
   "source": [
    "#### Designing a correct key for transition label."
   ]
  },
  {
   "cell_type": "code",
   "execution_count": 13,
   "id": "d366b122",
   "metadata": {},
   "outputs": [
    {
     "name": "stdout",
     "output_type": "stream",
     "text": [
      "Length of transition_last_chunk_size before 8-bit word division = 2250.\n",
      "Length of transition_bin_correct_secret_key after 8-bit word division = 2256.\n",
      "transition_bin_correct_secret_key in binary = 000100011001110011010101001100000011000110101001011111010010110110000101010001101111001001011110100111101011100001101100001111111101110000101101011100101001110111110101110101111111100101001000000111110010001011111100101000101010111101110110010101110111010011111011001101001001101100010110011100100011111110001101000010100101110111000111001110000010001010000110011010001000110000010100010001111101110101011101100101010001010110011110101001101101001110011011100000100000110001100100110001010101101001100111000100110101010100111010001110101001010000010100111111000000000001001100101111101001111110001111111011111011101110100100101100111001011111010111010111011101100100111001010001101011100111000010010010110111001101000110000101100101001001110101010110001110011000101001100100000010100100100010100011101111101111101011000001000101001100000011111111000110100000000001010110001000110011001000100001011011011110000000001101000100101111000010010011101011101101100010101100100110000000010111010011010000000110011101110000010110011100000010101010111110101001100010111111001000110010011001011010101011011011100000000100011110110100010011000110011100001001010100000001110000001010101111110110111010100001110111100000001011110100100101000111000000011001111000011010100110000010110000011101011001110010110101110100011000000101011101100100010010100110101100101110000101001011101000000000011000000100111011100001110000111011001010111100010101100111100011110100110011110011001001001010000001011010100001010000100110100100111110010000111010001110110110101100111011001000011110010101101011011110001101010010101000011100010001111000100100101011110000111111000111100101011100101100001011001100100011100011000010101111010110010100001101110101101000111010110011110111111110010100111100001010101110110001010101110001011000110011000010110100010111000111101000111100111111100110101010101101101100001110110101000010011101011100011001101111100101110011110111100111011000011111010010011100101010001101110000101111011001100001100011111101101011011001001111011111010011110101101101100101101000111011101011101011111101011011110001000010100000110100000111110111111111000110001111010011011000110000110110011011011011101100001010100111101110001001110111011001101111001010011000000100000010\n",
      "transition_correct_secret_key in decimal = [17, 156, 213, 48, 49, 169, 125, 45, 133, 70, 242, 94, 158, 184, 108, 63, 220, 45, 114, 157, 245, 215, 249, 72, 31, 34, 252, 162, 175, 118, 87, 116, 251, 52, 155, 22, 114, 63, 141, 10, 93, 199, 56, 34, 134, 104, 140, 20, 71, 221, 93, 149, 21, 158, 166, 211, 155, 130, 12, 100, 197, 90, 103, 19, 85, 58, 58, 148, 20, 252, 0, 76, 190, 159, 143, 239, 187, 164, 179, 151, 215, 93, 217, 57, 70, 185, 194, 75, 115, 70, 22, 82, 117, 88, 230, 41, 144, 41, 34, 142, 251, 235, 4, 83, 3, 252, 104, 1, 88, 140, 200, 133, 183, 128, 52, 75, 194, 78, 187, 98, 178, 96, 23, 77, 1, 157, 193, 103, 2, 171, 234, 98, 252, 140, 153, 106, 182, 224, 17, 237, 19, 25, 194, 84, 7, 2, 175, 219, 168, 119, 128, 189, 37, 28, 6, 120, 106, 96, 176, 117, 156, 181, 209, 129, 93, 145, 41, 172, 184, 82, 232, 1, 129, 59, 135, 14, 202, 241, 89, 227, 211, 60, 201, 40, 22, 161, 66, 105, 62, 67, 163, 182, 179, 178, 30, 86, 183, 141, 74, 135, 17, 226, 74, 240, 252, 121, 92, 176, 179, 35, 140, 43, 214, 80, 221, 104, 235, 61, 254, 83, 194, 174, 197, 92, 88, 204, 45, 23, 30, 143, 63, 154, 171, 108, 59, 80, 157, 113, 155, 229, 207, 121, 216, 125, 39, 42, 55, 11, 217, 134, 63, 107, 100, 247, 211, 214, 217, 104, 238, 186, 253, 111, 16, 160, 208, 125, 255, 24, 244, 216, 195, 102, 219, 176, 169, 238, 39, 118, 111, 41, 129, 2]\n",
      "Length of transition_correct_secret_key in decimal = 282. This matches |transition_bin_correct_secret_key|/8 = 282.0.\n"
     ]
    }
   ],
   "source": [
    "binary_transition_labels = convert_to_binary_with_padding(transition_label_dict.values())\n",
    "transition_bin_correct_secret_key = ''.join(binary_transition_labels)\n",
    "print(f'Length of transition_last_chunk_size before 8-bit word division = {len(transition_bin_correct_secret_key)}.')\n",
    "transition_last_chunk_size = len(transition_bin_correct_secret_key) % 8    #Checking the last chunk whether it is 8-bit or not\n",
    "if transition_last_chunk_size !=0:\n",
    "    transition_bin_correct_secret_key = transition_bin_correct_secret_key[0:-transition_last_chunk_size] + transition_bin_correct_secret_key[-transition_last_chunk_size:].zfill(8)\n",
    "print(f'Length of transition_bin_correct_secret_key after 8-bit word division = {len(transition_bin_correct_secret_key)}.')\n",
    "print(f'transition_bin_correct_secret_key in binary = {transition_bin_correct_secret_key}')\n",
    "\n",
    "transition_decimal_correct_secret_key = binary_stream_to_bytes(transition_bin_correct_secret_key)\n",
    "print(f'transition_correct_secret_key in decimal = {transition_decimal_correct_secret_key}')\n",
    "print(f'Length of transition_correct_secret_key in decimal = {len(transition_decimal_correct_secret_key)}. This matches |transition_bin_correct_secret_key|/8 = {len(transition_bin_correct_secret_key)/8}.')"
   ]
  },
  {
   "cell_type": "markdown",
   "id": "c04a0c33",
   "metadata": {},
   "source": [
    "#### Testing the locked model with correct encoding_label and transition_label."
   ]
  },
  {
   "cell_type": "code",
   "execution_count": 14,
   "id": "a3f82436",
   "metadata": {},
   "outputs": [],
   "source": [
    "from locked_mnist_dt_case_fsm import Lockedinference_rate"
   ]
  },
  {
   "cell_type": "code",
   "execution_count": 15,
   "id": "c0b72c8b",
   "metadata": {},
   "outputs": [
    {
     "name": "stdout",
     "output_type": "stream",
     "text": [
      "(50000, 784) (50000,) (10000, 784) (10000,)\n"
     ]
    }
   ],
   "source": [
    "import pickle\n",
    "with open('MNIST_dataset/MNIST_dataset.pkl', 'rb') as f:\n",
    "    X_train, y_train, X_test, y_test = pickle.load(f)\n",
    "print(X_train.shape, y_train.shape, X_test.shape, y_test.shape)"
   ]
  },
  {
   "cell_type": "code",
   "execution_count": 16,
   "id": "c7a23230",
   "metadata": {},
   "outputs": [],
   "source": [
    "clock_counter = 0\n",
    "Y_pred = []\n",
    "for i,sample in enumerate(X_test):\n",
    "    inf_label, clock = Lockedinference_rate(sample, encoded_label_dict, transition_label_dict)\n",
    "    Y_pred.append(inf_label)\n",
    "    clock_counter = clock_counter + clock"
   ]
  },
  {
   "cell_type": "code",
   "execution_count": 17,
   "id": "1eca9990",
   "metadata": {},
   "outputs": [
    {
     "name": "stdout",
     "output_type": "stream",
     "text": [
      "Total clock used for inferencing 10000 samples = 79995\n",
      "Accuracy using state machine = 0.8239\n"
     ]
    }
   ],
   "source": [
    "print(f'Total clock used for inferencing 10000 samples = {clock_counter}')\n",
    "#Verify that the accuracy measured after state-machine inference is same as given by sklearn model.\n",
    "from sklearn.metrics import accuracy_score\n",
    "print(f'Accuracy using state machine = {accuracy_score(y_test, Y_pred)}')"
   ]
  },
  {
   "cell_type": "markdown",
   "id": "2a6fb092",
   "metadata": {},
   "source": [
    "### Testing the model with correct key where encoding_labels and transition_labels are extracted from the key"
   ]
  },
  {
   "cell_type": "markdown",
   "id": "594804bf",
   "metadata": {},
   "source": [
    "#### Extracting the state_labels."
   ]
  },
  {
   "cell_type": "code",
   "execution_count": 18,
   "id": "bb43cb99",
   "metadata": {},
   "outputs": [
    {
     "name": "stdout",
     "output_type": "stream",
     "text": [
      "verification in binary=True\n",
      "verification in decimal for state labels=True.\n"
     ]
    }
   ],
   "source": [
    "def convert_to_fixed_bit_binary(numbers, num_bits):\n",
    "    binary_list = []\n",
    "    for num in numbers:\n",
    "        # Convert number to binary and remove the '0b' prefix\n",
    "        binary = bin(num)[2:]\n",
    "        # Pad zeros to the left to ensure fixed number of bits\n",
    "        padded_binary = binary.zfill(num_bits)\n",
    "        binary_list.append(padded_binary)\n",
    "    return binary_list\n",
    "\n",
    "Extracted_bin_correct_secret_key=''.join(convert_to_fixed_bit_binary(decimal_correct_secret_key, 8))\n",
    "print(f\"verification in binary={Extracted_bin_correct_secret_key == bin_correct_secret_key}\")\n",
    "\n",
    "#Removing the zero-padded if perfomed from the last 8-bit chunk\n",
    "if last_chunk_size != 0:\n",
    "    Extracted_bin_correct_secret_key= Extracted_bin_correct_secret_key[:-8] + Extracted_bin_correct_secret_key[-8:][-last_chunk_size:]\n",
    "\n",
    "def binary_stream_to_numbers(stream, n):\n",
    "    numbers = []\n",
    "    for i in range(0, len(stream), n):\n",
    "        word = stream[i:i+n]\n",
    "        numbers.append(int(word, 2))\n",
    "    return numbers\n",
    "\n",
    "max_number_of_bits = math.floor(math.log2(abs(max(state_labels)))) + 1\n",
    "Extracted_state_labels = binary_stream_to_numbers(''.join(Extracted_bin_correct_secret_key), max_number_of_bits)\n",
    "print(f\"verification in decimal for state labels={Extracted_state_labels == state_labels}.\")"
   ]
  },
  {
   "cell_type": "code",
   "execution_count": 19,
   "id": "ccabafee",
   "metadata": {},
   "outputs": [
    {
     "name": "stdout",
     "output_type": "stream",
     "text": [
      "Verification Extracted_encoded_label_dict = True.\n"
     ]
    }
   ],
   "source": [
    "Extracted_encoded_label_dict = {}\n",
    "for i,j in enumerate(Extracted_state_labels):\n",
    "    Extracted_encoded_label_dict[i] = j\n",
    "print(f'Verification Extracted_encoded_label_dict = {Extracted_encoded_label_dict == encoded_label_dict}.')"
   ]
  },
  {
   "cell_type": "markdown",
   "id": "7eff7dab",
   "metadata": {},
   "source": [
    "#### Extracting transition labels."
   ]
  },
  {
   "cell_type": "code",
   "execution_count": 20,
   "id": "bd3728a0",
   "metadata": {},
   "outputs": [
    {
     "name": "stdout",
     "output_type": "stream",
     "text": [
      "verification in binary=True\n",
      "verification in decimal for transition labels=True.\n"
     ]
    }
   ],
   "source": [
    "Extracted_transition_bin_correct_secret_key=''.join(convert_to_fixed_bit_binary(transition_decimal_correct_secret_key, 8))\n",
    "print(f\"verification in binary={Extracted_transition_bin_correct_secret_key == transition_bin_correct_secret_key}\")\n",
    "\n",
    "#Removing the zero-padded if perfomed from the last 8-bit chunk\n",
    "if transition_last_chunk_size != 0:\n",
    "    Extracted_transition_bin_correct_secret_key= Extracted_transition_bin_correct_secret_key[:-8] + Extracted_transition_bin_correct_secret_key[-8:][-transition_last_chunk_size:]\n",
    "\n",
    "max_number_of_bits = math.floor(math.log2(abs(max(transition_label_dict.values())))) + 1\n",
    "Extracted_transition_labels = binary_stream_to_numbers(''.join(Extracted_transition_bin_correct_secret_key), max_number_of_bits)\n",
    "print(f\"verification in decimal for transition labels={Extracted_transition_labels == list(transition_label_dict.values())}.\")"
   ]
  },
  {
   "cell_type": "code",
   "execution_count": 21,
   "id": "02962318",
   "metadata": {},
   "outputs": [
    {
     "name": "stdout",
     "output_type": "stream",
     "text": [
      "Verification Extracted_transition_label_dict = True.\n"
     ]
    }
   ],
   "source": [
    "Extracted_transition_label_dict = {}\n",
    "for i,j in enumerate(Extracted_transition_labels):\n",
    "    Extracted_transition_label_dict[i] = j\n",
    "print(f'Verification Extracted_transition_label_dict = {Extracted_transition_label_dict == transition_label_dict}.')"
   ]
  },
  {
   "cell_type": "markdown",
   "id": "a7445e22",
   "metadata": {},
   "source": [
    "#### Testing"
   ]
  },
  {
   "cell_type": "code",
   "execution_count": 23,
   "id": "3627285d",
   "metadata": {},
   "outputs": [
    {
     "name": "stdout",
     "output_type": "stream",
     "text": [
      "(50000, 784) (50000,) (10000, 784) (10000,)\n",
      "Total clock used for inferencing 10000 samples = 79995\n",
      "Accuracy using state machine = 0.8239\n"
     ]
    }
   ],
   "source": [
    "from locked_mnist_dt_case_fsm import Lockedinference_rate\n",
    "import pickle\n",
    "with open('MNIST_dataset/MNIST_dataset.pkl', 'rb') as f:\n",
    "    X_train, y_train, X_test, y_test = pickle.load(f)\n",
    "print(X_train.shape, y_train.shape, X_test.shape, y_test.shape)\n",
    "\n",
    "clock_counter = 0\n",
    "Y_pred = []\n",
    "for i,sample in enumerate(X_test):\n",
    "    inf_label, clock = Lockedinference_rate(sample, Extracted_encoded_label_dict, Extracted_transition_label_dict)\n",
    "    Y_pred.append(inf_label)\n",
    "    clock_counter = clock_counter + clock\n",
    "    \n",
    "print(f'Total clock used for inferencing 10000 samples = {clock_counter}')\n",
    "#Verify that the accuracy measured after state-machine inference is same as given by sklearn model.\n",
    "from sklearn.metrics import accuracy_score\n",
    "correct_KEY_accuracy = accuracy_score(y_test, Y_pred)\n",
    "correct_KEY_clock = clock_counter\n",
    "print(f'Accuracy using state machine = {correct_KEY_accuracy}')"
   ]
  },
  {
   "cell_type": "markdown",
   "id": "1d747df2",
   "metadata": {},
   "source": [
    "### Several Attacks."
   ]
  },
  {
   "cell_type": "markdown",
   "id": "757af236",
   "metadata": {},
   "source": [
    "#### Evaluating the locked model with wrong key."
   ]
  },
  {
   "cell_type": "code",
   "execution_count": 24,
   "id": "da95bcfa",
   "metadata": {
    "scrolled": true
   },
   "outputs": [
    {
     "name": "stdout",
     "output_type": "stream",
     "text": [
      "Total clock used for inferencing 10000 samples = 25703\n",
      "Accuracy using state machine = 0.1126\n",
      "------------------\n",
      "Total clock used for inferencing 10000 samples = 26366\n",
      "Accuracy using state machine = 0.0977\n",
      "------------------\n",
      "Total clock used for inferencing 10000 samples = 10000\n",
      "Accuracy using state machine = 0.101\n",
      "------------------\n",
      "Total clock used for inferencing 10000 samples = 20000\n",
      "Accuracy using state machine = 0.0936\n",
      "------------------\n",
      "Total clock used for inferencing 10000 samples = 10000\n",
      "Accuracy using state machine = 0.1027\n",
      "------------------\n",
      "Total clock used for inferencing 10000 samples = 10000\n",
      "Accuracy using state machine = 0.0952\n",
      "------------------\n",
      "Total clock used for inferencing 10000 samples = 10000\n",
      "Accuracy using state machine = 0.0981\n",
      "------------------\n",
      "Total clock used for inferencing 10000 samples = 10000\n",
      "Accuracy using state machine = 0.101\n",
      "------------------\n",
      "Total clock used for inferencing 10000 samples = 10000\n",
      "Accuracy using state machine = 0.1204\n",
      "------------------\n",
      "Total clock used for inferencing 10000 samples = 10000\n",
      "Accuracy using state machine = 0.163\n",
      "------------------\n",
      "Total clock used for inferencing 10000 samples = 20000\n",
      "Accuracy using state machine = 0.098\n",
      "------------------\n",
      "Total clock used for inferencing 10000 samples = 20000\n",
      "Accuracy using state machine = 0.1017\n",
      "------------------\n",
      "Total clock used for inferencing 10000 samples = 10000\n",
      "Accuracy using state machine = 0.1035\n",
      "------------------\n",
      "Total clock used for inferencing 10000 samples = 10000\n",
      "Accuracy using state machine = 0.1041\n",
      "------------------\n",
      "Total clock used for inferencing 10000 samples = 20000\n",
      "Accuracy using state machine = 0.119\n",
      "------------------\n",
      "Total clock used for inferencing 10000 samples = 10000\n",
      "Accuracy using state machine = 0.0941\n",
      "------------------\n",
      "Total clock used for inferencing 10000 samples = 10000\n",
      "Accuracy using state machine = 0.102\n",
      "------------------\n",
      "Total clock used for inferencing 10000 samples = 10000\n",
      "Accuracy using state machine = 0.0986\n",
      "------------------\n",
      "Total clock used for inferencing 10000 samples = 10000\n",
      "Accuracy using state machine = 0.1008\n",
      "------------------\n",
      "Total clock used for inferencing 10000 samples = 24050\n",
      "Accuracy using state machine = 0.0999\n",
      "------------------\n",
      "Total clock used for inferencing 10000 samples = 10000\n",
      "Accuracy using state machine = 0.0973\n",
      "------------------\n",
      "Total clock used for inferencing 10000 samples = 10000\n",
      "Accuracy using state machine = 0.1061\n",
      "------------------\n",
      "Total clock used for inferencing 10000 samples = 10000\n",
      "Accuracy using state machine = 0.1007\n",
      "------------------\n",
      "Total clock used for inferencing 10000 samples = 20000\n",
      "Accuracy using state machine = 0.087\n",
      "------------------\n",
      "Total clock used for inferencing 10000 samples = 10000\n",
      "Accuracy using state machine = 0.1274\n",
      "------------------\n",
      "Total clock used for inferencing 10000 samples = 10000\n",
      "Accuracy using state machine = 0.1012\n",
      "------------------\n",
      "Total clock used for inferencing 10000 samples = 33551\n",
      "Accuracy using state machine = 0.1044\n",
      "------------------\n",
      "Total clock used for inferencing 10000 samples = 10000\n",
      "Accuracy using state machine = 0.1006\n",
      "------------------\n",
      "Total clock used for inferencing 10000 samples = 20000\n",
      "Accuracy using state machine = 0.1657\n",
      "------------------\n",
      "Total clock used for inferencing 10000 samples = 20000\n",
      "Accuracy using state machine = 0.1003\n",
      "------------------\n",
      "Total clock used for inferencing 10000 samples = 10000\n",
      "Accuracy using state machine = 0.098\n",
      "------------------\n",
      "Total clock used for inferencing 10000 samples = 10000\n",
      "Accuracy using state machine = 0.0967\n",
      "------------------\n",
      "Total clock used for inferencing 10000 samples = 10000\n",
      "Accuracy using state machine = 0.1017\n",
      "------------------\n",
      "Total clock used for inferencing 10000 samples = 10000\n",
      "Accuracy using state machine = 0.1026\n",
      "------------------\n",
      "Total clock used for inferencing 10000 samples = 19859\n",
      "Accuracy using state machine = 0.1354\n",
      "------------------\n",
      "Total clock used for inferencing 10000 samples = 10000\n",
      "Accuracy using state machine = 0.1003\n",
      "------------------\n",
      "Total clock used for inferencing 10000 samples = 23963\n",
      "Accuracy using state machine = 0.0722\n",
      "------------------\n",
      "Total clock used for inferencing 10000 samples = 24379\n",
      "Accuracy using state machine = 0.0992\n",
      "------------------\n",
      "Total clock used for inferencing 10000 samples = 10000\n",
      "Accuracy using state machine = 0.1006\n",
      "------------------\n",
      "Total clock used for inferencing 10000 samples = 10000\n",
      "Accuracy using state machine = 0.0998\n",
      "------------------\n",
      "Total clock used for inferencing 10000 samples = 20000\n",
      "Accuracy using state machine = 0.1012\n",
      "------------------\n",
      "Total clock used for inferencing 10000 samples = 20000\n",
      "Accuracy using state machine = 0.0983\n",
      "------------------\n",
      "Total clock used for inferencing 10000 samples = 10000\n",
      "Accuracy using state machine = 0.1019\n",
      "------------------\n",
      "Total clock used for inferencing 10000 samples = 25950\n",
      "Accuracy using state machine = 0.0998\n",
      "------------------\n",
      "Total clock used for inferencing 10000 samples = 20000\n",
      "Accuracy using state machine = 0.1094\n",
      "------------------\n",
      "Total clock used for inferencing 10000 samples = 10000\n",
      "Accuracy using state machine = 0.1009\n",
      "------------------\n",
      "Total clock used for inferencing 10000 samples = 20000\n",
      "Accuracy using state machine = 0.0984\n",
      "------------------\n",
      "Total clock used for inferencing 10000 samples = 27307\n",
      "Accuracy using state machine = 0.1009\n",
      "------------------\n",
      "Total clock used for inferencing 10000 samples = 10000\n",
      "Accuracy using state machine = 0.1007\n",
      "------------------\n",
      "Total clock used for inferencing 10000 samples = 10000\n",
      "Accuracy using state machine = 0.1004\n",
      "------------------\n",
      "Total clock used for inferencing 10000 samples = 25637\n",
      "Accuracy using state machine = 0.0905\n",
      "------------------\n",
      "Total clock used for inferencing 10000 samples = 29405\n",
      "Accuracy using state machine = 0.1034\n",
      "------------------\n",
      "Total clock used for inferencing 10000 samples = 10000\n",
      "Accuracy using state machine = 0.1313\n",
      "------------------\n",
      "Total clock used for inferencing 10000 samples = 10000\n",
      "Accuracy using state machine = 0.0979\n",
      "------------------\n",
      "Total clock used for inferencing 10000 samples = 10000\n",
      "Accuracy using state machine = 0.0972\n",
      "------------------\n",
      "Total clock used for inferencing 10000 samples = 10000\n",
      "Accuracy using state machine = 0.15\n",
      "------------------\n",
      "Total clock used for inferencing 10000 samples = 10000\n",
      "Accuracy using state machine = 0.116\n",
      "------------------\n",
      "Total clock used for inferencing 10000 samples = 20000\n",
      "Accuracy using state machine = 0.0984\n",
      "------------------\n",
      "Total clock used for inferencing 10000 samples = 10000\n",
      "Accuracy using state machine = 0.1038\n",
      "------------------\n",
      "Total clock used for inferencing 10000 samples = 10000\n",
      "Accuracy using state machine = 0.1035\n",
      "------------------\n",
      "Total clock used for inferencing 10000 samples = 20000\n",
      "Accuracy using state machine = 0.0992\n",
      "------------------\n",
      "Total clock used for inferencing 10000 samples = 10000\n",
      "Accuracy using state machine = 0.1037\n",
      "------------------\n",
      "Total clock used for inferencing 10000 samples = 21611\n",
      "Accuracy using state machine = 0.0993\n",
      "------------------\n",
      "Total clock used for inferencing 10000 samples = 10000\n",
      "Accuracy using state machine = 0.1024\n",
      "------------------\n",
      "Total clock used for inferencing 10000 samples = 10000\n",
      "Accuracy using state machine = 0.0971\n",
      "------------------\n",
      "Total clock used for inferencing 10000 samples = 10000\n",
      "Accuracy using state machine = 0.0981\n",
      "------------------\n",
      "Total clock used for inferencing 10000 samples = 10000\n",
      "Accuracy using state machine = 0.1022\n",
      "------------------\n",
      "Total clock used for inferencing 10000 samples = 10000\n",
      "Accuracy using state machine = 0.0988\n",
      "------------------\n",
      "Total clock used for inferencing 10000 samples = 10000\n",
      "Accuracy using state machine = 0.1356\n",
      "------------------\n",
      "Total clock used for inferencing 10000 samples = 10000\n",
      "Accuracy using state machine = 0.0981\n",
      "------------------\n",
      "Total clock used for inferencing 10000 samples = 10000\n",
      "Accuracy using state machine = 0.0936\n",
      "------------------\n",
      "Total clock used for inferencing 10000 samples = 10000\n",
      "Accuracy using state machine = 0.0996\n",
      "------------------\n",
      "Total clock used for inferencing 10000 samples = 10000\n",
      "Accuracy using state machine = 0.0982\n",
      "------------------\n",
      "Total clock used for inferencing 10000 samples = 10000\n",
      "Accuracy using state machine = 0.099\n",
      "------------------\n",
      "Total clock used for inferencing 10000 samples = 10000\n",
      "Accuracy using state machine = 0.1036\n",
      "------------------\n"
     ]
    },
    {
     "name": "stdout",
     "output_type": "stream",
     "text": [
      "Total clock used for inferencing 10000 samples = 10000\n",
      "Accuracy using state machine = 0.0983\n",
      "------------------\n",
      "Total clock used for inferencing 10000 samples = 10000\n",
      "Accuracy using state machine = 0.1059\n",
      "------------------\n",
      "Total clock used for inferencing 10000 samples = 10000\n",
      "Accuracy using state machine = 0.0937\n",
      "------------------\n",
      "Total clock used for inferencing 10000 samples = 10000\n",
      "Accuracy using state machine = 0.0996\n",
      "------------------\n",
      "Total clock used for inferencing 10000 samples = 10000\n",
      "Accuracy using state machine = 0.0981\n",
      "------------------\n",
      "Total clock used for inferencing 10000 samples = 20000\n",
      "Accuracy using state machine = 0.0979\n",
      "------------------\n",
      "Total clock used for inferencing 10000 samples = 23940\n",
      "Accuracy using state machine = 0.1056\n",
      "------------------\n",
      "Total clock used for inferencing 10000 samples = 10000\n",
      "Accuracy using state machine = 0.1009\n",
      "------------------\n",
      "Total clock used for inferencing 10000 samples = 20000\n",
      "Accuracy using state machine = 0.1005\n",
      "------------------\n",
      "Total clock used for inferencing 10000 samples = 10000\n",
      "Accuracy using state machine = 0.1501\n",
      "------------------\n",
      "Total clock used for inferencing 10000 samples = 24759\n",
      "Accuracy using state machine = 0.0967\n",
      "------------------\n",
      "Total clock used for inferencing 10000 samples = 22212\n",
      "Accuracy using state machine = 0.1056\n",
      "------------------\n",
      "Total clock used for inferencing 10000 samples = 10000\n",
      "Accuracy using state machine = 0.098\n",
      "------------------\n",
      "Total clock used for inferencing 10000 samples = 10000\n",
      "Accuracy using state machine = 0.0738\n",
      "------------------\n",
      "Total clock used for inferencing 10000 samples = 10000\n",
      "Accuracy using state machine = 0.0997\n",
      "------------------\n",
      "Total clock used for inferencing 10000 samples = 10000\n",
      "Accuracy using state machine = 0.1008\n",
      "------------------\n",
      "Total clock used for inferencing 10000 samples = 10000\n",
      "Accuracy using state machine = 0.1005\n",
      "------------------\n",
      "Total clock used for inferencing 10000 samples = 10000\n",
      "Accuracy using state machine = 0.0939\n",
      "------------------\n",
      "Total clock used for inferencing 10000 samples = 24446\n",
      "Accuracy using state machine = 0.086\n",
      "------------------\n",
      "Total clock used for inferencing 10000 samples = 10000\n",
      "Accuracy using state machine = 0.1033\n",
      "------------------\n",
      "Total clock used for inferencing 10000 samples = 10000\n",
      "Accuracy using state machine = 0.1024\n",
      "------------------\n",
      "Total clock used for inferencing 10000 samples = 20000\n",
      "Accuracy using state machine = 0.0967\n",
      "------------------\n",
      "Total clock used for inferencing 10000 samples = 20000\n",
      "Accuracy using state machine = 0.1516\n",
      "------------------\n",
      "Total clock used for inferencing 10000 samples = 10000\n",
      "Accuracy using state machine = 0.1016\n",
      "------------------\n",
      "Total clock used for inferencing 10000 samples = 10000\n",
      "Accuracy using state machine = 0.0993\n",
      "------------------\n"
     ]
    }
   ],
   "source": [
    "def state_encoding_dict_generator(wrong_key_decimal):\n",
    "    decimal_correct_secret_key = wrong_key_decimal\n",
    "    Extracted_bin_correct_secret_key=''.join(convert_to_fixed_bit_binary(decimal_correct_secret_key, 8))\n",
    "    if last_chunk_size != 0:\n",
    "        Extracted_bin_correct_secret_key= Extracted_bin_correct_secret_key[:-8] + Extracted_bin_correct_secret_key[-8:][-last_chunk_size:]\n",
    "    max_number_of_bits = math.floor(math.log2(abs(max(state_labels)))) + 1\n",
    "    Extracted_state_labels = binary_stream_to_numbers(''.join(Extracted_bin_correct_secret_key), max_number_of_bits)\n",
    "    Extracted_encoded_label_dict = {}\n",
    "    for i,j in enumerate(Extracted_state_labels):\n",
    "        Extracted_encoded_label_dict[i] = j\n",
    "    return Extracted_encoded_label_dict\n",
    "\n",
    "def transition_encoding_dict_generator(wrong_key_decimal):\n",
    "    transition_decimal_correct_secret_key = wrong_key_decimal\n",
    "    Extracted_transition_bin_correct_secret_key=''.join(convert_to_fixed_bit_binary(transition_decimal_correct_secret_key, 8))\n",
    "    if transition_last_chunk_size != 0:\n",
    "        Extracted_transition_bin_correct_secret_key= Extracted_transition_bin_correct_secret_key[:-8] + Extracted_transition_bin_correct_secret_key[-8:][-transition_last_chunk_size:]\n",
    "    max_number_of_bits = math.floor(math.log2(abs(max(transition_label_dict.values())))) + 1\n",
    "    Extracted_transition_labels = binary_stream_to_numbers(''.join(Extracted_transition_bin_correct_secret_key), max_number_of_bits)\n",
    "    Extracted_transition_label_dict = {}\n",
    "    for i,j in enumerate(Extracted_transition_labels):\n",
    "        Extracted_transition_label_dict[i] = j\n",
    "    return Extracted_transition_label_dict\n",
    "\n",
    "\n",
    "import numpy as np\n",
    "import random\n",
    "iterations = 100\n",
    "len_key8bit_state = len(decimal_correct_secret_key)\n",
    "len_key8bit_transition = len(transition_decimal_correct_secret_key)\n",
    "Accuracy_history = []\n",
    "Num_clock_history = []\n",
    "for itr in range(iterations):\n",
    "    wrongkey_state_label = [random.randint(0, 255) for _ in range(len_key8bit_state)]\n",
    "    wrongkey_transition_label = [random.randint(0, 255) for _ in range(len_key8bit_transition)]   \n",
    "    Extracted_encoded_label_dict = state_encoding_dict_generator(wrongkey_state_label)\n",
    "    Extracted_transition_label_dict = transition_encoding_dict_generator(wrongkey_transition_label)\n",
    "    clock_counter = 0\n",
    "    Y_pred = []\n",
    "    for i,sample in enumerate(X_test):\n",
    "        inf_label, clock = Lockedinference_rate(sample, Extracted_encoded_label_dict, Extracted_transition_label_dict)\n",
    "        Y_pred.append(inf_label)\n",
    "        clock_counter = clock_counter + clock\n",
    "    Num_clock_history.append(clock_counter)\n",
    "    print(f'Total clock used for inferencing 10000 samples = {clock_counter}')\n",
    "    inferential_acc = accuracy_score(y_test, Y_pred)\n",
    "    Accuracy_history.append(inferential_acc)\n",
    "    print(f'Accuracy using state machine = {inferential_acc}')\n",
    "    print('------------------')"
   ]
  },
  {
   "cell_type": "code",
   "execution_count": 43,
   "id": "adc059c8",
   "metadata": {},
   "outputs": [
    {
     "data": {
      "image/png": "[encoded data removed]",
      "text/plain": [
       "<Figure size 500x250 with 1 Axes>"
      ]
     },
     "metadata": {},
     "output_type": "display_data"
    },
    {
     "data": {
      "image/png": "[encoded data removed]",
      "text/plain": [
       "<Figure size 500x250 with 1 Axes>"
      ]
     },
     "metadata": {},
     "output_type": "display_data"
    }
   ],
   "source": [
    "import matplotlib.pyplot as plt\n",
    "import numpy as np\n",
    "\n",
    "c=['r','g','b','c','m']\n",
    "m=['s','o','v','^','.']\n",
    "fig, ax = plt.subplots(1,1,figsize=(5,2.5))\n",
    "ax.plot(np.arange(1,len(Accuracy_history)+1), [i*100 for i in Accuracy_history], linestyle=':', marker = '.' , color = c[0], fillstyle='none', label='Incorrect key')\n",
    "ax.plot(np.arange(1,len(Accuracy_history)+1), [correct_KEY_accuracy * 100] * len(Accuracy_history), linestyle=':', marker = '.' , color = c[1], fillstyle='none', label='Correct key')\n",
    "ax.grid(color='y', linestyle=':', linewidth=1)\n",
    "ax.set_title(f'Decision Tree Inference Accuracy.', fontsize=10)\n",
    "ax.set_yticks([0, 10, 20, 30, 40, 50, 60, 70, 80, 90])\n",
    "ax.set_ylabel('Accuracy (%)') \n",
    "ax.legend(ncol=2, framealpha=0.3, fontsize = 10)\n",
    "ax.set_xlabel('Iterations (1 to 100)', fontsize=10)\n",
    "ax.set_xticks(np.arange(0,101,10))\n",
    "ax.xaxis.set_tick_params(labelbottom=True)\n",
    "fig.tight_layout(pad=0.2)\n",
    "plt.savefig('DT_Accuracy_wrongkey.pdf')\n",
    "\n",
    "fig, ax = plt.subplots(1,1,figsize=(5,2.5))\n",
    "ax.plot(np.arange(1,len(Num_clock_history)+1), [i/10000 for i in Num_clock_history], linestyle=':', marker = '.' , color = c[0], fillstyle='none', label='Incorrect key')\n",
    "ax.plot(np.arange(1,len(Num_clock_history)+1), [correct_KEY_clock/10000] * len(Num_clock_history), linestyle=':', marker = '.' , color = c[1], fillstyle='none', label='Correct key')\n",
    "ax.grid(color='y', linestyle=':', linewidth=1)\n",
    "ax.set_title(f'Decision Tree Inference Rate.', fontsize=10)\n",
    "#ax.set_yticks([0, 10, 20, 30, 40, 50, 60, 70, 80, 90])\n",
    "ax.set_ylabel('No. of clocks per sample') \n",
    "ax.legend(ncol=2, framealpha=0.3, fontsize = 10)\n",
    "ax.set_xlabel('Iterations (1 to 100)', fontsize=10)\n",
    "ax.set_xticks(np.arange(0,101,10))\n",
    "ax.xaxis.set_tick_params(labelbottom=True)\n",
    "fig.tight_layout(pad=0.2)\n",
    "plt.savefig('DT_Inference_rate_wrongkey.pdf')"
   ]
  },
  {
   "cell_type": "markdown",
   "id": "6a67e808",
   "metadata": {},
   "source": [
    "## The following cells work with correct unlocked model."
   ]
  },
  {
   "cell_type": "markdown",
   "id": "beeb4df2",
   "metadata": {},
   "source": [
    "#### Run the next experiments in Python version > 3.10 because 'case' statement is only avaiable after this python version. \n",
    "\n",
    "#### Next, called the function \"inference_rate\" from python file \"mnist_dt_case_fsm.py\".\n",
    "\n",
    "#### Remember that the while loop is added in the windows source code to mimic the clock and continuously run the state machine. "
   ]
  },
  {
   "cell_type": "code",
   "execution_count": 34,
   "id": "ed3defb0",
   "metadata": {},
   "outputs": [],
   "source": [
    "from mnist_dt_case_fsm import inference_rate"
   ]
  },
  {
   "cell_type": "code",
   "execution_count": 35,
   "id": "1da952d9",
   "metadata": {},
   "outputs": [
    {
     "name": "stdout",
     "output_type": "stream",
     "text": [
      "(50000, 784) (50000,) (10000, 784) (10000,)\n"
     ]
    }
   ],
   "source": [
    "import pickle\n",
    "with open('MNIST_dataset/MNIST_dataset.pkl', 'rb') as f:\n",
    "    X_train, y_train, X_test, y_test = pickle.load(f)\n",
    "print(X_train.shape, y_train.shape, X_test.shape, y_test.shape)"
   ]
  },
  {
   "cell_type": "code",
   "execution_count": 36,
   "id": "106478e3",
   "metadata": {},
   "outputs": [],
   "source": [
    "clock_counter = 0\n",
    "Y_pred = []\n",
    "for i,sample in enumerate(X_test):\n",
    "    inf_label, clock = inference_rate(sample)\n",
    "    Y_pred.append(inf_label)\n",
    "    clock_counter = clock_counter + clock"
   ]
  },
  {
   "cell_type": "code",
   "execution_count": 37,
   "id": "e49b233b",
   "metadata": {},
   "outputs": [
    {
     "name": "stdout",
     "output_type": "stream",
     "text": [
      "Total clock used for inferencing 10000 samples = 79995\n"
     ]
    }
   ],
   "source": [
    "print(f'Total clock used for inferencing 10000 samples = {clock_counter}')"
   ]
  },
  {
   "cell_type": "code",
   "execution_count": 38,
   "id": "0d2e8eaf",
   "metadata": {},
   "outputs": [
    {
     "name": "stdout",
     "output_type": "stream",
     "text": [
      "Accuracy using state machine = 0.8239\n"
     ]
    }
   ],
   "source": [
    "#Verify that the accuracy measured after state-machine inference is same as given by sklearn model.\n",
    "from sklearn.metrics import accuracy_score\n",
    "print(f'Accuracy using state machine = {accuracy_score(y_test, Y_pred)}')"
   ]
  },
  {
   "cell_type": "code",
   "execution_count": 39,
   "id": "3efb4923",
   "metadata": {},
   "outputs": [
    {
     "name": "stdout",
     "output_type": "stream",
     "text": [
      "7.9995\n"
     ]
    }
   ],
   "source": [
    "#Sequential circuit using finite state machine\n",
    "#Average clock used per sample\n",
    "Average_clock_per_sample = clock_counter/len(X_test)\n",
    "\n",
    "print(Average_clock_per_sample)"
   ]
  },
  {
   "cell_type": "code",
   "execution_count": 40,
   "id": "c6535167",
   "metadata": {},
   "outputs": [
    {
     "name": "stdout",
     "output_type": "stream",
     "text": [
      "Inference time used per sample when operate at 12MHz =  0.666625 micro sec.\n",
      "Inference per sec =  1500094\n"
     ]
    }
   ],
   "source": [
    "clock_period = 1/12000000 # 12 MHz\n",
    "time_per_sample = Average_clock_per_sample *  clock_period * 1000000\n",
    "print('Inference time used per sample when operate at 12MHz = ',time_per_sample, 'micro sec.' ) \n",
    "print('Inference per sec = ', round(1000000/time_per_sample))"
   ]
  },
  {
   "cell_type": "code",
   "execution_count": null,
   "id": "f9b4d2a4",
   "metadata": {},
   "outputs": [],
   "source": []
  }
 ],
 "metadata": {
  "kernelspec": {
   "display_name": "Python 3 (ipykernel)",
   "language": "python",
   "name": "python3"
  },
  "language_info": {
   "codemirror_mode": {
    "name": "ipython",
    "version": 3
   },
   "file_extension": ".py",
   "mimetype": "text/x-python",
   "name": "python",
   "nbconvert_exporter": "python",
   "pygments_lexer": "ipython3",
   "version": "3.11.2"
  }
 },
 "nbformat": 4,
 "nbformat_minor": 5
}
