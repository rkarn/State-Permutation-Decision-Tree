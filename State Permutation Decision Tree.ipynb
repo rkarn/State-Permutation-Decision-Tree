{
 "cells": [
  {
   "cell_type": "code",
   "execution_count": 8,
   "id": "7d152de8",
   "metadata": {},
   "outputs": [
    {
     "name": "stdout",
     "output_type": "stream",
     "text": [
      "(60000, 784) (60000,)\n",
      "(10000, 784) (10000,)\n"
     ]
    }
   ],
   "source": [
    "import idx2numpy\n",
    "import seaborn as sns\n",
    "X_train_3D = idx2numpy.convert_from_file('MNIST_dataset/train-images-idx3-ubyte')\n",
    "X_train = X_train_3D.flatten().reshape(60000,784)\n",
    "\n",
    "y_train = idx2numpy.convert_from_file('MNIST_dataset/train-labels-idx1-ubyte')\n",
    "print(X_train.shape, y_train.shape)\n",
    "X_test_3D = idx2numpy.convert_from_file('MNIST_dataset/t10k-images-idx3-ubyte')\n",
    "X_test =  X_test_3D.flatten().reshape(10000,784)\n",
    "\n",
    "y_test = idx2numpy.convert_from_file('MNIST_dataset/t10k-labels-idx1-ubyte')\n",
    "print(X_test.shape, y_test.shape)"
   ]
  },
  {
   "cell_type": "code",
   "execution_count": 9,
   "id": "4e0ce7da",
   "metadata": {},
   "outputs": [
    {
     "name": "stdout",
     "output_type": "stream",
     "text": [
      "DecisionTreeClassifier(max_depth=8)\n",
      "Number of nodes in the decision tree 499.\n",
      "Number of threshold in the decision tree 499.\n",
      "Number of leaves in the decision tree 250. It will be number of states in sequential FSM.\n",
      "0.8289 0.8162\n"
     ]
    }
   ],
   "source": [
    "import numpy as np\n",
    "from sklearn.utils import shuffle\n",
    "X_shuffle,y_shuffle = shuffle(X_train,y_train)\n",
    "X_train = X_shuffle[0:50000]\n",
    "y_train = y_shuffle[0:50000]\n",
    "\n",
    "from sklearn import tree\n",
    "from sklearn.model_selection import cross_val_predict\n",
    "\n",
    "#dt_clf = tree.DecisionTreeClassifier(max_depth=20, max_leaf_nodes=300)\n",
    "dt_clf = tree.DecisionTreeClassifier(max_depth=8)\n",
    "\n",
    "y_train_pred = cross_val_predict(dt_clf, X_train, y_train, cv=2)\n",
    "print(dt_clf.fit(X_train, y_train))\n",
    "\n",
    "print('Number of nodes in the decision tree {}.'.format(dt_clf.tree_.node_count))\n",
    "print('Number of threshold in the decision tree {}.'.format(len(dt_clf.tree_.threshold)))\n",
    "print('Number of leaves in the decision tree {}. It will be number of states in sequential FSM.'.format(dt_clf.tree_.n_leaves))\n",
    "\n",
    "from sklearn.metrics import accuracy_score\n",
    "print(accuracy_score(y_train, dt_clf.predict(X_train)), accuracy_score(y_test, dt_clf.predict(X_test)))"
   ]
  },
  {
   "cell_type": "code",
   "execution_count": 10,
   "id": "5bb0557d",
   "metadata": {},
   "outputs": [],
   "source": [
    "import pickle\n",
    "with open('MNIST_dataset/MNIST_dataset.pkl', 'wb') as f:\n",
    "    pickle.dump([X_train, y_train, X_test, y_test], f)"
   ]
  },
  {
   "cell_type": "markdown",
   "id": "8bb46766",
   "metadata": {},
   "source": [
    "#### Run this cell twice."
   ]
  },
  {
   "cell_type": "code",
   "execution_count": 12,
   "id": "5cdc14bb",
   "metadata": {},
   "outputs": [],
   "source": [
    "%%capture cap --no-stderr\n",
    "from sklearn.tree import _tree\n",
    "\n",
    "def tree_to_code(tree, feature_names):\n",
    "    tree_ = tree.tree_\n",
    "    feature_name = [\n",
    "        feature_names[i] if i != _tree.TREE_UNDEFINED else \"undefined!\"\n",
    "        for i in tree_.feature\n",
    "    ]\n",
    "    \n",
    "    def recurse(node, depth):\n",
    "        indent = \"  \" * depth\n",
    "        if tree_.feature[node] != _tree.TREE_UNDEFINED:\n",
    "            name = feature_name[node]\n",
    "            threshold = tree_.threshold[node]\n",
    "            print (\"{}{}:if ({} <= {})\".format(indent, node, name, int(round(threshold,3)))) \n",
    "            recurse(tree_.children_left[node], depth + 1)\n",
    "            print (\"{}{}:else \".format(indent, node, name, int(round(threshold,3))))\n",
    "            recurse(tree_.children_right[node], depth + 1)\n",
    "        else:\n",
    "            print (\"{} Label<={};\".format(indent, np.argmax(tree_.value[node][0],axis=0)))\n",
    "\n",
    "    recurse(0, 1)\n",
    "\n",
    "cols = range(784)\n",
    "features = ['pixels[{}]'.format(str(i)) for i in cols]\n",
    "class_names = [str(i) for i in dt_clf.classes_]\n",
    "tree_to_code(dt_clf, features)\n",
    "\n",
    "with open('decision_rules_mnist.txt', 'w') as f:\n",
    "    f.write(cap.stdout)"
   ]
  },
  {
   "cell_type": "markdown",
   "id": "333190e3",
   "metadata": {},
   "source": [
    "#### Run this cell twice."
   ]
  },
  {
   "cell_type": "code",
   "execution_count": 14,
   "id": "1c6652cf",
   "metadata": {},
   "outputs": [],
   "source": [
    "%%capture cap --no-stderr\n",
    "\n",
    "import pdb\n",
    "def write_file(data_towrite):\n",
    "    with open('verilog_file.v', 'a', encoding='utf-8') as file:\n",
    "        file.writelines(data_towrite)\n",
    "        file.close()\n",
    "        \n",
    "def write_line_file(data_towrite, line_num):\n",
    "    with open('verilog_file.v', 'r', encoding='utf-8') as file:\n",
    "        file_content = file.readlines()\n",
    "        file.close()\n",
    "    file_content[line_num] = file_content[line_num].replace('\\n','') + ' ' + data_towrite + '\\n'  \n",
    "    with open('verilog_file.v', 'w', encoding='utf-8') as file:\n",
    "        file.writelines(file_content)\n",
    "        file.close()\n",
    "        \n",
    "def search_content_file(word):\n",
    "    with open('verilog_file.v', 'r') as file:\n",
    "        file_content = file.readlines()\n",
    "        for line_num,line in enumerate(file_content):\n",
    "            if word in line:\n",
    "                return(line_num)\n",
    "        return(\"content doesn't exists.\")\n",
    "    \n",
    "def update_stateformat_file():\n",
    "    with open('verilog_file.v', 'r', encoding='utf-8') as file:\n",
    "        file_content = file.readlines()\n",
    "        file.close()\n",
    "    for line_num,line in enumerate(file_content):\n",
    "        if 'if' in line:\n",
    "            file_content[line_num] = '    case ' + file_content[line_num].strip() + ' \\n'  \n",
    "    with open('verilog_file.v', 'w', encoding='utf-8') as file:\n",
    "        file.writelines(file_content)\n",
    "        file.close()\n",
    "        \n",
    "def clear_file():\n",
    "    with open('verilog_file.v', 'w', encoding='utf-8') as file:\n",
    "        pass\n",
    "        file.close()\n",
    "        \n",
    "def print_file_content():\n",
    "    with open('verilog_file.v', 'r', encoding='utf-8') as file:\n",
    "        file_content = file.read()\n",
    "        file.close()\n",
    "    print(file_content)\n",
    "\n",
    "\n",
    "import itertools\n",
    "with open('decision_rules_mnist.txt', 'r') as f:\n",
    "    tree_verilog = f.read()\n",
    "    f.close()\n",
    "\n",
    "clear_file()\n",
    "line_num = 0\n",
    "else_state = 0\n",
    "else_nextif_state = 0\n",
    "curr_line,next_line = itertools.tee(tree_verilog.split('\\n'))\n",
    "next(next_line, None)\n",
    "for i,j in list(zip(curr_line,next_line)):\n",
    "    if 'Label' in i:\n",
    "        pass\n",
    "        #write_file(f'  begin {i.strip()} state<=0;ml_inference_completed<=1; end \\n')\n",
    "    elif 'else' in i and 'Label' in j:\n",
    "        else_state = i.strip().split(':')[0]\n",
    "        line_num = search_content_file(' '+str(else_state)+':if' )\n",
    "        spaces = 12-len(str(line_num))\n",
    "        spaces = ' '*spaces\n",
    "        write_line_file(f'\\n{spaces}else:  {j.strip().replace(\"<\",\"\")} state=0;ml_inference_completed=1; clock_counter = clock_counter+1;', line_num)\n",
    "    elif 'else' in i and 'if' in j:\n",
    "        else_state = i.strip().split(':')[0]\n",
    "        else_nextif_state = j.strip().split(':')[0]\n",
    "        line_num = search_content_file(' '+str(else_state)+':if' )\n",
    "        spaces = 12-len(str(line_num))\n",
    "        spaces = ' '*spaces\n",
    "        write_line_file(f' \\n{spaces}else: state={else_nextif_state}; clock_counter = clock_counter+1;', line_num)\n",
    "    elif 'if' in i and 'Label' in j:\n",
    "        write_file(f' {i.strip()}:  {j.strip().replace(\"<\",\"\")} state=0;ml_inference_completed<=1; clock_counter = clock_counter+1; ')\n",
    "    elif 'if' in i and 'if' in j:\n",
    "        write_file(f' {i.strip()}: clock_counter = clock_counter+1; state={j.strip().split(\":\")[0]};  \\n ')  \n",
    "update_stateformat_file()\n",
    "print('def inference_rate(pixels):')\n",
    "print(' clock_counter=0; state=0; Label=10; ml_inference_completed=0; #assigning dummy default label to 10')\n",
    "print(' while(Label == 10):')\n",
    "print('  match state:')\n",
    "print_file_content()\n",
    "print(' return (Label,clock_counter)')\n",
    "\n",
    "with open('mnist_dt_case_fsm.py', 'w') as f:\n",
    "    f.write(cap.stdout)"
   ]
  },
  {
   "cell_type": "code",
   "execution_count": 15,
   "id": "33910eec",
   "metadata": {},
   "outputs": [],
   "source": [
    "# Aligning the spaces\n",
    "with open('mnist_dt_case_fsm.py', 'r') as f:\n",
    "    py_fsm = f.readlines()\n",
    "    f.close()\n",
    "    \n",
    "curr_line,next_line = itertools.tee(py_fsm)\n",
    "next(next_line, None)\n",
    "for i,j in list(zip(curr_line,next_line)):\n",
    "    if 'if' in i and 'else' in j:\n",
    "        if len(i.split('if')[0]) != len(j.split('else')[0]):\n",
    "            py_fsm[py_fsm.index(j)] = ' '* (len(i.split('if')[0]) - len(j.split('else')[0])) + py_fsm[py_fsm.index(j)]\n",
    "            \n",
    "\n",
    "for i in py_fsm:\n",
    "    if 'case' in i:\n",
    "        py_fsm[py_fsm.index(i)] = i.split(':if')[0]+':\\n'+ ' '*(len(i.split(':if')[0])+1) + 'if' + i.split(':if')[1]\n",
    "        \n",
    "with open('mnist_dt_case_fsm.py', 'w') as f:\n",
    "    f.writelines(py_fsm)\n",
    "    f.close()        "
   ]
  },
  {
   "cell_type": "code",
   "execution_count": 16,
   "id": "d3c4315c",
   "metadata": {},
   "outputs": [],
   "source": [
    "#Adding default state \n",
    "with open('mnist_dt_case_fsm.py', 'r') as f:\n",
    "    py_fsm = f.readlines()\n",
    "    f.close()\n",
    "py_fsm[-2] = ' '*4+'case _:\\n'+ ' '*len(' '*4+'case _:') + 'import random; Label=random.randint(0,9); state=0;ml_inference_completed=1; clock_counter = clock_counter+1;\\n'\n",
    "\n",
    "with open('mnist_dt_case_fsm.py', 'w') as f:\n",
    "    f.writelines(py_fsm)\n",
    "    f.close()        \n"
   ]
  },
  {
   "cell_type": "markdown",
   "id": "46bcac22",
   "metadata": {},
   "source": [
    "## FSM State Permutation Obfuscation"
   ]
  },
  {
   "cell_type": "markdown",
   "id": "974e0c03",
   "metadata": {},
   "source": [
    "#### Extracting the state labels and transition labels."
   ]
  },
  {
   "cell_type": "code",
   "execution_count": 17,
   "id": "4e59c558",
   "metadata": {},
   "outputs": [
    {
     "name": "stdout",
     "output_type": "stream",
     "text": [
      "True\n",
      "Number of state/transition labels = 249.\n",
      "[0, 1, 2, 3, 4, 5, 6, 7, 10, 13, 14, 17, 20, 21, 22, 25, 28, 29, 32, 35, 36, 37, 38, 41, 44, 45, 48, 51, 52, 53, 56, 59, 60, 63, 66, 67, 68, 69, 70, 73, 76, 77, 80, 83, 84, 85, 88, 91, 92, 95, 98, 99, 100, 101, 104, 107, 108, 111, 114, 115, 116, 119, 122, 123, 126, 129, 130, 131, 132, 133, 134, 137, 140, 141, 144, 147, 148, 149, 152, 155, 156, 159, 162, 163, 164, 165, 168, 171, 172, 175, 178, 179, 180, 183, 186, 187, 190, 193, 194, 195, 196, 197, 200, 203, 204, 207, 210, 211, 212, 215, 218, 219, 222, 225, 226, 227, 228, 231, 234, 235, 238, 241, 242, 243, 246, 249, 250, 253, 256, 257, 258, 259, 260, 261, 262, 265, 268, 269, 272, 275, 276, 277, 280, 283, 284, 287, 290, 291, 292, 293, 297, 298, 302, 303, 306, 309, 310, 311, 312, 313, 316, 319, 320, 323, 326, 327, 328, 331, 334, 335, 338, 341, 342, 343, 344, 347, 350, 351, 354, 357, 358, 359, 362, 365, 366, 369, 372, 373, 374, 375, 376, 377, 380, 383, 384, 387, 390, 391, 392, 395, 398, 399, 402, 405, 406, 407, 408, 411, 414, 415, 418, 421, 422, 423, 426, 429, 430, 433, 436, 437, 438, 439, 440, 443, 446, 447, 450, 453, 454, 455, 458, 461, 462, 465, 468, 469, 470, 471, 474, 477, 478, 481, 484, 485, 486, 489, 492, 493, 496]\n"
     ]
    }
   ],
   "source": [
    "with open('mnist_dt_case_fsm.py', 'r') as f:\n",
    "    py_fsm = f.readlines()\n",
    "    f.close()\n",
    "    \n",
    "state_labels = []\n",
    "transition_labels = []\n",
    "for i in py_fsm:\n",
    "    if 'case' in i and '_' not in i:\n",
    "        state_labels.append(int(i.split(':')[0].split(' ')[-1]))\n",
    "    if 'state=' in i:\n",
    "        transition_labels.append(int(i.split('state=')[-1].split(';')[0]))\n",
    "\n",
    "transition_labels = list(set(transition_labels))\n",
    "print(state_labels == transition_labels)\n",
    "\n",
    "print(f'Number of state/transition labels = {len(state_labels)}.')\n",
    "print(state_labels)"
   ]
  },
  {
   "cell_type": "markdown",
   "id": "3de7d1c2",
   "metadata": {},
   "source": [
    "#### Designing a correct key for state label."
   ]
  },
  {
   "cell_type": "code",
   "execution_count": 18,
   "id": "3c9fc823",
   "metadata": {},
   "outputs": [
    {
     "name": "stdout",
     "output_type": "stream",
     "text": [
      "Maximum vlaue of state label = 496. \n",
      "Minimum number of bits to represent it = 9.\n",
      "Length of bin_correct_secret_key before 8-bit word division = 2241.\n",
      "Length of bin_correct_secret_key after 8-bit word division = 2248.\n",
      "correct_secret_key in binary = 0000000000000000010000000100000000110000001000000001010000001100000001110000010100000011010000011100000100010000101000000101010000101100000110010000111000000111010001000000001000110001001000001001010001001100001010010001011000001011010001100000001100110001101000001101010001110000001110110001111000001111110010000100010000110010001000010001010010001100010010010010011000010011010010100000010100110010101000010101010010110000010110110010111000010111110011000100011000110011001000011001010011010000011010110011011000011011110011100100011100110011101000011101110011110100011110110011111100100000010100000100100000110100001000100001010100001100100010010100011000100011010100100000100100110100101000100101010100110000100110110100111000100111110101000100101000110101001000101001010101010000101010110101011000101011110101100100101100110101101000101101110101110100101110110101111100110000010110000100110000110110001000110001010110010000110010110110011000110011110110100100110100110110101000110101110110110100110110110110111100111000010111000100111000110111001000111001110111010100111010110111011100111100010111100100111100110111101100111110010111110100111111011000000001000000011000000101000000111000001001000001011000001101000010011000011001000011011000100001000100111000101001000101011000110001000110111000111001000111111001000101001000111001001001001001011001010011001010101001011101001011111001100101001101011001101101001101111001110001001110011001111001001111111010000001010000111010001101010001111010010001010010111010011101010011111010100101010101011010101101010101111010110001010110111010111101010111111011000101011001011011001101011001111011010101011011011011011101011100011011101001011101011011101101011101111011110001011110011011111001011111111100000001100000111100001101100001111100010001100010111100011101100011111100100101100101011100101101100101111100110001100110111100111101100111111101000101101001011101001101101001111101010101101011011101011101101100011101101001101101011101101101101101111101110001101110111101111101101111111110000101110001011110001101110001111110010101110011011110011101110100011110101001110101011110101101110101111110110101110111011110111101111000011111001001111001011111001101111010011111011001111011011111100000000000\n",
      "correct_secret_key in decimal = [0, 0, 64, 64, 48, 32, 20, 12, 7, 5, 3, 65, 193, 16, 160, 84, 44, 25, 14, 7, 68, 2, 49, 32, 148, 76, 41, 22, 11, 70, 3, 49, 160, 212, 112, 59, 30, 15, 200, 68, 50, 33, 20, 140, 73, 38, 19, 74, 5, 50, 161, 84, 176, 91, 46, 23, 204, 70, 51, 33, 148, 208, 107, 54, 27, 206, 71, 51, 161, 220, 244, 123, 63, 32, 80, 72, 52, 34, 21, 12, 137, 70, 35, 82, 9, 52, 162, 85, 48, 155, 78, 39, 212, 74, 53, 34, 149, 80, 171, 86, 43, 214, 75, 53, 162, 221, 116, 187, 95, 48, 88, 76, 54, 35, 21, 144, 203, 102, 51, 218, 77, 54, 163, 93, 180, 219, 111, 56, 92, 78, 55, 35, 157, 212, 235, 119, 60, 94, 79, 55, 179, 229, 244, 253, 128, 64, 96, 80, 56, 36, 22, 13, 9, 134, 67, 98, 17, 56, 164, 86, 49, 27, 142, 71, 228, 82, 57, 36, 150, 83, 42, 151, 75, 230, 83, 89, 180, 222, 113, 57, 158, 79, 232, 20, 58, 53, 30, 145, 75, 167, 83, 234, 85, 90, 181, 94, 177, 91, 175, 87, 236, 86, 91, 53, 158, 213, 109, 183, 92, 110, 151, 91, 181, 222, 241, 121, 190, 95, 240, 24, 60, 54, 31, 17, 139, 199, 99, 242, 89, 92, 182, 95, 49, 155, 207, 103, 244, 90, 93, 54, 159, 85, 173, 215, 108, 118, 155, 93, 182, 223, 113, 187, 223, 111, 248, 92, 94, 55, 31, 149, 205, 231, 116, 122, 157, 94, 183, 95, 181, 221, 239, 120, 124, 158, 95, 55, 167, 217, 237, 248, 0]\n",
      "Length of correct_secret_key in decimal = 281. This matches |bin_correct_secret_key|/8 = 281.0.\n"
     ]
    }
   ],
   "source": [
    "import math\n",
    "max_val_statelabel = max(state_labels)\n",
    "number_of_bits = math.floor(math.log2(abs(max(state_labels)))) + 1\n",
    "print(f'Maximum vlaue of state label = {max_val_statelabel}. ')\n",
    "print(f'Minimum number of bits to represent it = {number_of_bits}.')\n",
    "\n",
    "def convert_to_binary_with_padding(numbers):\n",
    "    max_bits = len(bin(max(numbers))) - 2  # Determine the maximum number of bits needed\n",
    "    binary_numbers = []\n",
    "    for num in numbers:\n",
    "        binary = bin(num)[2:]  # Convert number to binary, remove '0b' prefix\n",
    "        padded_binary = binary.zfill(max_bits)  # Perform zero padding\n",
    "        binary_numbers.append(padded_binary)\n",
    "    return binary_numbers\n",
    "\n",
    "binary_state_labels = convert_to_binary_with_padding(state_labels)\n",
    "bin_correct_secret_key = ''.join(binary_state_labels)\n",
    "print(f'Length of bin_correct_secret_key before 8-bit word division = {len(bin_correct_secret_key)}.')\n",
    "last_chunk_size = len(bin_correct_secret_key) % 8    #Checking the last chunk whether it is 8-bit or not\n",
    "if last_chunk_size !=0:\n",
    "    bin_correct_secret_key = bin_correct_secret_key[0:-last_chunk_size] + bin_correct_secret_key[-last_chunk_size:].zfill(8)\n",
    "print(f'Length of bin_correct_secret_key after 8-bit word division = {len(bin_correct_secret_key)}.')\n",
    "print(f'correct_secret_key in binary = {bin_correct_secret_key}')\n",
    "\n",
    "def binary_stream_to_bytes(binary_stream):\n",
    "    # Split the binary stream into 8-bit chunks\n",
    "    chunks = [binary_stream[i:i+8] for i in range(0, len(binary_stream), 8)]\n",
    "    # Convert each chunk to a decimal integer\n",
    "    bytes_list = [int(chunk, 2) for chunk in chunks]\n",
    "    return bytes_list\n",
    "\n",
    "decimal_correct_secret_key = binary_stream_to_bytes(bin_correct_secret_key)\n",
    "print(f'correct_secret_key in decimal = {decimal_correct_secret_key}')\n",
    "print(f'Length of correct_secret_key in decimal = {len(decimal_correct_secret_key)}. This matches |bin_correct_secret_key|/8 = {len(bin_correct_secret_key)/8}.')"
   ]
  },
  {
   "cell_type": "markdown",
   "id": "3b658f1b",
   "metadata": {},
   "source": [
    "#### Creating the state_label and transition_label encoding for each case statement in the mnist_dt_case_fsm.py. Saving the script in locked_mnist_dt_case_fsm.py"
   ]
  },
  {
   "cell_type": "code",
   "execution_count": 19,
   "id": "fdc459b0",
   "metadata": {},
   "outputs": [
    {
     "name": "stdout",
     "output_type": "stream",
     "text": [
      "{0: 0, 1: 1, 2: 2, 3: 3, 4: 4, 5: 5, 6: 6, 7: 7, 8: 10, 9: 13, 10: 14, 11: 17, 12: 20, 13: 21, 14: 22, 15: 25, 16: 28, 17: 29, 18: 32, 19: 35, 20: 36, 21: 37, 22: 38, 23: 41, 24: 44, 25: 45, 26: 48, 27: 51, 28: 52, 29: 53, 30: 56, 31: 59, 32: 60, 33: 63, 34: 66, 35: 67, 36: 68, 37: 69, 38: 70, 39: 73, 40: 76, 41: 77, 42: 80, 43: 83, 44: 84, 45: 85, 46: 88, 47: 91, 48: 92, 49: 95, 50: 98, 51: 99, 52: 100, 53: 101, 54: 104, 55: 107, 56: 108, 57: 111, 58: 114, 59: 115, 60: 116, 61: 119, 62: 122, 63: 123, 64: 126, 65: 129, 66: 130, 67: 131, 68: 132, 69: 133, 70: 134, 71: 137, 72: 140, 73: 141, 74: 144, 75: 147, 76: 148, 77: 149, 78: 152, 79: 155, 80: 156, 81: 159, 82: 162, 83: 163, 84: 164, 85: 165, 86: 168, 87: 171, 88: 172, 89: 175, 90: 178, 91: 179, 92: 180, 93: 183, 94: 186, 95: 187, 96: 190, 97: 193, 98: 194, 99: 195, 100: 196, 101: 197, 102: 200, 103: 203, 104: 204, 105: 207, 106: 210, 107: 211, 108: 212, 109: 215, 110: 218, 111: 219, 112: 222, 113: 225, 114: 226, 115: 227, 116: 228, 117: 231, 118: 234, 119: 235, 120: 238, 121: 241, 122: 242, 123: 243, 124: 246, 125: 249, 126: 250, 127: 253, 128: 256, 129: 257, 130: 258, 131: 259, 132: 260, 133: 261, 134: 262, 135: 265, 136: 268, 137: 269, 138: 272, 139: 275, 140: 276, 141: 277, 142: 280, 143: 283, 144: 284, 145: 287, 146: 290, 147: 291, 148: 292, 149: 293, 150: 297, 151: 298, 152: 302, 153: 303, 154: 306, 155: 309, 156: 310, 157: 311, 158: 312, 159: 313, 160: 316, 161: 319, 162: 320, 163: 323, 164: 326, 165: 327, 166: 328, 167: 331, 168: 334, 169: 335, 170: 338, 171: 341, 172: 342, 173: 343, 174: 344, 175: 347, 176: 350, 177: 351, 178: 354, 179: 357, 180: 358, 181: 359, 182: 362, 183: 365, 184: 366, 185: 369, 186: 372, 187: 373, 188: 374, 189: 375, 190: 376, 191: 377, 192: 380, 193: 383, 194: 384, 195: 387, 196: 390, 197: 391, 198: 392, 199: 395, 200: 398, 201: 399, 202: 402, 203: 405, 204: 406, 205: 407, 206: 408, 207: 411, 208: 414, 209: 415, 210: 418, 211: 421, 212: 422, 213: 423, 214: 426, 215: 429, 216: 430, 217: 433, 218: 436, 219: 437, 220: 438, 221: 439, 222: 440, 223: 443, 224: 446, 225: 447, 226: 450, 227: 453, 228: 454, 229: 455, 230: 458, 231: 461, 232: 462, 233: 465, 234: 468, 235: 469, 236: 470, 237: 471, 238: 474, 239: 477, 240: 478, 241: 481, 242: 484, 243: 485, 244: 486, 245: 489, 246: 492, 247: 493, 248: 496} \n",
      "-----\n",
      " {0: 319, 1: 175, 2: 70, 3: 347, 4: 28, 5: 242, 6: 159, 7: 222, 8: 411, 9: 470, 10: 235, 11: 53, 12: 5, 13: 178, 14: 243, 15: 148, 16: 141, 17: 423, 18: 359, 19: 474, 20: 119, 21: 265, 22: 80, 23: 440, 24: 131, 25: 253, 26: 312, 27: 313, 28: 45, 29: 85, 30: 291, 31: 454, 32: 350, 33: 168, 34: 351, 35: 88, 36: 250, 37: 343, 38: 354, 39: 493, 40: 180, 41: 126, 42: 280, 43: 52, 44: 51, 45: 287, 46: 447, 47: 84, 48: 358, 49: 196, 50: 2, 51: 326, 52: 35, 53: 328, 54: 453, 55: 262, 56: 29, 57: 421, 58: 44, 59: 13, 60: 302, 61: 203, 62: 147, 63: 152, 64: 290, 65: 238, 66: 212, 67: 269, 68: 366, 69: 172, 70: 108, 71: 211, 72: 392, 73: 415, 74: 140, 75: 455, 76: 372, 77: 384, 78: 399, 79: 338, 80: 446, 81: 163, 82: 407, 83: 377, 84: 67, 85: 0, 86: 408, 87: 489, 88: 383, 89: 402, 90: 257, 91: 426, 92: 122, 93: 234, 94: 225, 95: 309, 96: 187, 97: 414, 98: 20, 99: 461, 100: 344, 101: 6, 102: 32, 103: 373, 104: 335, 105: 100, 106: 115, 107: 398, 108: 284, 109: 256, 110: 17, 111: 215, 112: 1, 113: 25, 114: 77, 115: 341, 116: 277, 117: 310, 118: 437, 119: 149, 120: 374, 121: 22, 122: 183, 123: 342, 124: 272, 125: 56, 126: 303, 127: 14, 128: 133, 129: 156, 130: 144, 131: 95, 132: 439, 133: 165, 134: 83, 135: 3, 136: 123, 137: 10, 138: 207, 139: 41, 140: 450, 141: 283, 142: 357, 143: 260, 144: 4, 145: 162, 146: 323, 147: 387, 148: 197, 149: 429, 150: 36, 151: 320, 152: 430, 153: 48, 154: 465, 155: 99, 156: 292, 157: 486, 158: 375, 159: 365, 160: 98, 161: 362, 162: 468, 163: 331, 164: 227, 165: 316, 166: 194, 167: 111, 168: 116, 169: 275, 170: 76, 171: 7, 172: 406, 173: 376, 174: 68, 175: 268, 176: 228, 177: 481, 178: 258, 179: 195, 180: 130, 181: 200, 182: 418, 183: 66, 184: 226, 185: 69, 186: 311, 187: 241, 188: 204, 189: 390, 190: 218, 191: 63, 192: 193, 193: 469, 194: 405, 195: 433, 196: 471, 197: 179, 198: 478, 199: 391, 200: 186, 201: 190, 202: 114, 203: 293, 204: 458, 205: 395, 206: 107, 207: 104, 208: 477, 209: 246, 210: 171, 211: 129, 212: 485, 213: 436, 214: 298, 215: 422, 216: 164, 217: 91, 218: 59, 219: 219, 220: 132, 221: 462, 222: 484, 223: 101, 224: 134, 225: 334, 226: 137, 227: 297, 228: 210, 229: 92, 230: 261, 231: 73, 232: 259, 233: 443, 234: 492, 235: 496, 236: 380, 237: 60, 238: 155, 239: 231, 240: 249, 241: 38, 242: 276, 243: 37, 244: 369, 245: 306, 246: 21, 247: 327, 248: 438}\n"
     ]
    }
   ],
   "source": [
    "import pdb\n",
    "with open('mnist_dt_case_fsm.py', 'r') as f:\n",
    "    py_fsm = f.readlines()\n",
    "    f.close()\n",
    "    \n",
    "#In Python >=3.10, the match statement doesn't support using variables or expressions as case labels directly. \n",
    "#However, you can achieve the desired functionality by using the case statement with conditions.\n",
    "\n",
    "encoder_counter = 0\n",
    "encoded_label_dict = {}  #read as : value = true case state label, key = encoded label sliced from the secret key\n",
    "for i in py_fsm:\n",
    "    if 'case' in i and '_' not in i:\n",
    "        py_fsm[py_fsm.index(i)] = i.replace(i.split(':')[0].split(' ')[-1], f'x if x == encoded_state_label[{encoder_counter}]')\n",
    "        encoded_label_dict[encoder_counter] = int(i.split(':')[0].split(' ')[-1])\n",
    "        encoder_counter = encoder_counter+1\n",
    "\n",
    "import random\n",
    "def shuffle_dict(dictionary):\n",
    "    keys = list(dictionary.keys())\n",
    "    values = list(dictionary.values())\n",
    "    random.shuffle(values)\n",
    "    shuffled_dict = dict(zip(keys, values))\n",
    "    return shuffled_dict\n",
    "\n",
    "def find_key(dictionary, value):\n",
    "    for key, val in dictionary.items():\n",
    "        if val == value:\n",
    "            return key\n",
    "    return None\n",
    "        \n",
    "transition_label_dict = shuffle_dict(encoded_label_dict) #read as : vaue = true transition state label, key = encoded state label sliced from the secret key\n",
    "\n",
    "\n",
    "#Need to apply regular expression because there are multiple integers in line \n",
    "for i in py_fsm:\n",
    "    if ('state=' in i) and ('if' in i or 'else' in i):\n",
    "        next_state = i.split('state=')[-1].split(';')[0]\n",
    "        true_trans_state = find_key(transition_label_dict, int(next_state) )\n",
    "        py_fsm[py_fsm.index(i)] = i.replace( 'state=' + next_state, f\"state=encoded_transition_label[{true_trans_state}]\")\n",
    "\n",
    "py_fsm[0] =  py_fsm[0].replace('pixels', 'pixels, encoded_state_label, encoded_transition_label')\n",
    "py_fsm[0] =  py_fsm[0].replace('inference', 'Lockedinference')\n",
    "\n",
    "with open('locked_mnist_dt_case_fsm.py', 'w') as f:\n",
    "    f.writelines(py_fsm)\n",
    "    f.close()        \n",
    "    \n",
    "\n",
    "print(encoded_label_dict, '\\n-----\\n', transition_label_dict)"
   ]
  },
  {
   "cell_type": "markdown",
   "id": "9d50c56e",
   "metadata": {},
   "source": [
    "#### Designing a correct key for transition label."
   ]
  },
  {
   "cell_type": "code",
   "execution_count": 20,
   "id": "129d15f8",
   "metadata": {},
   "outputs": [
    {
     "name": "stdout",
     "output_type": "stream",
     "text": [
      "Length of transition_last_chunk_size before 8-bit word division = 2241.\n",
      "Length of transition_bin_correct_secret_key after 8-bit word division = 2248.\n",
      "transition_bin_correct_secret_key in binary = 1001111110101011110010001101010110110000111000111100100100111110110111101100110111110101100111010110001101010000001010101100100111100110100101000100011011101001111011001111110110100011101111000010010010100001101110000100000110111111011001110001001110010001011010010101011001000111110001101010111100101010001010111110010110000111110101010101111011000101111011010101101000011111101000110000001101000001100111000111111101111110010101001011001100110001000000000101010001100001000111010010001110001011000001100000111011101001010001011000000011011001011100110010110100100110100110001001000100111011100110101001000011011011011100101011000011011000110100111100010001100111110100011001110001111011101001100000001100011111010100101101111100101000111100101111011110010010000110000000001100110001111010011011111111100100101000000011101010100011110100111010100111000011001101010101110111100111100000101001110011011010110000000001100001000001011101011010011110011001000011100111100011101000111001000000000000100010110101110000000010000110010010011011010101011000101011001101101101101010100101011011101100000101100101101111010101101000100000001110001001011110000011100100001010100111000100100000010111111101101110101001010010100110000000110011110110000010100110011110001010011110000101000110111011001011000001000000001000101000101010000111100000110110001011101011010001001001010000001101011100001100001110100010011000111001001001111001101011101111011011010011000101011010101110101001010010110111000111001111000110000100011011110011101001000100110010011000000001111100101101011110000010001001000011000111001001111000011000000100110000110100000100110010001101000100010000100111000100010001011001101110111100010110011001100001100110110100001111110110000011110101011100101011101100011110101110101100111110111101100001110101110100101111100011100101001001011110010101100010110011010110011010001110111010111101100101010110100000011111001011101101001001010101101001100101001000010110110001110110110110110100001001110011101111001000011001010100001101010011100100010011001010010110100100010111001000001010010010011000000111101110111111011001111100001011111000001111000100110110111001110111110010001001101000101000001001011011100011001100100000101011010001111101101100000000\n",
      "transition_correct_secret_key in decimal = [159, 171, 200, 213, 176, 227, 201, 62, 222, 205, 245, 157, 99, 80, 42, 201, 230, 148, 70, 233, 236, 253, 163, 188, 36, 161, 184, 65, 191, 103, 19, 145, 105, 86, 71, 198, 175, 42, 43, 229, 135, 213, 94, 197, 237, 90, 31, 163, 3, 65, 156, 127, 126, 84, 179, 49, 0, 84, 97, 29, 35, 139, 6, 14, 233, 69, 128, 217, 115, 45, 38, 152, 145, 59, 154, 144, 219, 114, 176, 216, 211, 196, 103, 209, 156, 123, 166, 3, 31, 82, 223, 40, 242, 247, 146, 24, 3, 49, 233, 191, 228, 160, 58, 163, 211, 169, 195, 53, 93, 231, 130, 156, 218, 192, 24, 65, 117, 167, 153, 14, 120, 232, 228, 0, 34, 215, 0, 134, 73, 181, 88, 172, 219, 106, 149, 187, 5, 150, 245, 104, 128, 226, 94, 14, 66, 167, 18, 5, 253, 186, 148, 166, 3, 61, 130, 153, 226, 158, 20, 110, 203, 4, 2, 40, 168, 120, 54, 46, 180, 73, 64, 215, 12, 58, 38, 57, 39, 154, 239, 109, 49, 90, 186, 148, 183, 28, 241, 132, 111, 58, 68, 201, 128, 124, 181, 224, 137, 12, 114, 120, 96, 76, 52, 19, 35, 68, 66, 113, 17, 102, 239, 22, 102, 25, 180, 63, 96, 245, 114, 187, 30, 186, 207, 189, 135, 93, 47, 142, 82, 94, 86, 44, 214, 104, 238, 189, 149, 104, 31, 46, 210, 85, 166, 82, 22, 199, 109, 180, 39, 59, 200, 101, 67, 83, 145, 50, 150, 145, 114, 10, 73, 129, 238, 253, 159, 11, 224, 241, 54, 231, 124, 137, 162, 130, 91, 140, 200, 43, 71, 219, 0]\n",
      "Length of transition_correct_secret_key in decimal = 281. This matches |transition_bin_correct_secret_key|/8 = 281.0.\n"
     ]
    }
   ],
   "source": [
    "binary_transition_labels = convert_to_binary_with_padding(transition_label_dict.values())\n",
    "transition_bin_correct_secret_key = ''.join(binary_transition_labels)\n",
    "print(f'Length of transition_last_chunk_size before 8-bit word division = {len(transition_bin_correct_secret_key)}.')\n",
    "transition_last_chunk_size = len(transition_bin_correct_secret_key) % 8    #Checking the last chunk whether it is 8-bit or not\n",
    "if transition_last_chunk_size !=0:\n",
    "    transition_bin_correct_secret_key = transition_bin_correct_secret_key[0:-transition_last_chunk_size] + transition_bin_correct_secret_key[-transition_last_chunk_size:].zfill(8)\n",
    "print(f'Length of transition_bin_correct_secret_key after 8-bit word division = {len(transition_bin_correct_secret_key)}.')\n",
    "print(f'transition_bin_correct_secret_key in binary = {transition_bin_correct_secret_key}')\n",
    "\n",
    "transition_decimal_correct_secret_key = binary_stream_to_bytes(transition_bin_correct_secret_key)\n",
    "print(f'transition_correct_secret_key in decimal = {transition_decimal_correct_secret_key}')\n",
    "print(f'Length of transition_correct_secret_key in decimal = {len(transition_decimal_correct_secret_key)}. This matches |transition_bin_correct_secret_key|/8 = {len(transition_bin_correct_secret_key)/8}.')"
   ]
  },
  {
   "cell_type": "markdown",
   "id": "c24fd734",
   "metadata": {},
   "source": [
    "#### Testing the locked model with correct encoding_label and transition_label."
   ]
  },
  {
   "cell_type": "code",
   "execution_count": 21,
   "id": "e5e230eb",
   "metadata": {},
   "outputs": [],
   "source": [
    "from locked_mnist_dt_case_fsm import Lockedinference_rate"
   ]
  },
  {
   "cell_type": "code",
   "execution_count": 22,
   "id": "32aa84c1",
   "metadata": {},
   "outputs": [
    {
     "name": "stdout",
     "output_type": "stream",
     "text": [
      "(50000, 784) (50000,) (10000, 784) (10000,)\n"
     ]
    }
   ],
   "source": [
    "import pickle\n",
    "with open('MNIST_dataset/MNIST_dataset.pkl', 'rb') as f:\n",
    "    X_train, y_train, X_test, y_test = pickle.load(f)\n",
    "print(X_train.shape, y_train.shape, X_test.shape, y_test.shape)"
   ]
  },
  {
   "cell_type": "code",
   "execution_count": 23,
   "id": "188a6b5e",
   "metadata": {},
   "outputs": [],
   "source": [
    "clock_counter = 0\n",
    "Y_pred = []\n",
    "for i,sample in enumerate(X_test):\n",
    "    inf_label, clock = Lockedinference_rate(sample, encoded_label_dict, transition_label_dict)\n",
    "    Y_pred.append(inf_label)\n",
    "    clock_counter = clock_counter + clock"
   ]
  },
  {
   "cell_type": "code",
   "execution_count": 24,
   "id": "3ace221b",
   "metadata": {},
   "outputs": [
    {
     "name": "stdout",
     "output_type": "stream",
     "text": [
      "Total clock used for inferencing 10000 samples = 79991\n",
      "Accuracy using state machine = 0.8162\n"
     ]
    }
   ],
   "source": [
    "print(f'Total clock used for inferencing 10000 samples = {clock_counter}')\n",
    "#Verify that the accuracy measured after state-machine inference is same as given by sklearn model.\n",
    "from sklearn.metrics import accuracy_score\n",
    "print(f'Accuracy using state machine = {accuracy_score(y_test, Y_pred)}')"
   ]
  },
  {
   "cell_type": "markdown",
   "id": "2b9501c5",
   "metadata": {},
   "source": [
    "### Testing the model with correct key where encoding_labels and transition_labels are extracted from the key"
   ]
  },
  {
   "cell_type": "markdown",
   "id": "72147743",
   "metadata": {},
   "source": [
    "#### Extracting the state_labels."
   ]
  },
  {
   "cell_type": "code",
   "execution_count": 25,
   "id": "8998f6a1",
   "metadata": {},
   "outputs": [
    {
     "name": "stdout",
     "output_type": "stream",
     "text": [
      "verification in binary=True\n",
      "verification in decimal for state labels=True.\n"
     ]
    }
   ],
   "source": [
    "def convert_to_fixed_bit_binary(numbers, num_bits):\n",
    "    binary_list = []\n",
    "    for num in numbers:\n",
    "        # Convert number to binary and remove the '0b' prefix\n",
    "        binary = bin(num)[2:]\n",
    "        # Pad zeros to the left to ensure fixed number of bits\n",
    "        padded_binary = binary.zfill(num_bits)\n",
    "        binary_list.append(padded_binary)\n",
    "    return binary_list\n",
    "\n",
    "Extracted_bin_correct_secret_key=''.join(convert_to_fixed_bit_binary(decimal_correct_secret_key, 8))\n",
    "print(f\"verification in binary={Extracted_bin_correct_secret_key == bin_correct_secret_key}\")\n",
    "\n",
    "#Removing the zero-padded if perfomed from the last 8-bit chunk\n",
    "if last_chunk_size != 0:\n",
    "    Extracted_bin_correct_secret_key= Extracted_bin_correct_secret_key[:-8] + Extracted_bin_correct_secret_key[-8:][-last_chunk_size:]\n",
    "\n",
    "def binary_stream_to_numbers(stream, n):\n",
    "    numbers = []\n",
    "    for i in range(0, len(stream), n):\n",
    "        word = stream[i:i+n]\n",
    "        numbers.append(int(word, 2))\n",
    "    return numbers\n",
    "\n",
    "max_number_of_bits = math.floor(math.log2(abs(max(state_labels)))) + 1\n",
    "Extracted_state_labels = binary_stream_to_numbers(''.join(Extracted_bin_correct_secret_key), max_number_of_bits)\n",
    "print(f\"verification in decimal for state labels={Extracted_state_labels == state_labels}.\")"
   ]
  },
  {
   "cell_type": "code",
   "execution_count": 26,
   "id": "e8a277bc",
   "metadata": {},
   "outputs": [
    {
     "name": "stdout",
     "output_type": "stream",
     "text": [
      "Verification Extracted_encoded_label_dict = True.\n"
     ]
    }
   ],
   "source": [
    "Extracted_encoded_label_dict = {}\n",
    "for i,j in enumerate(Extracted_state_labels):\n",
    "    Extracted_encoded_label_dict[i] = j\n",
    "print(f'Verification Extracted_encoded_label_dict = {Extracted_encoded_label_dict == encoded_label_dict}.')"
   ]
  },
  {
   "cell_type": "markdown",
   "id": "6d4e7cc3",
   "metadata": {},
   "source": [
    "#### Extracting transition labels."
   ]
  },
  {
   "cell_type": "code",
   "execution_count": 27,
   "id": "57538967",
   "metadata": {},
   "outputs": [
    {
     "name": "stdout",
     "output_type": "stream",
     "text": [
      "verification in binary=True\n",
      "verification in decimal for transition labels=True.\n"
     ]
    }
   ],
   "source": [
    "Extracted_transition_bin_correct_secret_key=''.join(convert_to_fixed_bit_binary(transition_decimal_correct_secret_key, 8))\n",
    "print(f\"verification in binary={Extracted_transition_bin_correct_secret_key == transition_bin_correct_secret_key}\")\n",
    "\n",
    "#Removing the zero-padded if perfomed from the last 8-bit chunk\n",
    "if transition_last_chunk_size != 0:\n",
    "    Extracted_transition_bin_correct_secret_key= Extracted_transition_bin_correct_secret_key[:-8] + Extracted_transition_bin_correct_secret_key[-8:][-transition_last_chunk_size:]\n",
    "\n",
    "max_number_of_bits = math.floor(math.log2(abs(max(transition_label_dict.values())))) + 1\n",
    "Extracted_transition_labels = binary_stream_to_numbers(''.join(Extracted_transition_bin_correct_secret_key), max_number_of_bits)\n",
    "print(f\"verification in decimal for transition labels={Extracted_transition_labels == list(transition_label_dict.values())}.\")"
   ]
  },
  {
   "cell_type": "code",
   "execution_count": 28,
   "id": "85b70664",
   "metadata": {},
   "outputs": [
    {
     "name": "stdout",
     "output_type": "stream",
     "text": [
      "Verification Extracted_transition_label_dict = True.\n"
     ]
    }
   ],
   "source": [
    "Extracted_transition_label_dict = {}\n",
    "for i,j in enumerate(Extracted_transition_labels):\n",
    "    Extracted_transition_label_dict[i] = j\n",
    "print(f'Verification Extracted_transition_label_dict = {Extracted_transition_label_dict == transition_label_dict}.')"
   ]
  },
  {
   "cell_type": "markdown",
   "id": "dee473f0",
   "metadata": {},
   "source": [
    "#### Testing"
   ]
  },
  {
   "cell_type": "code",
   "execution_count": 29,
   "id": "0c2f77e6",
   "metadata": {},
   "outputs": [
    {
     "name": "stdout",
     "output_type": "stream",
     "text": [
      "(50000, 784) (50000,) (10000, 784) (10000,)\n",
      "Total clock used for inferencing 10000 samples = 79991\n",
      "Accuracy using state machine = 0.8162\n"
     ]
    }
   ],
   "source": [
    "from locked_mnist_dt_case_fsm import Lockedinference_rate\n",
    "import pickle\n",
    "with open('MNIST_dataset/MNIST_dataset.pkl', 'rb') as f:\n",
    "    X_train, y_train, X_test, y_test = pickle.load(f)\n",
    "print(X_train.shape, y_train.shape, X_test.shape, y_test.shape)\n",
    "\n",
    "clock_counter = 0\n",
    "Y_pred = []\n",
    "for i,sample in enumerate(X_test):\n",
    "    inf_label, clock = Lockedinference_rate(sample, Extracted_encoded_label_dict, Extracted_transition_label_dict)\n",
    "    Y_pred.append(inf_label)\n",
    "    clock_counter = clock_counter + clock\n",
    "    \n",
    "print(f'Total clock used for inferencing 10000 samples = {clock_counter}')\n",
    "#Verify that the accuracy measured after state-machine inference is same as given by sklearn model.\n",
    "from sklearn.metrics import accuracy_score\n",
    "correct_KEY_accuracy = accuracy_score(y_test, Y_pred)\n",
    "correct_KEY_clock = clock_counter\n",
    "print(f'Accuracy using state machine = {correct_KEY_accuracy}')"
   ]
  },
  {
   "cell_type": "markdown",
   "id": "75ef7424",
   "metadata": {},
   "source": [
    "### Several Attacks."
   ]
  },
  {
   "cell_type": "markdown",
   "id": "070d526e",
   "metadata": {},
   "source": [
    "#### Evaluating the locked model with wrong key."
   ]
  },
  {
   "cell_type": "code",
   "execution_count": 32,
   "id": "32ed6f19",
   "metadata": {
    "scrolled": true
   },
   "outputs": [
    {
     "name": "stdout",
     "output_type": "stream",
     "text": [
      "Total clock used for inferencing 10000 samples = 10000\n",
      "Accuracy using state machine = 0.119\n",
      "------------------\n",
      "Total clock used for inferencing 10000 samples = 10000\n",
      "Accuracy using state machine = 0.1035\n",
      "------------------\n",
      "Total clock used for inferencing 10000 samples = 10000\n",
      "Accuracy using state machine = 0.093\n",
      "------------------\n",
      "Total clock used for inferencing 10000 samples = 10000\n",
      "Accuracy using state machine = 0.0961\n",
      "------------------\n",
      "Total clock used for inferencing 10000 samples = 10000\n",
      "Accuracy using state machine = 0.0979\n",
      "------------------\n",
      "Total clock used for inferencing 10000 samples = 10000\n",
      "Accuracy using state machine = 0.096\n",
      "------------------\n",
      "Total clock used for inferencing 10000 samples = 10000\n",
      "Accuracy using state machine = 0.1016\n",
      "------------------\n",
      "Total clock used for inferencing 10000 samples = 10000\n",
      "Accuracy using state machine = 0.0932\n",
      "------------------\n",
      "Total clock used for inferencing 10000 samples = 10000\n",
      "Accuracy using state machine = 0.102\n",
      "------------------\n",
      "Total clock used for inferencing 10000 samples = 21487\n",
      "Accuracy using state machine = 0.0997\n",
      "------------------\n",
      "Total clock used for inferencing 10000 samples = 10000\n",
      "Accuracy using state machine = 0.102\n",
      "------------------\n",
      "Total clock used for inferencing 10000 samples = 10000\n",
      "Accuracy using state machine = 0.099\n",
      "------------------\n",
      "Total clock used for inferencing 10000 samples = 10000\n",
      "Accuracy using state machine = 0.1035\n",
      "------------------\n",
      "Total clock used for inferencing 10000 samples = 10000\n",
      "Accuracy using state machine = 0.1285\n",
      "------------------\n",
      "Total clock used for inferencing 10000 samples = 10000\n",
      "Accuracy using state machine = 0.0972\n",
      "------------------\n",
      "Total clock used for inferencing 10000 samples = 10000\n",
      "Accuracy using state machine = 0.1022\n",
      "------------------\n",
      "Total clock used for inferencing 10000 samples = 32354\n",
      "Accuracy using state machine = 0.105\n",
      "------------------\n",
      "Total clock used for inferencing 10000 samples = 10000\n",
      "Accuracy using state machine = 0.0965\n",
      "------------------\n",
      "Total clock used for inferencing 10000 samples = 25903\n",
      "Accuracy using state machine = 0.1068\n",
      "------------------\n",
      "Total clock used for inferencing 10000 samples = 10000\n",
      "Accuracy using state machine = 0.1032\n",
      "------------------\n",
      "Total clock used for inferencing 10000 samples = 10000\n",
      "Accuracy using state machine = 0.0975\n",
      "------------------\n",
      "Total clock used for inferencing 10000 samples = 10000\n",
      "Accuracy using state machine = 0.1057\n",
      "------------------\n",
      "Total clock used for inferencing 10000 samples = 10000\n",
      "Accuracy using state machine = 0.0974\n",
      "------------------\n",
      "Total clock used for inferencing 10000 samples = 10000\n",
      "Accuracy using state machine = 0.1304\n",
      "------------------\n",
      "Total clock used for inferencing 10000 samples = 10000\n",
      "Accuracy using state machine = 0.0988\n",
      "------------------\n",
      "Total clock used for inferencing 10000 samples = 20000\n",
      "Accuracy using state machine = 0.101\n",
      "------------------\n",
      "Total clock used for inferencing 10000 samples = 10000\n",
      "Accuracy using state machine = 0.0994\n",
      "------------------\n",
      "Total clock used for inferencing 10000 samples = 10000\n",
      "Accuracy using state machine = 0.096\n",
      "------------------\n",
      "Total clock used for inferencing 10000 samples = 10000\n",
      "Accuracy using state machine = 0.0989\n",
      "------------------\n",
      "Total clock used for inferencing 10000 samples = 10000\n",
      "Accuracy using state machine = 0.0998\n",
      "------------------\n",
      "Total clock used for inferencing 10000 samples = 10000\n",
      "Accuracy using state machine = 0.096\n",
      "------------------\n",
      "Total clock used for inferencing 10000 samples = 10000\n",
      "Accuracy using state machine = 0.1012\n",
      "------------------\n",
      "Total clock used for inferencing 10000 samples = 10000\n",
      "Accuracy using state machine = 0.1015\n",
      "------------------\n",
      "Total clock used for inferencing 10000 samples = 10000\n",
      "Accuracy using state machine = 0.0974\n",
      "------------------\n",
      "Total clock used for inferencing 10000 samples = 10000\n",
      "Accuracy using state machine = 0.1048\n",
      "------------------\n",
      "Total clock used for inferencing 10000 samples = 10000\n",
      "Accuracy using state machine = 0.0985\n",
      "------------------\n",
      "Total clock used for inferencing 10000 samples = 10000\n",
      "Accuracy using state machine = 0.0984\n",
      "------------------\n",
      "Total clock used for inferencing 10000 samples = 10000\n",
      "Accuracy using state machine = 0.0936\n",
      "------------------\n",
      "Total clock used for inferencing 10000 samples = 10000\n",
      "Accuracy using state machine = 0.1003\n",
      "------------------\n",
      "Total clock used for inferencing 10000 samples = 10000\n",
      "Accuracy using state machine = 0.0967\n",
      "------------------\n",
      "Total clock used for inferencing 10000 samples = 10000\n",
      "Accuracy using state machine = 0.1507\n",
      "------------------\n",
      "Total clock used for inferencing 10000 samples = 10000\n",
      "Accuracy using state machine = 0.1004\n",
      "------------------\n",
      "Total clock used for inferencing 10000 samples = 10000\n",
      "Accuracy using state machine = 0.0971\n",
      "------------------\n",
      "Total clock used for inferencing 10000 samples = 10000\n",
      "Accuracy using state machine = 0.0951\n",
      "------------------\n",
      "Total clock used for inferencing 10000 samples = 20000\n",
      "Accuracy using state machine = 0.0973\n",
      "------------------\n",
      "Total clock used for inferencing 10000 samples = 10000\n",
      "Accuracy using state machine = 0.0946\n",
      "------------------\n",
      "Total clock used for inferencing 10000 samples = 10000\n",
      "Accuracy using state machine = 0.0947\n",
      "------------------\n",
      "Total clock used for inferencing 10000 samples = 10000\n",
      "Accuracy using state machine = 0.1347\n",
      "------------------\n",
      "Total clock used for inferencing 10000 samples = 10000\n",
      "Accuracy using state machine = 0.101\n",
      "------------------\n",
      "Total clock used for inferencing 10000 samples = 10000\n",
      "Accuracy using state machine = 0.1002\n",
      "------------------\n",
      "Total clock used for inferencing 10000 samples = 10000\n",
      "Accuracy using state machine = 0.1013\n",
      "------------------\n",
      "Total clock used for inferencing 10000 samples = 10000\n",
      "Accuracy using state machine = 0.0964\n",
      "------------------\n",
      "Total clock used for inferencing 10000 samples = 10000\n",
      "Accuracy using state machine = 0.0991\n",
      "------------------\n",
      "Total clock used for inferencing 10000 samples = 10000\n",
      "Accuracy using state machine = 0.1006\n",
      "------------------\n",
      "Total clock used for inferencing 10000 samples = 10000\n",
      "Accuracy using state machine = 0.1727\n",
      "------------------\n",
      "Total clock used for inferencing 10000 samples = 10000\n",
      "Accuracy using state machine = 0.0919\n",
      "------------------\n",
      "Total clock used for inferencing 10000 samples = 10000\n",
      "Accuracy using state machine = 0.0979\n",
      "------------------\n",
      "Total clock used for inferencing 10000 samples = 10000\n",
      "Accuracy using state machine = 0.1009\n",
      "------------------\n",
      "Total clock used for inferencing 10000 samples = 10000\n",
      "Accuracy using state machine = 0.1013\n",
      "------------------\n",
      "Total clock used for inferencing 10000 samples = 10000\n",
      "Accuracy using state machine = 0.1615\n",
      "------------------\n",
      "Total clock used for inferencing 10000 samples = 10000\n",
      "Accuracy using state machine = 0.1024\n",
      "------------------\n",
      "Total clock used for inferencing 10000 samples = 10000\n",
      "Accuracy using state machine = 0.0976\n",
      "------------------\n",
      "Total clock used for inferencing 10000 samples = 20000\n",
      "Accuracy using state machine = 0.0995\n",
      "------------------\n",
      "Total clock used for inferencing 10000 samples = 10000\n",
      "Accuracy using state machine = 0.1366\n",
      "------------------\n",
      "Total clock used for inferencing 10000 samples = 10000\n",
      "Accuracy using state machine = 0.1627\n",
      "------------------\n",
      "Total clock used for inferencing 10000 samples = 10000\n",
      "Accuracy using state machine = 0.0908\n",
      "------------------\n",
      "Total clock used for inferencing 10000 samples = 10000\n",
      "Accuracy using state machine = 0.1015\n",
      "------------------\n",
      "Total clock used for inferencing 10000 samples = 10000\n",
      "Accuracy using state machine = 0.0999\n",
      "------------------\n",
      "Total clock used for inferencing 10000 samples = 10000\n",
      "Accuracy using state machine = 0.0973\n",
      "------------------\n",
      "Total clock used for inferencing 10000 samples = 10000\n",
      "Accuracy using state machine = 0.1029\n",
      "------------------\n",
      "Total clock used for inferencing 10000 samples = 10000\n",
      "Accuracy using state machine = 0.1006\n",
      "------------------\n",
      "Total clock used for inferencing 10000 samples = 10000\n",
      "Accuracy using state machine = 0.0976\n",
      "------------------\n",
      "Total clock used for inferencing 10000 samples = 10000\n",
      "Accuracy using state machine = 0.093\n",
      "------------------\n",
      "Total clock used for inferencing 10000 samples = 20000\n",
      "Accuracy using state machine = 0.1028\n",
      "------------------\n",
      "Total clock used for inferencing 10000 samples = 10000\n",
      "Accuracy using state machine = 0.0823\n",
      "------------------\n",
      "Total clock used for inferencing 10000 samples = 10000\n",
      "Accuracy using state machine = 0.1024\n",
      "------------------\n",
      "Total clock used for inferencing 10000 samples = 10000\n",
      "Accuracy using state machine = 0.0976\n",
      "------------------\n"
     ]
    },
    {
     "name": "stdout",
     "output_type": "stream",
     "text": [
      "Total clock used for inferencing 10000 samples = 10000\n",
      "Accuracy using state machine = 0.1443\n",
      "------------------\n",
      "Total clock used for inferencing 10000 samples = 10000\n",
      "Accuracy using state machine = 0.1342\n",
      "------------------\n",
      "Total clock used for inferencing 10000 samples = 10000\n",
      "Accuracy using state machine = 0.1044\n",
      "------------------\n",
      "Total clock used for inferencing 10000 samples = 10000\n",
      "Accuracy using state machine = 0.1017\n",
      "------------------\n",
      "Total clock used for inferencing 10000 samples = 10000\n",
      "Accuracy using state machine = 0.1527\n",
      "------------------\n",
      "Total clock used for inferencing 10000 samples = 10000\n",
      "Accuracy using state machine = 0.0967\n",
      "------------------\n",
      "Total clock used for inferencing 10000 samples = 10000\n",
      "Accuracy using state machine = 0.0971\n",
      "------------------\n",
      "Total clock used for inferencing 10000 samples = 10000\n",
      "Accuracy using state machine = 0.1022\n",
      "------------------\n",
      "Total clock used for inferencing 10000 samples = 20000\n",
      "Accuracy using state machine = 0.1475\n",
      "------------------\n",
      "Total clock used for inferencing 10000 samples = 10000\n",
      "Accuracy using state machine = 0.0993\n",
      "------------------\n",
      "Total clock used for inferencing 10000 samples = 10000\n",
      "Accuracy using state machine = 0.1532\n",
      "------------------\n",
      "Total clock used for inferencing 10000 samples = 10000\n",
      "Accuracy using state machine = 0.0987\n",
      "------------------\n",
      "Total clock used for inferencing 10000 samples = 20000\n",
      "Accuracy using state machine = 0.1321\n",
      "------------------\n",
      "Total clock used for inferencing 10000 samples = 25247\n",
      "Accuracy using state machine = 0.1003\n",
      "------------------\n",
      "Total clock used for inferencing 10000 samples = 10000\n",
      "Accuracy using state machine = 0.1027\n",
      "------------------\n",
      "Total clock used for inferencing 10000 samples = 35964\n",
      "Accuracy using state machine = 0.1033\n",
      "------------------\n",
      "Total clock used for inferencing 10000 samples = 10000\n",
      "Accuracy using state machine = 0.1096\n",
      "------------------\n",
      "Total clock used for inferencing 10000 samples = 27094\n",
      "Accuracy using state machine = 0.096\n",
      "------------------\n",
      "Total clock used for inferencing 10000 samples = 10000\n",
      "Accuracy using state machine = 0.1032\n",
      "------------------\n",
      "Total clock used for inferencing 10000 samples = 10000\n",
      "Accuracy using state machine = 0.0952\n",
      "------------------\n",
      "Total clock used for inferencing 10000 samples = 10000\n",
      "Accuracy using state machine = 0.0997\n",
      "------------------\n",
      "Total clock used for inferencing 10000 samples = 10000\n",
      "Accuracy using state machine = 0.0992\n",
      "------------------\n",
      "Total clock used for inferencing 10000 samples = 10000\n",
      "Accuracy using state machine = 0.0962\n",
      "------------------\n"
     ]
    }
   ],
   "source": [
    "def state_encoding_dict_generator(wrong_key_decimal):\n",
    "    decimal_correct_secret_key = wrong_key_decimal\n",
    "    Extracted_bin_correct_secret_key=''.join(convert_to_fixed_bit_binary(decimal_correct_secret_key, 8))\n",
    "    if last_chunk_size != 0:\n",
    "        Extracted_bin_correct_secret_key= Extracted_bin_correct_secret_key[:-8] + Extracted_bin_correct_secret_key[-8:][-last_chunk_size:]\n",
    "    max_number_of_bits = math.floor(math.log2(abs(max(state_labels)))) + 1\n",
    "    Extracted_state_labels = binary_stream_to_numbers(''.join(Extracted_bin_correct_secret_key), max_number_of_bits)\n",
    "    Extracted_encoded_label_dict = {}\n",
    "    for i,j in enumerate(Extracted_state_labels):\n",
    "        Extracted_encoded_label_dict[i] = j\n",
    "    return Extracted_encoded_label_dict\n",
    "\n",
    "def transition_encoding_dict_generator(wrong_key_decimal):\n",
    "    transition_decimal_correct_secret_key = wrong_key_decimal\n",
    "    Extracted_transition_bin_correct_secret_key=''.join(convert_to_fixed_bit_binary(transition_decimal_correct_secret_key, 8))\n",
    "    if transition_last_chunk_size != 0:\n",
    "        Extracted_transition_bin_correct_secret_key= Extracted_transition_bin_correct_secret_key[:-8] + Extracted_transition_bin_correct_secret_key[-8:][-transition_last_chunk_size:]\n",
    "    max_number_of_bits = math.floor(math.log2(abs(max(transition_label_dict.values())))) + 1\n",
    "    Extracted_transition_labels = binary_stream_to_numbers(''.join(Extracted_transition_bin_correct_secret_key), max_number_of_bits)\n",
    "    Extracted_transition_label_dict = {}\n",
    "    for i,j in enumerate(Extracted_transition_labels):\n",
    "        Extracted_transition_label_dict[i] = j\n",
    "    return Extracted_transition_label_dict\n",
    "\n",
    "\n",
    "import numpy as np\n",
    "import random\n",
    "iterations = 100\n",
    "len_key8bit_state = len(decimal_correct_secret_key)\n",
    "len_key8bit_transition = len(transition_decimal_correct_secret_key)\n",
    "Accuracy_history = []\n",
    "Num_clock_history = []\n",
    "for itr in range(iterations):\n",
    "    wrongkey_state_label = [random.randint(0, 255) for _ in range(len_key8bit_state)]\n",
    "    wrongkey_transition_label = [random.randint(0, 255) for _ in range(len_key8bit_transition)]   \n",
    "    Extracted_encoded_label_dict = state_encoding_dict_generator(wrongkey_state_label)\n",
    "    Extracted_transition_label_dict = transition_encoding_dict_generator(wrongkey_transition_label)\n",
    "    clock_counter = 0\n",
    "    Y_pred = []\n",
    "    for i,sample in enumerate(X_test):\n",
    "        inf_label, clock = Lockedinference_rate(sample, Extracted_encoded_label_dict, Extracted_transition_label_dict)\n",
    "        Y_pred.append(inf_label)\n",
    "        clock_counter = clock_counter + clock\n",
    "    Num_clock_history.append(clock_counter)\n",
    "    print(f'Total clock used for inferencing 10000 samples = {clock_counter}')\n",
    "    inferential_acc = accuracy_score(y_test, Y_pred)\n",
    "    Accuracy_history.append(inferential_acc)\n",
    "    print(f'Accuracy using state machine = {inferential_acc}')\n",
    "    print('------------------')"
   ]
  },
  {
   "cell_type": "code",
   "execution_count": 33,
   "id": "d1255067",
   "metadata": {},
   "outputs": [
    {
     "data": {
      "image/png": "[encoded data removed]",
      "text/plain": [
       "<Figure size 500x250 with 1 Axes>"
      ]
     },
     "metadata": {},
     "output_type": "display_data"
    },
    {
     "data": {
      "image/png": "[encoded data removed]",
      "text/plain": [
       "<Figure size 500x250 with 1 Axes>"
      ]
     },
     "metadata": {},
     "output_type": "display_data"
    }
   ],
   "source": [
    "import matplotlib.pyplot as plt\n",
    "import numpy as np\n",
    "\n",
    "c=['r','g','b','c','m']\n",
    "m=['s','o','v','^','.']\n",
    "fig, ax = plt.subplots(1,1,figsize=(5,2.5))\n",
    "ax.plot(np.arange(1,len(Accuracy_history)+1), [i*100 for i in Accuracy_history], linestyle=':', marker = '.' , color = c[0], fillstyle='none', label='Incorrect key')\n",
    "ax.plot(np.arange(1,len(Accuracy_history)+1), [correct_KEY_accuracy * 100] * len(Accuracy_history), linestyle=':', marker = '.' , color = c[1], fillstyle='none', label='Correct key')\n",
    "ax.grid(color='y', linestyle=':', linewidth=1)\n",
    "ax.set_title(f'Decision Tree Inference Accuracy.', fontsize=10)\n",
    "ax.set_yticks([0, 10, 20, 30, 40, 50, 60, 70, 80, 90])\n",
    "ax.set_ylabel('Accuracy (%)') \n",
    "ax.legend(ncol=2, framealpha=0.3, fontsize = 10)\n",
    "ax.set_xlabel('Iterations (1 to 100)', fontsize=10)\n",
    "ax.set_xticks(np.arange(0,101,10))\n",
    "ax.xaxis.set_tick_params(labelbottom=True)\n",
    "fig.tight_layout(pad=0.2)\n",
    "plt.savefig('DT_Accuracy_wrongkey.pdf')\n",
    "\n",
    "fig, ax = plt.subplots(1,1,figsize=(5,2.5))\n",
    "ax.plot(np.arange(1,len(Num_clock_history)+1), [i/10000 for i in Num_clock_history], linestyle=':', marker = '.' , color = c[0], fillstyle='none', label='Incorrect key')\n",
    "ax.plot(np.arange(1,len(Num_clock_history)+1), [correct_KEY_clock/10000] * len(Num_clock_history), linestyle=':', marker = '.' , color = c[1], fillstyle='none', label='Correct key')\n",
    "ax.grid(color='y', linestyle=':', linewidth=1)\n",
    "ax.set_title(f'Decision Tree Inference Rate.', fontsize=10)\n",
    "#ax.set_yticks([0, 10, 20, 30, 40, 50, 60, 70, 80, 90])\n",
    "ax.set_ylabel('No. of clocks per sample') \n",
    "ax.legend(ncol=2, framealpha=0.3, fontsize = 10)\n",
    "ax.set_xlabel('Iterations (1 to 100)', fontsize=10)\n",
    "ax.set_xticks(np.arange(0,101,10))\n",
    "ax.xaxis.set_tick_params(labelbottom=True)\n",
    "fig.tight_layout(pad=0.2)\n",
    "plt.savefig('DT_Inference_rate_wrongkey.pdf')"
   ]
  },
  {
   "cell_type": "markdown",
   "id": "ea8f8233",
   "metadata": {},
   "source": [
    "#### Mix of right and wrong key."
   ]
  },
  {
   "cell_type": "code",
   "execution_count": 36,
   "id": "a741bc94",
   "metadata": {},
   "outputs": [],
   "source": [
    "#Adding extra checks to get out of dead trap.\n",
    "with open('locked_mnist_dt_case_fsm.py', 'r') as f:\n",
    "    py_fsm = f.readlines()\n",
    "    f.close()\n",
    "py_fsm[1] = py_fsm[1].replace('ml_inference_completed=0;', 'ml_inference_completed=0; state_eval_counter = 0;') \n",
    "py_fsm[2] = py_fsm[2].replace('Label == 10', 'Label == 10 or state_eval_counter < 10')\n",
    "py_fsm[3] = py_fsm[3].replace('  match state:\\n', '  state_eval_counter = state_eval_counter+1\\n' + '  match state:\\n')\n",
    "\n",
    "with open('Extreme_test_locked_mnist_dt_case_fsm.py', 'w') as f:\n",
    "    f.writelines(py_fsm)\n",
    "    f.close()        \n",
    "from Extreme_test_locked_mnist_dt_case_fsm import Lockedinference_rate"
   ]
  },
  {
   "cell_type": "code",
   "execution_count": null,
   "id": "dc74c499",
   "metadata": {
    "scrolled": true
   },
   "outputs": [
    {
     "name": "stdout",
     "output_type": "stream",
     "text": [
      "Processed for the correct key = 10.0%.\n"
     ]
    }
   ],
   "source": [
    "Accuracy_history = {}\n",
    "Num_clock_history = {}\n",
    "correct_key_percentage = [0.10, 0.20, 0.30, 0.40, 0.50, 0.60, 0.70, 0.80, 0.90]\n",
    "\n",
    "for mix_percentage in correct_key_percentage:\n",
    "    Accuracy_history[f'{mix_percentage}'] = []\n",
    "    Num_clock_history[f'{mix_percentage}'] = []\n",
    "    for itr in range(iterations):\n",
    "        wrongkey_state_label = [random.randint(0, 255) for _ in range(len_key8bit_state)]\n",
    "        wrongkey_transition_label = [random.randint(0, 255) for _ in range(len_key8bit_transition)] \n",
    "        \n",
    "        wrongkey_state_label[:int(mix_percentage*len(wrongkey_state_label))] = decimal_correct_secret_key[:int(mix_percentage*len(wrongkey_state_label))]\n",
    "        wrongkey_transition_label[:int(mix_percentage*len(wrongkey_transition_label))] = transition_decimal_correct_secret_key[:int(mix_percentage*len(wrongkey_transition_label))]\n",
    "        \n",
    "        Extracted_encoded_label_dict = state_encoding_dict_generator(wrongkey_state_label)\n",
    "        Extracted_transition_label_dict = transition_encoding_dict_generator(wrongkey_transition_label)\n",
    "        clock_counter = 0\n",
    "        Y_pred = []\n",
    "        for i,sample in enumerate(X_test):\n",
    "            inf_label, clock =  Lockedinference_rate(sample, Extracted_encoded_label_dict, Extracted_transition_label_dict)           \n",
    "            Y_pred.append(inf_label)\n",
    "            clock_counter = clock_counter + clock\n",
    "        Num_clock_history[f'{mix_percentage}'].append(clock_counter)\n",
    "        inferential_acc = accuracy_score(y_test, Y_pred)\n",
    "        Accuracy_history[f'{mix_percentage}'].append(inferential_acc)\n",
    "    print(f'Processed for the correct key = {mix_percentage*100}%.')"
   ]
  },
  {
   "cell_type": "code",
   "execution_count": null,
   "id": "118b5d45",
   "metadata": {},
   "outputs": [],
   "source": [
    "## TO DO: Inspect the output and plot a curve."
   ]
  },
  {
   "cell_type": "markdown",
   "id": "6a67e808",
   "metadata": {},
   "source": [
    "## The following cells work with correct unlocked model."
   ]
  },
  {
   "cell_type": "markdown",
   "id": "beeb4df2",
   "metadata": {},
   "source": [
    "#### Run the next experiments in Python version > 3.10 because 'case' statement is only avaiable after this python version. \n",
    "\n",
    "#### Next, called the function \"inference_rate\" from python file \"mnist_dt_case_fsm.py\".\n",
    "\n",
    "#### Remember that the while loop is added in the windows source code to mimic the clock and continuously run the state machine. "
   ]
  },
  {
   "cell_type": "code",
   "execution_count": 34,
   "id": "ed3defb0",
   "metadata": {},
   "outputs": [],
   "source": [
    "from mnist_dt_case_fsm import inference_rate"
   ]
  },
  {
   "cell_type": "code",
   "execution_count": 35,
   "id": "1da952d9",
   "metadata": {},
   "outputs": [
    {
     "name": "stdout",
     "output_type": "stream",
     "text": [
      "(50000, 784) (50000,) (10000, 784) (10000,)\n"
     ]
    }
   ],
   "source": [
    "import pickle\n",
    "with open('MNIST_dataset/MNIST_dataset.pkl', 'rb') as f:\n",
    "    X_train, y_train, X_test, y_test = pickle.load(f)\n",
    "print(X_train.shape, y_train.shape, X_test.shape, y_test.shape)"
   ]
  },
  {
   "cell_type": "code",
   "execution_count": 36,
   "id": "106478e3",
   "metadata": {},
   "outputs": [],
   "source": [
    "clock_counter = 0\n",
    "Y_pred = []\n",
    "for i,sample in enumerate(X_test):\n",
    "    inf_label, clock = inference_rate(sample)\n",
    "    Y_pred.append(inf_label)\n",
    "    clock_counter = clock_counter + clock"
   ]
  },
  {
   "cell_type": "code",
   "execution_count": 37,
   "id": "e49b233b",
   "metadata": {},
   "outputs": [
    {
     "name": "stdout",
     "output_type": "stream",
     "text": [
      "Total clock used for inferencing 10000 samples = 79995\n"
     ]
    }
   ],
   "source": [
    "print(f'Total clock used for inferencing 10000 samples = {clock_counter}')"
   ]
  },
  {
   "cell_type": "code",
   "execution_count": 38,
   "id": "0d2e8eaf",
   "metadata": {},
   "outputs": [
    {
     "name": "stdout",
     "output_type": "stream",
     "text": [
      "Accuracy using state machine = 0.8239\n"
     ]
    }
   ],
   "source": [
    "#Verify that the accuracy measured after state-machine inference is same as given by sklearn model.\n",
    "from sklearn.metrics import accuracy_score\n",
    "print(f'Accuracy using state machine = {accuracy_score(y_test, Y_pred)}')"
   ]
  },
  {
   "cell_type": "code",
   "execution_count": 39,
   "id": "3efb4923",
   "metadata": {},
   "outputs": [
    {
     "name": "stdout",
     "output_type": "stream",
     "text": [
      "7.9995\n"
     ]
    }
   ],
   "source": [
    "#Sequential circuit using finite state machine\n",
    "#Average clock used per sample\n",
    "Average_clock_per_sample = clock_counter/len(X_test)\n",
    "\n",
    "print(Average_clock_per_sample)"
   ]
  },
  {
   "cell_type": "code",
   "execution_count": 40,
   "id": "c6535167",
   "metadata": {},
   "outputs": [
    {
     "name": "stdout",
     "output_type": "stream",
     "text": [
      "Inference time used per sample when operate at 12MHz =  0.666625 micro sec.\n",
      "Inference per sec =  1500094\n"
     ]
    }
   ],
   "source": [
    "clock_period = 1/12000000 # 12 MHz\n",
    "time_per_sample = Average_clock_per_sample *  clock_period * 1000000\n",
    "print('Inference time used per sample when operate at 12MHz = ',time_per_sample, 'micro sec.' ) \n",
    "print('Inference per sec = ', round(1000000/time_per_sample))"
   ]
  },
  {
   "cell_type": "code",
   "execution_count": null,
   "id": "f9b4d2a4",
   "metadata": {},
   "outputs": [],
   "source": []
  }
 ],
 "metadata": {
  "kernelspec": {
   "display_name": "Python 3 (ipykernel)",
   "language": "python",
   "name": "python3"
  },
  "language_info": {
   "codemirror_mode": {
    "name": "ipython",
    "version": 3
   },
   "file_extension": ".py",
   "mimetype": "text/x-python",
   "name": "python",
   "nbconvert_exporter": "python",
   "pygments_lexer": "ipython3",
   "version": "3.11.2"
  }
 },
 "nbformat": 4,
 "nbformat_minor": 5
}
